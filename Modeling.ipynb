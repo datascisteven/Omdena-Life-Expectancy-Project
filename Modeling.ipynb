{
 "cells": [
  {
   "cell_type": "markdown",
   "metadata": {},
   "source": [
    "# Importing Packages"
   ]
  },
  {
   "cell_type": "code",
   "execution_count": 2,
   "metadata": {},
   "outputs": [],
   "source": [
    "import pandas as pd\n",
    "import numpy as np\n",
    "from sklearn.model_selection import train_test_split, RandomizedSearchCV\n",
    "from sklearn.ensemble import RandomForestRegressor\n",
    "from sklearn.metrics import mean_squared_error, r2_score\n",
    "from sklearn.impute import SimpleImputer\n",
    "from sklearn.compose import ColumnTransformer\n",
    "from sklearn.linear_model import LinearRegression\n",
    "from sklearn.pipeline import Pipeline\n",
    "from sklearn.linear_model import Ridge\n",
    "from scipy.stats import uniform, randint\n",
    "from sklearn.exceptions import FitFailedWarning\n",
    "\n",
    "import xgboost as xgb\n",
    "\n",
    "import warnings\n",
    "warnings.filterwarnings(\"ignore\", category=FitFailedWarning)\n",
    "\n",
    "from matplotlib import pyplot as plt\n",
    "%matplotlib inline\n",
    "plt.style.use(\"fivethirtyeight\")\n",
    "\n",
    "from sklearn.preprocessing import StandardScaler\n",
    "from sklearn.decomposition import PCA\n",
    "from sklearn.metrics import calinski_harabasz_score\n",
    "from sklearn.cluster import KMeans, AgglomerativeClustering\n"
   ]
  },
  {
   "cell_type": "markdown",
   "metadata": {},
   "source": [
    "# Data Preprocessing"
   ]
  },
  {
   "cell_type": "code",
   "execution_count": 49,
   "metadata": {},
   "outputs": [],
   "source": [
    "df = pd.read_csv(\n",
    "    \"data/chr_census_2010_2024_cleaned.csv\",\n",
    "    index_col=0,\n",
    "    dtype={\n",
    "        \"geo_code\": str,\n",
    "        \"state_fips\": str,\n",
    "        \"year\": int,\n",
    "        \"pop_quantiles_by_year\": str,\n",
    "        \"income_quantiles_by_year\": str,\n",
    "    },\n",
    ")\n",
    "\n",
    "\n",
    "# Select columns\n",
    "geo = df[\n",
    "    [\n",
    "        \"geo_code\",\n",
    "        \"year\",\n",
    "        \"geo_full_name\",\n",
    "        \"geo_name\",\n",
    "        \"state\",\n",
    "        \"state_code\",\n",
    "        \"state_fips\",\n",
    "        \"region\",\n",
    "        \"division\",\n",
    "        \"income_quantiles_by_year\",\n",
    "        \"pop_quantiles_by_year\",\n",
    "    ]\n",
    "]\n",
    "numeric_df = df.select_dtypes(include=[np.number])\n",
    "X = numeric_df.drop(columns=[\"life_expectancy\", \"year\"], axis=1)\n",
    "y = df[\"life_expectancy\"]\n",
    "\n",
    "# Preprocessing for numeric data\n",
    "numeric_transformer = Pipeline(\n",
    "    steps=[\n",
    "        (\"imputer\", SimpleImputer(strategy=\"mean\")),\n",
    "        (\"scaler\", StandardScaler()),  # Standardization step added here\n",
    "    ]\n",
    ")\n",
    "\n",
    "# Bundle preprocessing for numerical data\n",
    "preprocessor = ColumnTransformer(transformers=[(\"num\", numeric_transformer, X.columns)])"
   ]
  },
  {
   "cell_type": "markdown",
   "metadata": {},
   "source": [
    "# Modeling"
   ]
  },
  {
   "cell_type": "markdown",
   "metadata": {},
   "source": [
    "## Linear Regression"
   ]
  },
  {
   "cell_type": "code",
   "execution_count": 34,
   "metadata": {},
   "outputs": [
    {
     "name": "stdout",
     "output_type": "stream",
     "text": [
      "RMSE: 1.1864973971802315\n",
      "R²: 0.8267799447388954\n"
     ]
    }
   ],
   "source": [
    "# Split data into training and test sets\n",
    "X_train, X_test, y_train, y_test = train_test_split(\n",
    "    X, y, test_size=0.2, random_state=42\n",
    ")\n",
    "\n",
    "# Define the pipeline\n",
    "model_lr = Pipeline(\n",
    "    steps=[(\"preprocessor\", preprocessor), (\"regressor\", LinearRegression())]\n",
    ")\n",
    "\n",
    "# Train the model\n",
    "model_lr.fit(X_train, y_train)\n",
    "\n",
    "# Predict and evaluate\n",
    "y_pred_lr = model_lr.predict(X_test)\n",
    "rmse_lr = np.sqrt(mean_squared_error(y_test, y_pred_lr))\n",
    "r2_lr = r2_score(y_test, y_pred_lr)\n",
    "\n",
    "print(f\"RMSE: {rmse_lr}\")\n",
    "print(f\"R²: {r2_lr}\")"
   ]
  },
  {
   "cell_type": "code",
   "execution_count": 36,
   "metadata": {},
   "outputs": [
    {
     "name": "stdout",
     "output_type": "stream",
     "text": [
      "Fitting 5 folds for each of 50 candidates, totalling 250 fits\n",
      "Best hyperparameters: {'alpha': 9.799098521619943}\n"
     ]
    }
   ],
   "source": [
    "X_train, X_test, y_train, y_test = train_test_split(X, y, test_size=0.2, random_state=42)\n",
    "ridge_model = Ridge(random_state=42)\n",
    "param_dist = {\n",
    "    'alpha': uniform(0.1, 10)  # Test alpha values between 0.1 and 10\n",
    "}\n",
    "random_search = RandomizedSearchCV(\n",
    "    estimator=ridge_model,\n",
    "    param_distributions=param_dist,\n",
    "    n_iter=50,  # Number of random parameter combinations to try\n",
    "    cv=5,       # 5-fold cross-validation\n",
    "    verbose=2,\n",
    "    random_state=42,\n",
    "    n_jobs=-1   # Use all available cores for computation\n",
    ")\n",
    "\n",
    "model_ridge = Pipeline(steps=[\n",
    "    ('preprocessor', preprocessor),\n",
    "    ('random_search', random_search)\n",
    "])\n",
    "model_ridge.fit(X_train, y_train)\n",
    "\n",
    "best_params_ridge = model_ridge.named_steps['random_search'].best_params_\n",
    "print(f\"Best hyperparameters: {best_params_ridge}\")"
   ]
  },
  {
   "cell_type": "code",
   "execution_count": 37,
   "metadata": {},
   "outputs": [
    {
     "name": "stdout",
     "output_type": "stream",
     "text": [
      "RMSE: 1.1864829418386251\n",
      "R²: 0.8267841654642416\n"
     ]
    }
   ],
   "source": [
    "# 11. Make predictions on the test set\n",
    "y_pred_ridge = model_ridge.predict(X_test)\n",
    "\n",
    "# 12. Evaluate the model\n",
    "rmse_ridge = np.sqrt(mean_squared_error(y_test, y_pred_ridge))\n",
    "r2_ridge = r2_score(y_test, y_pred_ridge)\n",
    "\n",
    "print(f\"RMSE: {rmse_ridge}\")\n",
    "print(f\"R²: {r2_ridge}\")"
   ]
  },
  {
   "cell_type": "markdown",
   "metadata": {},
   "source": [
    "## Random Forest Regressor with Feature Selection"
   ]
  },
  {
   "cell_type": "code",
   "execution_count": 38,
   "metadata": {},
   "outputs": [
    {
     "name": "stdout",
     "output_type": "stream",
     "text": [
      "RMSE: 0.9052046875470214\n",
      "R²: 0.899177332939151\n"
     ]
    }
   ],
   "source": [
    "X_train, X_test, y_train, y_test = train_test_split(X, y, test_size=0.2, random_state=42)\n",
    "\n",
    "model_rf = Pipeline(steps=[\n",
    "    ('preprocessor', preprocessor),\n",
    "    ('regressor', RandomForestRegressor(n_estimators=100, random_state=42))\n",
    "])\n",
    "\n",
    "model_rf.fit(X_train, y_train)\n",
    "\n",
    "y_pred_rf = model_rf.predict(X_test)\n",
    "\n",
    "rmse_rf = np.sqrt(mean_squared_error(y_test, y_pred_rf))\n",
    "r2_rf = r2_score(y_test, y_pred_rf)\n",
    "\n",
    "print(f\"RMSE: {rmse_rf}\")\n",
    "print(f\"R²: {r2_rf}\")"
   ]
  },
  {
   "cell_type": "code",
   "execution_count": 39,
   "metadata": {},
   "outputs": [
    {
     "data": {
      "text/html": [
       "<div>\n",
       "<style scoped>\n",
       "    .dataframe tbody tr th:only-of-type {\n",
       "        vertical-align: middle;\n",
       "    }\n",
       "\n",
       "    .dataframe tbody tr th {\n",
       "        vertical-align: top;\n",
       "    }\n",
       "\n",
       "    .dataframe thead th {\n",
       "        text-align: right;\n",
       "    }\n",
       "</style>\n",
       "<table border=\"1\" class=\"dataframe\">\n",
       "  <thead>\n",
       "    <tr style=\"text-align: right;\">\n",
       "      <th></th>\n",
       "      <th>feature</th>\n",
       "      <th>importance</th>\n",
       "    </tr>\n",
       "  </thead>\n",
       "  <tbody>\n",
       "    <tr>\n",
       "      <th>31</th>\n",
       "      <td>premature_death</td>\n",
       "      <td>0.743348</td>\n",
       "    </tr>\n",
       "    <tr>\n",
       "      <th>8</th>\n",
       "      <td>driving_alone_to_work</td>\n",
       "      <td>0.023343</td>\n",
       "    </tr>\n",
       "    <tr>\n",
       "      <th>14</th>\n",
       "      <td>insufficient_sleep</td>\n",
       "      <td>0.022059</td>\n",
       "    </tr>\n",
       "    <tr>\n",
       "      <th>0</th>\n",
       "      <td>adult_obesity</td>\n",
       "      <td>0.015102</td>\n",
       "    </tr>\n",
       "    <tr>\n",
       "      <th>4</th>\n",
       "      <td>college_completion</td>\n",
       "      <td>0.014752</td>\n",
       "    </tr>\n",
       "    <tr>\n",
       "      <th>21</th>\n",
       "      <td>pct_65_and_older</td>\n",
       "      <td>0.012688</td>\n",
       "    </tr>\n",
       "    <tr>\n",
       "      <th>32</th>\n",
       "      <td>preventable_hospital_stays</td>\n",
       "      <td>0.009577</td>\n",
       "    </tr>\n",
       "    <tr>\n",
       "      <th>23</th>\n",
       "      <td>pct_female</td>\n",
       "      <td>0.008287</td>\n",
       "    </tr>\n",
       "    <tr>\n",
       "      <th>43</th>\n",
       "      <td>poor_health</td>\n",
       "      <td>0.007554</td>\n",
       "    </tr>\n",
       "    <tr>\n",
       "      <th>2</th>\n",
       "      <td>air_pollution_particulate_matter</td>\n",
       "      <td>0.007521</td>\n",
       "    </tr>\n",
       "    <tr>\n",
       "      <th>33</th>\n",
       "      <td>severe_housing_problems</td>\n",
       "      <td>0.006947</td>\n",
       "    </tr>\n",
       "    <tr>\n",
       "      <th>6</th>\n",
       "      <td>diabetes_prevalence</td>\n",
       "      <td>0.005970</td>\n",
       "    </tr>\n",
       "    <tr>\n",
       "      <th>35</th>\n",
       "      <td>single_parent_households</td>\n",
       "      <td>0.005888</td>\n",
       "    </tr>\n",
       "    <tr>\n",
       "      <th>17</th>\n",
       "      <td>median_household_income</td>\n",
       "      <td>0.005341</td>\n",
       "    </tr>\n",
       "    <tr>\n",
       "      <th>36</th>\n",
       "      <td>social_associations</td>\n",
       "      <td>0.005233</td>\n",
       "    </tr>\n",
       "    <tr>\n",
       "      <th>16</th>\n",
       "      <td>mammography_screening</td>\n",
       "      <td>0.005148</td>\n",
       "    </tr>\n",
       "    <tr>\n",
       "      <th>25</th>\n",
       "      <td>pct_hispanic</td>\n",
       "      <td>0.005072</td>\n",
       "    </tr>\n",
       "    <tr>\n",
       "      <th>30</th>\n",
       "      <td>pct_under_18</td>\n",
       "      <td>0.005061</td>\n",
       "    </tr>\n",
       "    <tr>\n",
       "      <th>15</th>\n",
       "      <td>low_birthweight</td>\n",
       "      <td>0.004820</td>\n",
       "    </tr>\n",
       "    <tr>\n",
       "      <th>10</th>\n",
       "      <td>frequent_mental_distress</td>\n",
       "      <td>0.004688</td>\n",
       "    </tr>\n",
       "  </tbody>\n",
       "</table>\n",
       "</div>"
      ],
      "text/plain": [
       "                             feature  importance\n",
       "31                   premature_death    0.743348\n",
       "8              driving_alone_to_work    0.023343\n",
       "14                insufficient_sleep    0.022059\n",
       "0                      adult_obesity    0.015102\n",
       "4                 college_completion    0.014752\n",
       "21                  pct_65_and_older    0.012688\n",
       "32        preventable_hospital_stays    0.009577\n",
       "23                        pct_female    0.008287\n",
       "43                       poor_health    0.007554\n",
       "2   air_pollution_particulate_matter    0.007521\n",
       "33           severe_housing_problems    0.006947\n",
       "6                diabetes_prevalence    0.005970\n",
       "35          single_parent_households    0.005888\n",
       "17           median_household_income    0.005341\n",
       "36               social_associations    0.005233\n",
       "16             mammography_screening    0.005148\n",
       "25                      pct_hispanic    0.005072\n",
       "30                      pct_under_18    0.005061\n",
       "15                   low_birthweight    0.004820\n",
       "10          frequent_mental_distress    0.004688"
      ]
     },
     "execution_count": 39,
     "metadata": {},
     "output_type": "execute_result"
    }
   ],
   "source": [
    "rf = model_rf.named_steps['regressor']  # Get the RandomForestRegressor part\n",
    "importance_rf = rf.feature_importances_\n",
    "\n",
    "rf_df = pd.DataFrame(zip(X.columns, importance_rf), columns=['feature', 'importance'])\n",
    "rf_sorted = rf_df.sort_values(by='importance', ascending=False)\n",
    "rf_sorted.head(20)"
   ]
  },
  {
   "cell_type": "markdown",
   "metadata": {},
   "source": [
    "## Random Forest with RandomizedSearchCV"
   ]
  },
  {
   "cell_type": "code",
   "execution_count": 40,
   "metadata": {},
   "outputs": [
    {
     "name": "stdout",
     "output_type": "stream",
     "text": [
      "Fitting 5 folds for each of 50 candidates, totalling 250 fits\n"
     ]
    },
    {
     "name": "stderr",
     "output_type": "stream",
     "text": [
      "/Users/datascisteven/miniconda3/envs/ml-env/lib/python3.8/site-packages/sklearn/model_selection/_search.py:976: UserWarning: One or more of the test scores are non-finite: [       nan 0.83337244        nan 0.7481537  0.86079607 0.65964032\n",
      " 0.86994121        nan 0.84597932 0.85566137 0.69562433 0.87380367\n",
      " 0.84104262 0.77764253 0.70858252 0.85250574        nan        nan\n",
      "        nan 0.85967561        nan 0.83606653        nan 0.78660417\n",
      " 0.63884873        nan 0.81787716        nan        nan 0.77515447\n",
      " 0.86191935 0.82468535 0.70606978 0.85842882        nan        nan\n",
      " 0.82813315 0.64106978        nan 0.85873507        nan 0.8790604\n",
      "        nan        nan 0.76569916        nan 0.86318906        nan\n",
      " 0.76422196        nan]\n",
      "  warnings.warn(\n"
     ]
    },
    {
     "name": "stdout",
     "output_type": "stream",
     "text": [
      "Best hyperparameters: {'max_depth': 19, 'max_features': 'sqrt', 'min_samples_leaf': 2, 'min_samples_split': 5, 'n_estimators': 153}\n"
     ]
    }
   ],
   "source": [
    "X_train, X_test, y_train, y_test = train_test_split(X, y, test_size=0.2, random_state=42)\n",
    "\n",
    "rf = RandomForestRegressor(random_state=42)\n",
    "\n",
    "param_dist = {\n",
    "    'n_estimators': randint(100, 500),        # Number of trees\n",
    "    'max_depth': randint(3, 20),              # Maximum depth of trees\n",
    "    'min_samples_split': randint(2, 10),      # Minimum samples to split a node\n",
    "    'min_samples_leaf': randint(1, 10),       # Minimum samples in a leaf node\n",
    "    'max_features': ['auto', 'sqrt', 'log2']  # Number of features to consider at each split\n",
    "}\n",
    "\n",
    "random_search = RandomizedSearchCV(\n",
    "    estimator=rf,\n",
    "    param_distributions=param_dist,\n",
    "    n_iter=50,  # Number of parameter settings to sample\n",
    "    cv=5,  # 5-fold cross-validation\n",
    "    verbose=2,  # Display progress\n",
    "    random_state=42,\n",
    "    n_jobs=-1  # Use all available cores\n",
    ")\n",
    "\n",
    "model_rf_rs = Pipeline(steps=[\n",
    "    ('preprocessor', preprocessor),\n",
    "    ('random_search', random_search)\n",
    "])\n",
    "\n",
    "model_rf_rs.fit(X_train, y_train)\n",
    "\n",
    "best_params = model_rf_rs.named_steps['random_search'].best_params_\n",
    "print(f\"Best hyperparameters: {best_params}\")"
   ]
  },
  {
   "cell_type": "code",
   "execution_count": 41,
   "metadata": {},
   "outputs": [
    {
     "name": "stdout",
     "output_type": "stream",
     "text": [
      "RMSE: 0.9694838545828962\n",
      "R²: 0.8843499686250519\n"
     ]
    }
   ],
   "source": [
    "y_pred_rf_rs = model_rf_rs.predict(X_test)\n",
    "\n",
    "rmse_rf_rs = np.sqrt(mean_squared_error(y_test, y_pred_rf_rs))\n",
    "r2_rf_rs = r2_score(y_test, y_pred_rf_rs)\n",
    "\n",
    "print(f\"RMSE: {rmse_rf_rs}\")\n",
    "print(f\"R²: {r2_rf_rs}\")"
   ]
  },
  {
   "cell_type": "markdown",
   "metadata": {},
   "source": [
    "## XGBoost Model with Feature Selection"
   ]
  },
  {
   "cell_type": "code",
   "execution_count": 42,
   "metadata": {},
   "outputs": [
    {
     "name": "stdout",
     "output_type": "stream",
     "text": [
      "RMSE: 0.8962882772611271\n",
      "R²: 0.9011537891998616\n"
     ]
    }
   ],
   "source": [
    "X_train, X_test, y_train, y_test = train_test_split(X, y, test_size=0.2, random_state=42)\n",
    "\n",
    "model_xgb = Pipeline(steps=[\n",
    "    ('preprocessor', preprocessor),\n",
    "    ('regressor', xgb.XGBRegressor(n_estimators=100, learning_rate=0.1, random_state=42))\n",
    "])\n",
    "\n",
    "model_xgb.fit(X_train, y_train)\n",
    "2\n",
    "y_pred_xgb = model_xgb.predict(X_test)\n",
    "\n",
    "rmse_xgb = np.sqrt(mean_squared_error(y_test, y_pred_xgb))\n",
    "r2_xgb = r2_score(y_test, y_pred_xgb)\n",
    "\n",
    "print(f\"RMSE: {rmse_xgb}\")\n",
    "print(f\"R²: {r2_xgb}\")"
   ]
  },
  {
   "cell_type": "code",
   "execution_count": 43,
   "metadata": {},
   "outputs": [
    {
     "data": {
      "text/html": [
       "<div>\n",
       "<style scoped>\n",
       "    .dataframe tbody tr th:only-of-type {\n",
       "        vertical-align: middle;\n",
       "    }\n",
       "\n",
       "    .dataframe tbody tr th {\n",
       "        vertical-align: top;\n",
       "    }\n",
       "\n",
       "    .dataframe thead th {\n",
       "        text-align: right;\n",
       "    }\n",
       "</style>\n",
       "<table border=\"1\" class=\"dataframe\">\n",
       "  <thead>\n",
       "    <tr style=\"text-align: right;\">\n",
       "      <th></th>\n",
       "      <th>feature</th>\n",
       "      <th>importance</th>\n",
       "    </tr>\n",
       "  </thead>\n",
       "  <tbody>\n",
       "    <tr>\n",
       "      <th>31</th>\n",
       "      <td>premature_death</td>\n",
       "      <td>0.566476</td>\n",
       "    </tr>\n",
       "    <tr>\n",
       "      <th>14</th>\n",
       "      <td>insufficient_sleep</td>\n",
       "      <td>0.039574</td>\n",
       "    </tr>\n",
       "    <tr>\n",
       "      <th>8</th>\n",
       "      <td>driving_alone_to_work</td>\n",
       "      <td>0.028514</td>\n",
       "    </tr>\n",
       "    <tr>\n",
       "      <th>43</th>\n",
       "      <td>poor_health</td>\n",
       "      <td>0.022342</td>\n",
       "    </tr>\n",
       "    <tr>\n",
       "      <th>35</th>\n",
       "      <td>single_parent_households</td>\n",
       "      <td>0.019634</td>\n",
       "    </tr>\n",
       "    <tr>\n",
       "      <th>4</th>\n",
       "      <td>college_completion</td>\n",
       "      <td>0.018334</td>\n",
       "    </tr>\n",
       "    <tr>\n",
       "      <th>0</th>\n",
       "      <td>adult_obesity</td>\n",
       "      <td>0.016001</td>\n",
       "    </tr>\n",
       "    <tr>\n",
       "      <th>32</th>\n",
       "      <td>preventable_hospital_stays</td>\n",
       "      <td>0.014611</td>\n",
       "    </tr>\n",
       "    <tr>\n",
       "      <th>21</th>\n",
       "      <td>pct_65_and_older</td>\n",
       "      <td>0.014543</td>\n",
       "    </tr>\n",
       "    <tr>\n",
       "      <th>33</th>\n",
       "      <td>severe_housing_problems</td>\n",
       "      <td>0.014494</td>\n",
       "    </tr>\n",
       "    <tr>\n",
       "      <th>39</th>\n",
       "      <td>uninsured_adults</td>\n",
       "      <td>0.013858</td>\n",
       "    </tr>\n",
       "    <tr>\n",
       "      <th>17</th>\n",
       "      <td>median_household_income</td>\n",
       "      <td>0.013194</td>\n",
       "    </tr>\n",
       "    <tr>\n",
       "      <th>10</th>\n",
       "      <td>frequent_mental_distress</td>\n",
       "      <td>0.012349</td>\n",
       "    </tr>\n",
       "    <tr>\n",
       "      <th>6</th>\n",
       "      <td>diabetes_prevalence</td>\n",
       "      <td>0.011908</td>\n",
       "    </tr>\n",
       "    <tr>\n",
       "      <th>23</th>\n",
       "      <td>pct_female</td>\n",
       "      <td>0.011808</td>\n",
       "    </tr>\n",
       "    <tr>\n",
       "      <th>25</th>\n",
       "      <td>pct_hispanic</td>\n",
       "      <td>0.011267</td>\n",
       "    </tr>\n",
       "    <tr>\n",
       "      <th>2</th>\n",
       "      <td>air_pollution_particulate_matter</td>\n",
       "      <td>0.009891</td>\n",
       "    </tr>\n",
       "    <tr>\n",
       "      <th>24</th>\n",
       "      <td>pct_finance_insurance_and_real_estate</td>\n",
       "      <td>0.008905</td>\n",
       "    </tr>\n",
       "    <tr>\n",
       "      <th>16</th>\n",
       "      <td>mammography_screening</td>\n",
       "      <td>0.008131</td>\n",
       "    </tr>\n",
       "    <tr>\n",
       "      <th>15</th>\n",
       "      <td>low_birthweight</td>\n",
       "      <td>0.007988</td>\n",
       "    </tr>\n",
       "  </tbody>\n",
       "</table>\n",
       "</div>"
      ],
      "text/plain": [
       "                                  feature  importance\n",
       "31                        premature_death    0.566476\n",
       "14                     insufficient_sleep    0.039574\n",
       "8                   driving_alone_to_work    0.028514\n",
       "43                            poor_health    0.022342\n",
       "35               single_parent_households    0.019634\n",
       "4                      college_completion    0.018334\n",
       "0                           adult_obesity    0.016001\n",
       "32             preventable_hospital_stays    0.014611\n",
       "21                       pct_65_and_older    0.014543\n",
       "33                severe_housing_problems    0.014494\n",
       "39                       uninsured_adults    0.013858\n",
       "17                median_household_income    0.013194\n",
       "10               frequent_mental_distress    0.012349\n",
       "6                     diabetes_prevalence    0.011908\n",
       "23                             pct_female    0.011808\n",
       "25                           pct_hispanic    0.011267\n",
       "2        air_pollution_particulate_matter    0.009891\n",
       "24  pct_finance_insurance_and_real_estate    0.008905\n",
       "16                  mammography_screening    0.008131\n",
       "15                        low_birthweight    0.007988"
      ]
     },
     "execution_count": 43,
     "metadata": {},
     "output_type": "execute_result"
    }
   ],
   "source": [
    "xgboost_model = model_xgb.named_steps['regressor']\n",
    "importance = xgboost_model.feature_importances_\n",
    "\n",
    "xgboost_df = pd.DataFrame(zip(X.columns, importance), columns=['feature', 'importance'])\n",
    "xgboost_sorted = xgboost_df.sort_values(by='importance', ascending=False)\n",
    "xgboost_sorted.head(20)"
   ]
  },
  {
   "cell_type": "markdown",
   "metadata": {},
   "source": [
    "## XGBoost (Extremely Gradient Boosting) with RandomizedSearchCV"
   ]
  },
  {
   "cell_type": "code",
   "execution_count": 44,
   "metadata": {},
   "outputs": [
    {
     "name": "stdout",
     "output_type": "stream",
     "text": [
      "Fitting 5 folds for each of 50 candidates, totalling 250 fits\n"
     ]
    },
    {
     "name": "stderr",
     "output_type": "stream",
     "text": [
      "/Users/datascisteven/miniconda3/envs/ml-env/lib/python3.8/site-packages/sklearn/model_selection/_search.py:976: UserWarning: One or more of the test scores are non-finite: [0.90073679 0.91764997        nan 0.9154141         nan        nan\n",
      "        nan        nan 0.90326804        nan        nan        nan\n",
      "        nan 0.90342126        nan        nan 0.89544522        nan\n",
      "        nan        nan 0.90208524        nan 0.90040531 0.90895302\n",
      "        nan        nan 0.89310264        nan        nan 0.90558771\n",
      " 0.89684103        nan        nan        nan        nan        nan\n",
      "        nan        nan 0.89505084        nan 0.90501096        nan\n",
      "        nan 0.87669811 0.89417156        nan 0.88936148 0.91086767\n",
      "        nan        nan]\n",
      "  warnings.warn(\n"
     ]
    },
    {
     "name": "stdout",
     "output_type": "stream",
     "text": [
      "Best hyperparameters: {'colsample_bytree': 0.8337086111390218, 'gamma': 0.7143340896097039, 'learning_rate': 0.20526654188465587, 'max_depth': 7, 'n_estimators': 869, 'reg_alpha': 0.7219987722668247, 'reg_lambda': 10.385527090157503, 'subsample': 0.5007787658410143}\n"
     ]
    }
   ],
   "source": [
    "X_train, X_test, y_train, y_test = train_test_split(X, y, test_size=0.2, random_state=42)\n",
    "xgboost_model = xgb.XGBRegressor(random_state=42, objective='reg:squarederror')\n",
    "\n",
    "param_dist = {\n",
    "    'n_estimators': randint(100, 1000),        # Number of boosting rounds (trees)\n",
    "    'max_depth': randint(3, 15),               # Maximum depth of each tree\n",
    "    'learning_rate': uniform(0.01, 0.3),       # Learning rate (step size)\n",
    "    'subsample': uniform(0.5, 1),              # Fraction of data to sample per tree\n",
    "    'colsample_bytree': uniform(0.5, 1),       # Fraction of features used per tree\n",
    "    'gamma': uniform(0, 5),                    # Minimum loss reduction for split\n",
    "    'reg_alpha': uniform(0, 1),                # L1 regularization term\n",
    "    'reg_lambda': uniform(1, 10)               # L2 regularization term\n",
    "}\n",
    "\n",
    "random_search = RandomizedSearchCV(\n",
    "    estimator=xgboost_model,\n",
    "    param_distributions=param_dist,\n",
    "    n_iter=50,  # Number of parameter settings to sample\n",
    "    cv=5,  # 5-fold cross-validation\n",
    "    verbose=2,  # Display progress\n",
    "    random_state=42,\n",
    "    n_jobs=-1  # Use all available cores\n",
    ")\n",
    "\n",
    "model_xgb_rs = Pipeline(steps=[\n",
    "    ('preprocessor', preprocessor),\n",
    "    ('random_search', random_search)\n",
    "])\n",
    "\n",
    "model_xgb_rs.fit(X_train, y_train)\n",
    "best_params = model_xgb_rs.named_steps['random_search'].best_params_\n",
    "print(f\"Best hyperparameters: {best_params}\")"
   ]
  },
  {
   "cell_type": "code",
   "execution_count": 45,
   "metadata": {},
   "outputs": [
    {
     "name": "stdout",
     "output_type": "stream",
     "text": [
      "RMSE: 0.7587947366583885\n",
      "R²: 0.9291543461809618\n"
     ]
    }
   ],
   "source": [
    "y_pred_xgb_rs = model_xgb_rs.predict(X_test)\n",
    "\n",
    "rmse_xgb_rs = np.sqrt(mean_squared_error(y_test, y_pred_xgb_rs))\n",
    "r2_xgb_rs = r2_score(y_test, y_pred_xgb_rs)\n",
    "\n",
    "print(f\"RMSE: {rmse_xgb_rs}\")\n",
    "print(f\"R²: {r2_xgb_rs}\")"
   ]
  },
  {
   "cell_type": "markdown",
   "metadata": {},
   "source": [
    "## Principal Component Analysis (PCA) Dimensionality Reduction"
   ]
  },
  {
   "cell_type": "code",
   "execution_count": 47,
   "metadata": {},
   "outputs": [
    {
     "name": "stdout",
     "output_type": "stream",
     "text": [
      "Fitting 5 folds for each of 50 candidates, totalling 250 fits\n",
      "Best hyperparameters: {'alpha': 9.799098521619943}\n"
     ]
    }
   ],
   "source": [
    "# Define preprocessing for numeric features (imputation + standardization + PCA)\n",
    "numeric_transformer = Pipeline(\n",
    "    steps=[\n",
    "        (\"imputer\", SimpleImputer(strategy=\"mean\")),\n",
    "        (\"scaler\", StandardScaler()),\n",
    "        (\"pca\", PCA(n_components=0.95)),  # Retain 95% of variance\n",
    "    ]\n",
    ")\n",
    "\n",
    "# Preprocessor for the numeric data\n",
    "preprocessor = ColumnTransformer(transformers=[(\"num\", numeric_transformer, X.columns)])\n",
    "\n",
    "# Split data into training and test sets\n",
    "X_train, X_test, y_train, y_test = train_test_split(\n",
    "    X, y, test_size=0.2, random_state=42\n",
    ")\n",
    "\n",
    "# Define Ridge regression model\n",
    "ridge_model = Ridge(random_state=42)\n",
    "\n",
    "# Hyperparameter distribution for RandomizedSearchCV\n",
    "param_dist = {\"alpha\": uniform(0.1, 10)}  # Test alpha values between 0.1 and 10\n",
    "\n",
    "# RandomizedSearchCV to tune Ridge hyperparameters\n",
    "random_search = RandomizedSearchCV(\n",
    "    estimator=ridge_model,\n",
    "    param_distributions=param_dist,\n",
    "    n_iter=50,  # Number of random parameter combinations to try\n",
    "    cv=5,  # 5-fold cross-validation\n",
    "    verbose=2,\n",
    "    random_state=42,\n",
    "    n_jobs=-1,  # Use all available cores for computation\n",
    ")\n",
    "\n",
    "# Create the pipeline\n",
    "model_ridge = Pipeline(\n",
    "    steps=[(\"preprocessor\", preprocessor), (\"random_search\", random_search)]\n",
    ")\n",
    "\n",
    "# Fit the model\n",
    "model_ridge.fit(X_train, y_train)\n",
    "\n",
    "# Extract and print the best hyperparameters\n",
    "best_params_ridge = model_ridge.named_steps[\"random_search\"].best_params_\n",
    "print(f\"Best hyperparameters: {best_params_ridge}\")\n"
   ]
  },
  {
   "cell_type": "code",
   "execution_count": 48,
   "metadata": {},
   "outputs": [
    {
     "name": "stdout",
     "output_type": "stream",
     "text": [
      "RMSE: 1.2629754501950006\n",
      "R²: 0.8037297793509952\n"
     ]
    }
   ],
   "source": [
    "# Make predictions and evaluate the model with the best parameters\n",
    "y_pred_ridge = model_ridge.predict(X_test)\n",
    "rmse_ridge = np.sqrt(mean_squared_error(y_test, y_pred_ridge))\n",
    "r2_ridge = r2_score(y_test, y_pred_ridge)\n",
    "\n",
    "print(f\"RMSE: {rmse_ridge}\")\n",
    "print(f\"R²: {r2_ridge}\")"
   ]
  },
  {
   "cell_type": "code",
   "execution_count": 46,
   "metadata": {},
   "outputs": [
    {
     "ename": "ValueError",
     "evalue": "n_components=50 must be between 0 and min(n_samples, n_features)=44 with svd_solver='full'",
     "output_type": "error",
     "traceback": [
      "\u001b[0;31m---------------------------------------------------------------------------\u001b[0m",
      "\u001b[0;31mValueError\u001b[0m                                Traceback (most recent call last)",
      "Cell \u001b[0;32mIn[46], line 10\u001b[0m\n\u001b[1;32m      8\u001b[0m \u001b[38;5;66;03m# 2. Apply PCA\u001b[39;00m\n\u001b[1;32m      9\u001b[0m pca \u001b[38;5;241m=\u001b[39m PCA(n_components\u001b[38;5;241m=\u001b[39m\u001b[38;5;241m50\u001b[39m)          \u001b[38;5;66;03m# Specify the number of principal components to retain\u001b[39;00m\n\u001b[0;32m---> 10\u001b[0m principalComponents \u001b[38;5;241m=\u001b[39m \u001b[43mpca\u001b[49m\u001b[38;5;241;43m.\u001b[39;49m\u001b[43mfit_transform\u001b[49m\u001b[43m(\u001b[49m\u001b[43mX_sc\u001b[49m\u001b[43m)\u001b[49m\n\u001b[1;32m     12\u001b[0m \u001b[38;5;66;03m# 3. Eigenvalues and Eigenvectors\u001b[39;00m\n\u001b[1;32m     13\u001b[0m eig_values \u001b[38;5;241m=\u001b[39m pca\u001b[38;5;241m.\u001b[39mexplained_variance_  \u001b[38;5;66;03m# Eigenvalues\u001b[39;00m\n",
      "File \u001b[0;32m~/miniconda3/envs/ml-env/lib/python3.8/site-packages/sklearn/utils/_set_output.py:140\u001b[0m, in \u001b[0;36m_wrap_method_output.<locals>.wrapped\u001b[0;34m(self, X, *args, **kwargs)\u001b[0m\n\u001b[1;32m    138\u001b[0m \u001b[38;5;129m@wraps\u001b[39m(f)\n\u001b[1;32m    139\u001b[0m \u001b[38;5;28;01mdef\u001b[39;00m \u001b[38;5;21mwrapped\u001b[39m(\u001b[38;5;28mself\u001b[39m, X, \u001b[38;5;241m*\u001b[39margs, \u001b[38;5;241m*\u001b[39m\u001b[38;5;241m*\u001b[39mkwargs):\n\u001b[0;32m--> 140\u001b[0m     data_to_wrap \u001b[38;5;241m=\u001b[39m \u001b[43mf\u001b[49m\u001b[43m(\u001b[49m\u001b[38;5;28;43mself\u001b[39;49m\u001b[43m,\u001b[49m\u001b[43m \u001b[49m\u001b[43mX\u001b[49m\u001b[43m,\u001b[49m\u001b[43m \u001b[49m\u001b[38;5;241;43m*\u001b[39;49m\u001b[43margs\u001b[49m\u001b[43m,\u001b[49m\u001b[43m \u001b[49m\u001b[38;5;241;43m*\u001b[39;49m\u001b[38;5;241;43m*\u001b[39;49m\u001b[43mkwargs\u001b[49m\u001b[43m)\u001b[49m\n\u001b[1;32m    141\u001b[0m     \u001b[38;5;28;01mif\u001b[39;00m \u001b[38;5;28misinstance\u001b[39m(data_to_wrap, \u001b[38;5;28mtuple\u001b[39m):\n\u001b[1;32m    142\u001b[0m         \u001b[38;5;66;03m# only wrap the first output for cross decomposition\u001b[39;00m\n\u001b[1;32m    143\u001b[0m         return_tuple \u001b[38;5;241m=\u001b[39m (\n\u001b[1;32m    144\u001b[0m             _wrap_data_with_container(method, data_to_wrap[\u001b[38;5;241m0\u001b[39m], X, \u001b[38;5;28mself\u001b[39m),\n\u001b[1;32m    145\u001b[0m             \u001b[38;5;241m*\u001b[39mdata_to_wrap[\u001b[38;5;241m1\u001b[39m:],\n\u001b[1;32m    146\u001b[0m         )\n",
      "File \u001b[0;32m~/miniconda3/envs/ml-env/lib/python3.8/site-packages/sklearn/base.py:1151\u001b[0m, in \u001b[0;36m_fit_context.<locals>.decorator.<locals>.wrapper\u001b[0;34m(estimator, *args, **kwargs)\u001b[0m\n\u001b[1;32m   1144\u001b[0m     estimator\u001b[38;5;241m.\u001b[39m_validate_params()\n\u001b[1;32m   1146\u001b[0m \u001b[38;5;28;01mwith\u001b[39;00m config_context(\n\u001b[1;32m   1147\u001b[0m     skip_parameter_validation\u001b[38;5;241m=\u001b[39m(\n\u001b[1;32m   1148\u001b[0m         prefer_skip_nested_validation \u001b[38;5;129;01mor\u001b[39;00m global_skip_validation\n\u001b[1;32m   1149\u001b[0m     )\n\u001b[1;32m   1150\u001b[0m ):\n\u001b[0;32m-> 1151\u001b[0m     \u001b[38;5;28;01mreturn\u001b[39;00m \u001b[43mfit_method\u001b[49m\u001b[43m(\u001b[49m\u001b[43mestimator\u001b[49m\u001b[43m,\u001b[49m\u001b[43m \u001b[49m\u001b[38;5;241;43m*\u001b[39;49m\u001b[43margs\u001b[49m\u001b[43m,\u001b[49m\u001b[43m \u001b[49m\u001b[38;5;241;43m*\u001b[39;49m\u001b[38;5;241;43m*\u001b[39;49m\u001b[43mkwargs\u001b[49m\u001b[43m)\u001b[49m\n",
      "File \u001b[0;32m~/miniconda3/envs/ml-env/lib/python3.8/site-packages/sklearn/decomposition/_pca.py:460\u001b[0m, in \u001b[0;36mPCA.fit_transform\u001b[0;34m(self, X, y)\u001b[0m\n\u001b[1;32m    437\u001b[0m \u001b[38;5;129m@_fit_context\u001b[39m(prefer_skip_nested_validation\u001b[38;5;241m=\u001b[39m\u001b[38;5;28;01mTrue\u001b[39;00m)\n\u001b[1;32m    438\u001b[0m \u001b[38;5;28;01mdef\u001b[39;00m \u001b[38;5;21mfit_transform\u001b[39m(\u001b[38;5;28mself\u001b[39m, X, y\u001b[38;5;241m=\u001b[39m\u001b[38;5;28;01mNone\u001b[39;00m):\n\u001b[1;32m    439\u001b[0m \u001b[38;5;250m    \u001b[39m\u001b[38;5;124;03m\"\"\"Fit the model with X and apply the dimensionality reduction on X.\u001b[39;00m\n\u001b[1;32m    440\u001b[0m \n\u001b[1;32m    441\u001b[0m \u001b[38;5;124;03m    Parameters\u001b[39;00m\n\u001b[0;32m   (...)\u001b[0m\n\u001b[1;32m    458\u001b[0m \u001b[38;5;124;03m    C-ordered array, use 'np.ascontiguousarray'.\u001b[39;00m\n\u001b[1;32m    459\u001b[0m \u001b[38;5;124;03m    \"\"\"\u001b[39;00m\n\u001b[0;32m--> 460\u001b[0m     U, S, Vt \u001b[38;5;241m=\u001b[39m \u001b[38;5;28;43mself\u001b[39;49m\u001b[38;5;241;43m.\u001b[39;49m\u001b[43m_fit\u001b[49m\u001b[43m(\u001b[49m\u001b[43mX\u001b[49m\u001b[43m)\u001b[49m\n\u001b[1;32m    461\u001b[0m     U \u001b[38;5;241m=\u001b[39m U[:, : \u001b[38;5;28mself\u001b[39m\u001b[38;5;241m.\u001b[39mn_components_]\n\u001b[1;32m    463\u001b[0m     \u001b[38;5;28;01mif\u001b[39;00m \u001b[38;5;28mself\u001b[39m\u001b[38;5;241m.\u001b[39mwhiten:\n\u001b[1;32m    464\u001b[0m         \u001b[38;5;66;03m# X_new = X * V / S * sqrt(n_samples) = U * sqrt(n_samples)\u001b[39;00m\n",
      "File \u001b[0;32m~/miniconda3/envs/ml-env/lib/python3.8/site-packages/sklearn/decomposition/_pca.py:510\u001b[0m, in \u001b[0;36mPCA._fit\u001b[0;34m(self, X)\u001b[0m\n\u001b[1;32m    508\u001b[0m \u001b[38;5;66;03m# Call different fits for either full or truncated SVD\u001b[39;00m\n\u001b[1;32m    509\u001b[0m \u001b[38;5;28;01mif\u001b[39;00m \u001b[38;5;28mself\u001b[39m\u001b[38;5;241m.\u001b[39m_fit_svd_solver \u001b[38;5;241m==\u001b[39m \u001b[38;5;124m\"\u001b[39m\u001b[38;5;124mfull\u001b[39m\u001b[38;5;124m\"\u001b[39m:\n\u001b[0;32m--> 510\u001b[0m     \u001b[38;5;28;01mreturn\u001b[39;00m \u001b[38;5;28;43mself\u001b[39;49m\u001b[38;5;241;43m.\u001b[39;49m\u001b[43m_fit_full\u001b[49m\u001b[43m(\u001b[49m\u001b[43mX\u001b[49m\u001b[43m,\u001b[49m\u001b[43m \u001b[49m\u001b[43mn_components\u001b[49m\u001b[43m)\u001b[49m\n\u001b[1;32m    511\u001b[0m \u001b[38;5;28;01melif\u001b[39;00m \u001b[38;5;28mself\u001b[39m\u001b[38;5;241m.\u001b[39m_fit_svd_solver \u001b[38;5;129;01min\u001b[39;00m [\u001b[38;5;124m\"\u001b[39m\u001b[38;5;124marpack\u001b[39m\u001b[38;5;124m\"\u001b[39m, \u001b[38;5;124m\"\u001b[39m\u001b[38;5;124mrandomized\u001b[39m\u001b[38;5;124m\"\u001b[39m]:\n\u001b[1;32m    512\u001b[0m     \u001b[38;5;28;01mreturn\u001b[39;00m \u001b[38;5;28mself\u001b[39m\u001b[38;5;241m.\u001b[39m_fit_truncated(X, n_components, \u001b[38;5;28mself\u001b[39m\u001b[38;5;241m.\u001b[39m_fit_svd_solver)\n",
      "File \u001b[0;32m~/miniconda3/envs/ml-env/lib/python3.8/site-packages/sklearn/decomposition/_pca.py:524\u001b[0m, in \u001b[0;36mPCA._fit_full\u001b[0;34m(self, X, n_components)\u001b[0m\n\u001b[1;32m    520\u001b[0m         \u001b[38;5;28;01mraise\u001b[39;00m \u001b[38;5;167;01mValueError\u001b[39;00m(\n\u001b[1;32m    521\u001b[0m             \u001b[38;5;124m\"\u001b[39m\u001b[38;5;124mn_components=\u001b[39m\u001b[38;5;124m'\u001b[39m\u001b[38;5;124mmle\u001b[39m\u001b[38;5;124m'\u001b[39m\u001b[38;5;124m is only supported if n_samples >= n_features\u001b[39m\u001b[38;5;124m\"\u001b[39m\n\u001b[1;32m    522\u001b[0m         )\n\u001b[1;32m    523\u001b[0m \u001b[38;5;28;01melif\u001b[39;00m \u001b[38;5;129;01mnot\u001b[39;00m \u001b[38;5;241m0\u001b[39m \u001b[38;5;241m<\u001b[39m\u001b[38;5;241m=\u001b[39m n_components \u001b[38;5;241m<\u001b[39m\u001b[38;5;241m=\u001b[39m \u001b[38;5;28mmin\u001b[39m(n_samples, n_features):\n\u001b[0;32m--> 524\u001b[0m     \u001b[38;5;28;01mraise\u001b[39;00m \u001b[38;5;167;01mValueError\u001b[39;00m(\n\u001b[1;32m    525\u001b[0m         \u001b[38;5;124m\"\u001b[39m\u001b[38;5;124mn_components=\u001b[39m\u001b[38;5;132;01m%r\u001b[39;00m\u001b[38;5;124m must be between 0 and \u001b[39m\u001b[38;5;124m\"\u001b[39m\n\u001b[1;32m    526\u001b[0m         \u001b[38;5;124m\"\u001b[39m\u001b[38;5;124mmin(n_samples, n_features)=\u001b[39m\u001b[38;5;132;01m%r\u001b[39;00m\u001b[38;5;124m with \u001b[39m\u001b[38;5;124m\"\u001b[39m\n\u001b[1;32m    527\u001b[0m         \u001b[38;5;124m\"\u001b[39m\u001b[38;5;124msvd_solver=\u001b[39m\u001b[38;5;124m'\u001b[39m\u001b[38;5;124mfull\u001b[39m\u001b[38;5;124m'\u001b[39m\u001b[38;5;124m\"\u001b[39m \u001b[38;5;241m%\u001b[39m (n_components, \u001b[38;5;28mmin\u001b[39m(n_samples, n_features))\n\u001b[1;32m    528\u001b[0m     )\n\u001b[1;32m    530\u001b[0m \u001b[38;5;66;03m# Center data\u001b[39;00m\n\u001b[1;32m    531\u001b[0m \u001b[38;5;28mself\u001b[39m\u001b[38;5;241m.\u001b[39mmean_ \u001b[38;5;241m=\u001b[39m np\u001b[38;5;241m.\u001b[39mmean(X, axis\u001b[38;5;241m=\u001b[39m\u001b[38;5;241m0\u001b[39m)\n",
      "\u001b[0;31mValueError\u001b[0m: n_components=50 must be between 0 and min(n_samples, n_features)=44 with svd_solver='full'"
     ]
    }
   ],
   "source": [
    "from sklearn.preprocessing import StandardScaler\n",
    "from sklearn.decomposition import PCA\n",
    "\n",
    "# 1. Standardize the data\n",
    "scaler = StandardScaler().fit(X)   # Fit the scaler on X\n",
    "X_sc = scaler.transform(X)         # Transform X using the fitted scaler\n",
    "\n",
    "# 2. Apply PCA\n",
    "pca = PCA(n_components=50)          # Specify the number of principal components to retain\n",
    "principalComponents = pca.fit_transform(X_sc)\n",
    "\n",
    "# 3. Eigenvalues and Eigenvectors\n",
    "eig_values = pca.explained_variance_  # Eigenvalues\n",
    "eig_vectors = pca.components_         # Eigenvectors (principal components)\n",
    "\n",
    "# 4. Extract individual eigenvectors (principal components)\n",
    "eig_vec1 = eig_vectors[0]   # First principal component\n",
    "eig_vec2 = eig_vectors[1]   # Second principal component\n",
    "eig_vec3 = eig_vectors[2]   # Third principal component\n",
    "eig_vec4 = eig_vectors[3]   # Fourth principal component\n",
    "eig_vec5 = eig_vectors[4]\n",
    "eig_vec6 = eig_vectors[5]\n",
    "\n",
    "# 5. Calculate loadings for the first principal component\n",
    "loading_1 = eig_vec1 * np.sqrt(eig_values[0])  # Loadings for the first component\n",
    "\n",
    "# 6. Create a Pandas Series to display the scores (loadings) for the first component\n",
    "scores_1 = pd.Series(loading_1, index=X.columns.to_list())\n",
    "\n",
    "# 7. Sort loadings to understand feature contributions\n",
    "scores_1.sort_values(ascending=False)"
   ]
  },
  {
   "cell_type": "code",
   "execution_count": 142,
   "metadata": {},
   "outputs": [
    {
     "data": {
      "text/plain": [
       "severe_housing_problems                                0.771073\n",
       "sexually_transmitted_infections                        0.568945\n",
       "pct_asian                                              0.551268\n",
       "pct_professional_management_and_scientific_services    0.546843\n",
       "pct_aapi                                               0.538238\n",
       "                                                         ...   \n",
       "pct_nat_res_constr_maint_occupations                  -0.487633\n",
       "median_age                                            -0.523865\n",
       "pct_non_hispanic_white                                -0.648263\n",
       "pct_rural                                             -0.702056\n",
       "homeownership                                         -0.724628\n",
       "Length: 92, dtype: float64"
      ]
     },
     "execution_count": 142,
     "metadata": {},
     "output_type": "execute_result"
    }
   ],
   "source": [
    "# 5. Calculate loadings for the first principal component\n",
    "loading_2 = eig_vec2 * np.sqrt(eig_values[1])  # Loadings for the first component\n",
    "\n",
    "# 6. Create a Pandas Series to display the scores (loadings) for the first component\n",
    "scores_2 = pd.Series(loading_2, index=X.columns.to_list())\n",
    "\n",
    "# 7. Sort loadings to understand feature contributions\n",
    "scores_2.sort_values(ascending=False)"
   ]
  },
  {
   "cell_type": "code",
   "execution_count": 143,
   "metadata": {},
   "outputs": [
    {
     "data": {
      "text/plain": [
       "preventable_hospital_stays                0.600638\n",
       "injury_deaths                             0.455137\n",
       "poor_mental_health_days                   0.445602\n",
       "mental_health_providers                   0.445188\n",
       "frequent_mental_distress                  0.431956\n",
       "                                            ...   \n",
       "severe_housing_cost_burden               -0.511310\n",
       "pct_sales_and_office_occupations         -0.513687\n",
       "pct_households_with_high_housing_costs   -0.539666\n",
       "mammography_screening                    -0.673880\n",
       "air_pollution_particulate_matter         -0.689458\n",
       "Length: 92, dtype: float64"
      ]
     },
     "execution_count": 143,
     "metadata": {},
     "output_type": "execute_result"
    }
   ],
   "source": [
    "# 5. Calculate loadings for the first principal component\n",
    "loading_3 = eig_vec3 * np.sqrt(eig_values[2])  # Loadings for the first component\n",
    "\n",
    "# 6. Create a Pandas Series to display the scores (loadings) for the first component\n",
    "scores_3 = pd.Series(loading_3, index=X.columns.to_list())\n",
    "\n",
    "# 7. Sort loadings to understand feature contributions\n",
    "scores_3.sort_values(ascending=False)"
   ]
  },
  {
   "cell_type": "code",
   "execution_count": 144,
   "metadata": {},
   "outputs": [
    {
     "data": {
      "text/plain": [
       "pct_agriculture_hunting_and_mining      0.639141\n",
       "pct_nat_res_constr_maint_occupations    0.539382\n",
       "uninsured_adults                        0.518257\n",
       "limited_access_to_healthy_foods         0.493026\n",
       "pct_hispanic                            0.423773\n",
       "                                          ...   \n",
       "preventable_hospital_stays             -0.368107\n",
       "insufficient_sleep                     -0.402216\n",
       "poor_mental_health_days                -0.453453\n",
       "pct_manufacturing                      -0.477728\n",
       "driving_alone_to_work                  -0.531917\n",
       "Length: 92, dtype: float64"
      ]
     },
     "execution_count": 144,
     "metadata": {},
     "output_type": "execute_result"
    }
   ],
   "source": [
    "loading_4 = eig_vec4 * np.sqrt(eig_values[3])\n",
    "scores_4 = pd.Series(loading_4, index=X.columns.to_list())\n",
    "scores_4.sort_values(ascending=False)"
   ]
  },
  {
   "cell_type": "code",
   "execution_count": 145,
   "metadata": {},
   "outputs": [
    {
     "data": {
      "text/plain": [
       "pct_under_18                              0.545757\n",
       "pct_not_proficient_in_english             0.511568\n",
       "pct_hispanic                              0.501006\n",
       "pct_prod_transp_mat_moving_occupations    0.367156\n",
       "median_household_income                   0.305684\n",
       "                                            ...   \n",
       "pct_non_hispanic_white                   -0.303967\n",
       "mammography_screening                    -0.312578\n",
       "pct_service_occupations                  -0.321829\n",
       "pct_65_and_older                         -0.484321\n",
       "median_age                               -0.506176\n",
       "Length: 92, dtype: float64"
      ]
     },
     "execution_count": 145,
     "metadata": {},
     "output_type": "execute_result"
    }
   ],
   "source": [
    "loading_5 = eig_vec5 * np.sqrt(eig_values[4])\n",
    "scores_5 = pd.Series(loading_5, index=X.columns.to_list())\n",
    "scores_5.sort_values(ascending=False)"
   ]
  },
  {
   "cell_type": "code",
   "execution_count": 146,
   "metadata": {},
   "outputs": [
    {
     "data": {
      "text/plain": [
       "pct_under_18                              0.372683\n",
       "social_associations                       0.354599\n",
       "pct_manufacturing                         0.303268\n",
       "pct_educational_and_health_services       0.292998\n",
       "mammography_screening                     0.273253\n",
       "                                            ...   \n",
       "median_age                               -0.384463\n",
       "pct_households_with_high_housing_costs   -0.390435\n",
       "severe_housing_cost_burden               -0.401294\n",
       "long_commute_driving_alone               -0.435722\n",
       "pct_construction                         -0.494098\n",
       "Length: 92, dtype: float64"
      ]
     },
     "execution_count": 146,
     "metadata": {},
     "output_type": "execute_result"
    }
   ],
   "source": [
    "loading_6 = eig_vec6 * np.sqrt(eig_values[5])\n",
    "scores_6 = pd.Series(loading_6, index=X.columns.to_list())\n",
    "scores_6.sort_values(ascending=False)"
   ]
  },
  {
   "cell_type": "code",
   "execution_count": 147,
   "metadata": {},
   "outputs": [
    {
     "name": "stdout",
     "output_type": "stream",
     "text": [
      "Explained variance ratio: [0.17731265 0.10217106 0.06520792 0.05530231 0.04103171 0.03341579\n",
      " 0.02755654 0.02441509 0.02133254 0.01954624 0.01707587 0.01652778]\n"
     ]
    }
   ],
   "source": [
    "explained_variance_ratio = pca.explained_variance_ratio_\n",
    "print(f\"Explained variance ratio: {explained_variance_ratio}\")"
   ]
  },
  {
   "cell_type": "code",
   "execution_count": 156,
   "metadata": {},
   "outputs": [
    {
     "data": {
      "image/png": "[encoded data removed]",
      "text/plain": [
       "<Figure size 800x600 with 1 Axes>"
      ]
     },
     "metadata": {},
     "output_type": "display_data"
    }
   ],
   "source": [
    "import matplotlib.pyplot as plt\n",
    "\n",
    "plt.figure(figsize=(8, 6))\n",
    "plt.plot(np.cumsum(pca.explained_variance_ratio_), marker='o', linestyle='--')\n",
    "plt.xlabel('Number of Components')\n",
    "plt.ylabel('Cumulative Explained Variance')\n",
    "plt.title('Scree Plot')\n",
    "plt.show()"
   ]
  },
  {
   "cell_type": "markdown",
   "metadata": {},
   "source": [
    "## LightGBM (Light Gradient Boosting Machine) Model"
   ]
  },
  {
   "cell_type": "code",
   "execution_count": 52,
   "metadata": {},
   "outputs": [
    {
     "name": "stdout",
     "output_type": "stream",
     "text": [
      "Fitting 5 folds for each of 50 candidates, totalling 250 fits\n"
     ]
    },
    {
     "name": "stderr",
     "output_type": "stream",
     "text": [
      "/Users/datascisteven/miniconda3/envs/ml-env/lib/python3.8/site-packages/sklearn/model_selection/_search.py:976: UserWarning: One or more of the test scores are non-finite: [0.91511105        nan 0.90481529        nan 0.91347802        nan\n",
      " 0.91142044        nan        nan        nan        nan        nan\n",
      "        nan        nan 0.92017016 0.90578118        nan        nan\n",
      " 0.89144804 0.92566259        nan        nan 0.8560593         nan\n",
      "        nan        nan 0.91913401        nan 0.91979207        nan\n",
      "        nan        nan        nan 0.8986839         nan        nan\n",
      "        nan        nan        nan        nan        nan        nan\n",
      "        nan 0.92105366        nan        nan        nan        nan\n",
      "        nan        nan]\n",
      "  warnings.warn(\n"
     ]
    },
    {
     "name": "stdout",
     "output_type": "stream",
     "text": [
      "[LightGBM] [Info] Auto-choosing col-wise multi-threading, the overhead of testing was 0.005476 seconds.\n",
      "You can set `force_col_wise=true` to remove the overhead.\n",
      "[LightGBM] [Info] Total Bins 11220\n",
      "[LightGBM] [Info] Number of data points in the train set: 37715, number of used features: 44\n",
      "[LightGBM] [Info] Start training from score 77.250999\n",
      "Best hyperparameters: {'colsample_bytree': 0.804781258158029, 'learning_rate': 0.05939675594288252, 'max_depth': 13, 'n_estimators': 748, 'num_leaves': 49, 'reg_alpha': 0.22210781047073025, 'reg_lambda': 2.1986536733368283, 'subsample': 0.837615171403628}\n"
     ]
    }
   ],
   "source": [
    "import lightgbm as lgb\n",
    "from sklearn.model_selection import RandomizedSearchCV\n",
    "\n",
    "X_train, X_test, y_train, y_test = train_test_split(X, y, test_size=0.2, random_state=42)\n",
    "\n",
    "lgb_model = lgb.LGBMRegressor(random_state=42)\n",
    "\n",
    "param_dist = {\n",
    "    'n_estimators': randint(100, 1000),\n",
    "    'learning_rate': uniform(0.01, 0.3),\n",
    "    'num_leaves': randint(20, 50),\n",
    "    'max_depth': randint(3, 15),\n",
    "    'subsample': uniform(0.5, 1),\n",
    "    'colsample_bytree': uniform(0.5, 1),\n",
    "    'reg_alpha': uniform(0, 1),\n",
    "    'reg_lambda': uniform(1, 10)\n",
    "}\n",
    "\n",
    "random_search = RandomizedSearchCV(\n",
    "    estimator=lgb_model,\n",
    "    param_distributions=param_dist,\n",
    "    n_iter=50,\n",
    "    cv=5,\n",
    "    verbose=2,\n",
    "    random_state=42,\n",
    "    n_jobs=-1\n",
    ")\n",
    "\n",
    "model_lgb = Pipeline(steps=[\n",
    "    ('preprocessor', preprocessor),  # Assuming preprocessing from earlier\n",
    "    ('random_search', random_search)\n",
    "])\n",
    "\n",
    "model_lgb.fit(X_train, y_train)\n",
    "print(f\"Best hyperparameters: {model_lgb.named_steps['random_search'].best_params_}\")"
   ]
  },
  {
   "cell_type": "code",
   "execution_count": 53,
   "metadata": {},
   "outputs": [
    {
     "name": "stdout",
     "output_type": "stream",
     "text": [
      "RMSE: 0.7539263028401499\n",
      "R²: 0.9300605225048356\n"
     ]
    }
   ],
   "source": [
    "y_pred_lgb = model_lgb.predict(X_test)\n",
    "rmse_lgb = np.sqrt(mean_squared_error(y_test, y_pred_lgb))\n",
    "r2_lgb = r2_score(y_test, y_pred_lgb)\n",
    "\n",
    "print(f\"RMSE: {rmse_lgb}\")\n",
    "print(f\"R²: {r2_lgb}\")"
   ]
  },
  {
   "cell_type": "markdown",
   "metadata": {},
   "source": [
    "## Support Vector Regression (SVR) Model\n",
    "\n",
    "(takes a long time to run)"
   ]
  },
  {
   "cell_type": "code",
   "execution_count": 55,
   "metadata": {},
   "outputs": [
    {
     "name": "stdout",
     "output_type": "stream",
     "text": [
      "Fitting 5 folds for each of 50 candidates, totalling 250 fits\n",
      "Best hyperparameters: {'C': 9.968869366005173, 'degree': 2, 'epsilon': 0.20871568153417241, 'kernel': 'rbf'}\n"
     ]
    }
   ],
   "source": [
    "from sklearn import svm\n",
    "\n",
    "X_train, X_test, y_train, y_test = train_test_split(X, y, test_size=0.2, random_state=42)\n",
    "\n",
    "# Define the SVR model\n",
    "svr_model = svm.SVR()\n",
    "\n",
    "# Define the hyperparameter grid\n",
    "param_dist = {\n",
    "    'C': uniform(0.1, 10),           # Regularization parameter\n",
    "    'epsilon': uniform(0.01, 1),      # Epsilon-insensitive loss function\n",
    "    'kernel': ['linear', 'poly', 'rbf'],  # Kernel function\n",
    "    'degree': randint(2, 5)           # Degree for 'poly' kernel\n",
    "}\n",
    "\n",
    "# RandomizedSearchCV for SVR\n",
    "random_search = RandomizedSearchCV(\n",
    "    estimator=svr_model,\n",
    "    param_distributions=param_dist,\n",
    "    n_iter=50,\n",
    "    cv=5,\n",
    "    verbose=2,\n",
    "    random_state=42,\n",
    "    n_jobs=-1\n",
    ")\n",
    "\n",
    "# Pipeline for preprocessing and SVR\n",
    "model_svm = Pipeline(steps=[\n",
    "    ('preprocessor', preprocessor),\n",
    "    ('random_search', random_search)\n",
    "])\n",
    "\n",
    "# Fit the model\n",
    "model_svm.fit(X_train, y_train)\n",
    "\n",
    "# Best parameters\n",
    "print(f\"Best hyperparameters: {model_svm.named_steps['random_search'].best_params_}\")"
   ]
  },
  {
   "cell_type": "code",
   "execution_count": 56,
   "metadata": {},
   "outputs": [
    {
     "name": "stdout",
     "output_type": "stream",
     "text": [
      "RMSE: 0.7908231575828343\n",
      "R²: 0.9230473908503274\n"
     ]
    }
   ],
   "source": [
    "# Make predictions and evaluate the model\n",
    "y_pred_svm = model_svm.predict(X_test)\n",
    "rmse_svm = np.sqrt(mean_squared_error(y_test, y_pred_svm))\n",
    "r2_svm = r2_score(y_test, y_pred_svm)\n",
    "print(f\"RMSE: {rmse_svm}\")\n",
    "print(f\"R²: {r2_svm}\")"
   ]
  },
  {
   "cell_type": "markdown",
   "metadata": {},
   "source": [
    "## MLP (Multi-Layer Perceptron) Regressor"
   ]
  },
  {
   "cell_type": "code",
   "execution_count": 64,
   "metadata": {},
   "outputs": [
    {
     "name": "stdout",
     "output_type": "stream",
     "text": [
      "Fitting 5 folds for each of 50 candidates, totalling 250 fits\n"
     ]
    },
    {
     "name": "stderr",
     "output_type": "stream",
     "text": [
      "/Users/examsherpa/miniconda3/envs/tf-env/lib/python3.8/site-packages/sklearn/neural_network/_base.py:173: RuntimeWarning: overflow encountered in square\n",
      "  return ((y_true - y_pred) ** 2).mean() / 2\n",
      "/Users/examsherpa/miniconda3/envs/tf-env/lib/python3.8/site-packages/sklearn/neural_network/_base.py:173: RuntimeWarning: overflow encountered in square\n",
      "  return ((y_true - y_pred) ** 2).mean() / 2\n",
      "/Users/examsherpa/miniconda3/envs/tf-env/lib/python3.8/site-packages/sklearn/utils/extmath.py:193: RuntimeWarning: overflow encountered in matmul\n",
      "  ret = a @ b\n",
      "/Users/examsherpa/miniconda3/envs/tf-env/lib/python3.8/site-packages/sklearn/utils/extmath.py:193: RuntimeWarning: invalid value encountered in matmul\n",
      "  ret = a @ b\n",
      "/Users/examsherpa/miniconda3/envs/tf-env/lib/python3.8/site-packages/sklearn/utils/extmath.py:193: RuntimeWarning: overflow encountered in matmul\n",
      "  ret = a @ b\n",
      "/Users/examsherpa/miniconda3/envs/tf-env/lib/python3.8/site-packages/sklearn/utils/extmath.py:193: RuntimeWarning: invalid value encountered in matmul\n",
      "  ret = a @ b\n",
      "/Users/examsherpa/miniconda3/envs/tf-env/lib/python3.8/site-packages/sklearn/neural_network/_base.py:173: RuntimeWarning: overflow encountered in square\n",
      "  return ((y_true - y_pred) ** 2).mean() / 2\n",
      "/Users/examsherpa/miniconda3/envs/tf-env/lib/python3.8/site-packages/sklearn/utils/extmath.py:193: RuntimeWarning: overflow encountered in matmul\n",
      "  ret = a @ b\n",
      "/Users/examsherpa/miniconda3/envs/tf-env/lib/python3.8/site-packages/sklearn/utils/extmath.py:193: RuntimeWarning: invalid value encountered in matmul\n",
      "  ret = a @ b\n",
      "/Users/examsherpa/miniconda3/envs/tf-env/lib/python3.8/site-packages/sklearn/utils/extmath.py:193: RuntimeWarning: overflow encountered in matmul\n",
      "  ret = a @ b\n",
      "/Users/examsherpa/miniconda3/envs/tf-env/lib/python3.8/site-packages/sklearn/utils/extmath.py:193: RuntimeWarning: invalid value encountered in matmul\n",
      "  ret = a @ b\n",
      "/Users/examsherpa/miniconda3/envs/tf-env/lib/python3.8/site-packages/sklearn/neural_network/_base.py:173: RuntimeWarning: overflow encountered in square\n",
      "  return ((y_true - y_pred) ** 2).mean() / 2\n",
      "/Users/examsherpa/miniconda3/envs/tf-env/lib/python3.8/site-packages/sklearn/utils/extmath.py:193: RuntimeWarning: overflow encountered in matmul\n",
      "  ret = a @ b\n",
      "/Users/examsherpa/miniconda3/envs/tf-env/lib/python3.8/site-packages/sklearn/utils/extmath.py:193: RuntimeWarning: invalid value encountered in matmul\n",
      "  ret = a @ b\n"
     ]
    },
    {
     "name": "stdout",
     "output_type": "stream",
     "text": [
      "[CV] END activation=relu, alpha=0.059785015794648705, hidden_layer_sizes=(100,), learning_rate=constant, solver=adam; total time=   2.3s\n",
      "[CV] END activation=relu, alpha=0.059785015794648705, hidden_layer_sizes=(100,), learning_rate=constant, solver=adam; total time=   2.3s\n"
     ]
    },
    {
     "name": "stderr",
     "output_type": "stream",
     "text": [
      "/Users/examsherpa/miniconda3/envs/tf-env/lib/python3.8/site-packages/sklearn/neural_network/_base.py:173: RuntimeWarning: overflow encountered in square\n",
      "  return ((y_true - y_pred) ** 2).mean() / 2\n",
      "/Users/examsherpa/miniconda3/envs/tf-env/lib/python3.8/site-packages/sklearn/utils/extmath.py:193: RuntimeWarning: overflow encountered in matmul\n",
      "  ret = a @ b\n",
      "/Users/examsherpa/miniconda3/envs/tf-env/lib/python3.8/site-packages/sklearn/utils/extmath.py:193: RuntimeWarning: invalid value encountered in matmul\n",
      "  ret = a @ b\n",
      "/Users/examsherpa/miniconda3/envs/tf-env/lib/python3.8/site-packages/sklearn/neural_network/_base.py:173: RuntimeWarning: overflow encountered in square\n",
      "  return ((y_true - y_pred) ** 2).mean() / 2\n",
      "/Users/examsherpa/miniconda3/envs/tf-env/lib/python3.8/site-packages/sklearn/utils/extmath.py:193: RuntimeWarning: overflow encountered in matmul\n",
      "  ret = a @ b\n",
      "/Users/examsherpa/miniconda3/envs/tf-env/lib/python3.8/site-packages/sklearn/utils/extmath.py:193: RuntimeWarning: invalid value encountered in matmul\n",
      "  ret = a @ b\n"
     ]
    },
    {
     "name": "stdout",
     "output_type": "stream",
     "text": [
      "[CV] END activation=relu, alpha=0.059785015794648705, hidden_layer_sizes=(100,), learning_rate=constant, solver=adam; total time=   2.5s\n",
      "[CV] END activation=relu, alpha=0.059785015794648705, hidden_layer_sizes=(100,), learning_rate=constant, solver=adam; total time=   2.6s\n"
     ]
    },
    {
     "name": "stderr",
     "output_type": "stream",
     "text": [
      "/Users/examsherpa/miniconda3/envs/tf-env/lib/python3.8/site-packages/sklearn/neural_network/_base.py:173: RuntimeWarning: overflow encountered in square\n",
      "  return ((y_true - y_pred) ** 2).mean() / 2\n",
      "/Users/examsherpa/miniconda3/envs/tf-env/lib/python3.8/site-packages/sklearn/utils/extmath.py:193: RuntimeWarning: overflow encountered in matmul\n",
      "  ret = a @ b\n",
      "/Users/examsherpa/miniconda3/envs/tf-env/lib/python3.8/site-packages/sklearn/utils/extmath.py:193: RuntimeWarning: invalid value encountered in matmul\n",
      "  ret = a @ b\n"
     ]
    },
    {
     "name": "stdout",
     "output_type": "stream",
     "text": [
      "[CV] END activation=relu, alpha=0.059785015794648705, hidden_layer_sizes=(100,), learning_rate=constant, solver=adam; total time=   4.6s\n"
     ]
    },
    {
     "name": "stderr",
     "output_type": "stream",
     "text": [
      "/Users/examsherpa/miniconda3/envs/tf-env/lib/python3.8/site-packages/sklearn/neural_network/_multilayer_perceptron.py:691: ConvergenceWarning: Stochastic Optimizer: Maximum iterations (1000) reached and the optimization hasn't converged yet.\n",
      "  warnings.warn(\n"
     ]
    },
    {
     "name": "stdout",
     "output_type": "stream",
     "text": [
      "[CV] END activation=relu, alpha=0.04602488919658672, hidden_layer_sizes=(50,), learning_rate=adaptive, solver=sgd; total time=  49.8s\n"
     ]
    },
    {
     "name": "stderr",
     "output_type": "stream",
     "text": [
      "/Users/examsherpa/miniconda3/envs/tf-env/lib/python3.8/site-packages/sklearn/neural_network/_multilayer_perceptron.py:691: ConvergenceWarning: Stochastic Optimizer: Maximum iterations (1000) reached and the optimization hasn't converged yet.\n",
      "  warnings.warn(\n"
     ]
    },
    {
     "name": "stdout",
     "output_type": "stream",
     "text": [
      "[CV] END activation=relu, alpha=0.04602488919658672, hidden_layer_sizes=(50,), learning_rate=adaptive, solver=sgd; total time=  50.0s\n"
     ]
    },
    {
     "name": "stderr",
     "output_type": "stream",
     "text": [
      "/Users/examsherpa/miniconda3/envs/tf-env/lib/python3.8/site-packages/sklearn/neural_network/_multilayer_perceptron.py:691: ConvergenceWarning: Stochastic Optimizer: Maximum iterations (1000) reached and the optimization hasn't converged yet.\n",
      "  warnings.warn(\n",
      "/Users/examsherpa/miniconda3/envs/tf-env/lib/python3.8/site-packages/sklearn/neural_network/_multilayer_perceptron.py:691: ConvergenceWarning: Stochastic Optimizer: Maximum iterations (1000) reached and the optimization hasn't converged yet.\n",
      "  warnings.warn(\n"
     ]
    },
    {
     "name": "stdout",
     "output_type": "stream",
     "text": [
      "[CV] END activation=relu, alpha=0.04602488919658672, hidden_layer_sizes=(50,), learning_rate=adaptive, solver=sgd; total time=  51.0s\n",
      "[CV] END activation=relu, alpha=0.04602488919658672, hidden_layer_sizes=(50,), learning_rate=adaptive, solver=sgd; total time=  51.4s\n"
     ]
    },
    {
     "name": "stderr",
     "output_type": "stream",
     "text": [
      "/Users/examsherpa/miniconda3/envs/tf-env/lib/python3.8/site-packages/sklearn/neural_network/_multilayer_perceptron.py:691: ConvergenceWarning: Stochastic Optimizer: Maximum iterations (1000) reached and the optimization hasn't converged yet.\n",
      "  warnings.warn(\n"
     ]
    },
    {
     "name": "stdout",
     "output_type": "stream",
     "text": [
      "[CV] END activation=relu, alpha=0.04602488919658672, hidden_layer_sizes=(50,), learning_rate=adaptive, solver=sgd; total time=  50.1s\n"
     ]
    },
    {
     "name": "stderr",
     "output_type": "stream",
     "text": [
      "/Users/examsherpa/miniconda3/envs/tf-env/lib/python3.8/site-packages/sklearn/neural_network/_multilayer_perceptron.py:691: ConvergenceWarning: Stochastic Optimizer: Maximum iterations (1000) reached and the optimization hasn't converged yet.\n",
      "  warnings.warn(\n",
      "/Users/examsherpa/miniconda3/envs/tf-env/lib/python3.8/site-packages/sklearn/neural_network/_multilayer_perceptron.py:691: ConvergenceWarning: Stochastic Optimizer: Maximum iterations (1000) reached and the optimization hasn't converged yet.\n",
      "  warnings.warn(\n"
     ]
    },
    {
     "name": "stdout",
     "output_type": "stream",
     "text": [
      "[CV] END activation=relu, alpha=0.0797542986860233, hidden_layer_sizes=(50, 50), learning_rate=constant, solver=sgd; total time= 1.3min\n",
      "[CV] END activation=relu, alpha=0.0797542986860233, hidden_layer_sizes=(50, 50), learning_rate=constant, solver=sgd; total time= 1.3min\n"
     ]
    },
    {
     "name": "stderr",
     "output_type": "stream",
     "text": [
      "/Users/examsherpa/miniconda3/envs/tf-env/lib/python3.8/site-packages/sklearn/neural_network/_multilayer_perceptron.py:691: ConvergenceWarning: Stochastic Optimizer: Maximum iterations (1000) reached and the optimization hasn't converged yet.\n",
      "  warnings.warn(\n"
     ]
    },
    {
     "name": "stdout",
     "output_type": "stream",
     "text": [
      "[CV] END activation=relu, alpha=0.0797542986860233, hidden_layer_sizes=(50, 50), learning_rate=constant, solver=sgd; total time= 1.3min\n"
     ]
    },
    {
     "name": "stderr",
     "output_type": "stream",
     "text": [
      "/Users/examsherpa/miniconda3/envs/tf-env/lib/python3.8/site-packages/sklearn/neural_network/_multilayer_perceptron.py:691: ConvergenceWarning: Stochastic Optimizer: Maximum iterations (1000) reached and the optimization hasn't converged yet.\n",
      "  warnings.warn(\n"
     ]
    },
    {
     "name": "stdout",
     "output_type": "stream",
     "text": [
      "[CV] END activation=relu, alpha=0.0797542986860233, hidden_layer_sizes=(50, 50), learning_rate=constant, solver=sgd; total time= 1.3min\n"
     ]
    },
    {
     "name": "stderr",
     "output_type": "stream",
     "text": [
      "/Users/examsherpa/miniconda3/envs/tf-env/lib/python3.8/site-packages/sklearn/neural_network/_multilayer_perceptron.py:691: ConvergenceWarning: Stochastic Optimizer: Maximum iterations (1000) reached and the optimization hasn't converged yet.\n",
      "  warnings.warn(\n"
     ]
    },
    {
     "name": "stdout",
     "output_type": "stream",
     "text": [
      "[CV] END activation=relu, alpha=0.0797542986860233, hidden_layer_sizes=(50, 50), learning_rate=constant, solver=sgd; total time= 1.3min\n",
      "[CV] END activation=tanh, alpha=0.09395527090157503, hidden_layer_sizes=(100,), learning_rate=adaptive, solver=sgd; total time=   7.1s\n",
      "[CV] END activation=relu, alpha=0.06184815096277166, hidden_layer_sizes=(100,), learning_rate=adaptive, solver=adam; total time=   3.9s\n",
      "[CV] END activation=relu, alpha=0.06184815096277166, hidden_layer_sizes=(100,), learning_rate=adaptive, solver=adam; total time=   3.0s\n",
      "[CV] END activation=relu, alpha=0.06184815096277166, hidden_layer_sizes=(100,), learning_rate=adaptive, solver=adam; total time=   4.2s\n",
      "[CV] END activation=relu, alpha=0.06184815096277166, hidden_layer_sizes=(100,), learning_rate=adaptive, solver=adam; total time=   2.2s\n",
      "[CV] END activation=relu, alpha=0.06184815096277166, hidden_layer_sizes=(100,), learning_rate=adaptive, solver=adam; total time=   1.9s\n",
      "[CV] END activation=tanh, alpha=0.0024062425041415756, hidden_layer_sizes=(50, 50), learning_rate=constant, solver=adam; total time=   9.5s\n"
     ]
    },
    {
     "name": "stderr",
     "output_type": "stream",
     "text": [
      "/Users/examsherpa/miniconda3/envs/tf-env/lib/python3.8/site-packages/sklearn/neural_network/_multilayer_perceptron.py:691: ConvergenceWarning: Stochastic Optimizer: Maximum iterations (1000) reached and the optimization hasn't converged yet.\n",
      "  warnings.warn(\n"
     ]
    },
    {
     "name": "stdout",
     "output_type": "stream",
     "text": [
      "[CV] END activation=tanh, alpha=0.06518884729488529, hidden_layer_sizes=(50,), learning_rate=adaptive, solver=sgd; total time=  57.6s\n"
     ]
    },
    {
     "name": "stderr",
     "output_type": "stream",
     "text": [
      "/Users/examsherpa/miniconda3/envs/tf-env/lib/python3.8/site-packages/sklearn/neural_network/_multilayer_perceptron.py:691: ConvergenceWarning: Stochastic Optimizer: Maximum iterations (1000) reached and the optimization hasn't converged yet.\n",
      "  warnings.warn(\n"
     ]
    },
    {
     "name": "stdout",
     "output_type": "stream",
     "text": [
      "[CV] END activation=tanh, alpha=0.06518884729488529, hidden_layer_sizes=(50,), learning_rate=adaptive, solver=sgd; total time=  58.3s\n"
     ]
    },
    {
     "name": "stderr",
     "output_type": "stream",
     "text": [
      "/Users/examsherpa/miniconda3/envs/tf-env/lib/python3.8/site-packages/sklearn/neural_network/_multilayer_perceptron.py:691: ConvergenceWarning: Stochastic Optimizer: Maximum iterations (1000) reached and the optimization hasn't converged yet.\n",
      "  warnings.warn(\n"
     ]
    },
    {
     "name": "stdout",
     "output_type": "stream",
     "text": [
      "[CV] END activation=tanh, alpha=0.06518884729488529, hidden_layer_sizes=(50,), learning_rate=adaptive, solver=sgd; total time=  57.2s\n"
     ]
    },
    {
     "name": "stderr",
     "output_type": "stream",
     "text": [
      "/Users/examsherpa/miniconda3/envs/tf-env/lib/python3.8/site-packages/sklearn/neural_network/_multilayer_perceptron.py:691: ConvergenceWarning: Stochastic Optimizer: Maximum iterations (1000) reached and the optimization hasn't converged yet.\n",
      "  warnings.warn(\n"
     ]
    },
    {
     "name": "stdout",
     "output_type": "stream",
     "text": [
      "[CV] END activation=tanh, alpha=0.06518884729488529, hidden_layer_sizes=(50,), learning_rate=adaptive, solver=sgd; total time=  58.7s\n"
     ]
    },
    {
     "name": "stderr",
     "output_type": "stream",
     "text": [
      "/Users/examsherpa/miniconda3/envs/tf-env/lib/python3.8/site-packages/sklearn/neural_network/_multilayer_perceptron.py:691: ConvergenceWarning: Stochastic Optimizer: Maximum iterations (1000) reached and the optimization hasn't converged yet.\n",
      "  warnings.warn(\n"
     ]
    },
    {
     "name": "stdout",
     "output_type": "stream",
     "text": [
      "[CV] END activation=tanh, alpha=0.06518884729488529, hidden_layer_sizes=(50,), learning_rate=adaptive, solver=sgd; total time=  58.6s\n",
      "[CV] END activation=tanh, alpha=0.0024062425041415756, hidden_layer_sizes=(50, 50), learning_rate=constant, solver=adam; total time=   6.7s\n",
      "[CV] END activation=tanh, alpha=0.0024062425041415756, hidden_layer_sizes=(50, 50), learning_rate=constant, solver=adam; total time=   8.9s\n",
      "[CV] END activation=tanh, alpha=0.0024062425041415756, hidden_layer_sizes=(50, 50), learning_rate=constant, solver=adam; total time=   8.2s\n",
      "[CV] END activation=tanh, alpha=0.0024062425041415756, hidden_layer_sizes=(50, 50), learning_rate=constant, solver=adam; total time=   9.7s\n",
      "[CV] END activation=tanh, alpha=0.004766566321361543, hidden_layer_sizes=(100, 50, 100), learning_rate=adaptive, solver=adam; total time=  11.4s\n",
      "[CV] END activation=tanh, alpha=0.004766566321361543, hidden_layer_sizes=(100, 50, 100), learning_rate=adaptive, solver=adam; total time=  15.8s\n",
      "[CV] END activation=tanh, alpha=0.00916064345328208, hidden_layer_sizes=(100,), learning_rate=constant, solver=sgd; total time=  11.7s\n",
      "[CV] END activation=tanh, alpha=0.004766566321361543, hidden_layer_sizes=(100, 50, 100), learning_rate=adaptive, solver=adam; total time=  15.3s\n",
      "[CV] END activation=tanh, alpha=0.004766566321361543, hidden_layer_sizes=(100, 50, 100), learning_rate=adaptive, solver=adam; total time=  14.4s\n",
      "[CV] END activation=tanh, alpha=0.004766566321361543, hidden_layer_sizes=(100, 50, 100), learning_rate=adaptive, solver=adam; total time=  16.5s\n",
      "[CV] END activation=relu, alpha=0.09842308858067883, hidden_layer_sizes=(50,), learning_rate=constant, solver=adam; total time=   2.2s\n",
      "[CV] END activation=relu, alpha=0.09842308858067883, hidden_layer_sizes=(50,), learning_rate=constant, solver=adam; total time=   2.5s\n",
      "[CV] END activation=tanh, alpha=0.00916064345328208, hidden_layer_sizes=(100,), learning_rate=constant, solver=sgd; total time=   8.5s\n",
      "[CV] END activation=relu, alpha=0.09842308858067883, hidden_layer_sizes=(50,), learning_rate=constant, solver=adam; total time=   2.2s\n"
     ]
    },
    {
     "name": "stderr",
     "output_type": "stream",
     "text": [
      "/Users/examsherpa/miniconda3/envs/tf-env/lib/python3.8/site-packages/sklearn/neural_network/_base.py:173: RuntimeWarning: overflow encountered in square\n",
      "  return ((y_true - y_pred) ** 2).mean() / 2\n",
      "/Users/examsherpa/miniconda3/envs/tf-env/lib/python3.8/site-packages/sklearn/utils/extmath.py:193: RuntimeWarning: overflow encountered in matmul\n",
      "  ret = a @ b\n",
      "/Users/examsherpa/miniconda3/envs/tf-env/lib/python3.8/site-packages/sklearn/utils/extmath.py:193: RuntimeWarning: invalid value encountered in matmul\n",
      "  ret = a @ b\n"
     ]
    },
    {
     "name": "stdout",
     "output_type": "stream",
     "text": [
      "[CV] END activation=relu, alpha=0.09842308858067883, hidden_layer_sizes=(50,), learning_rate=constant, solver=adam; total time=   1.9s\n"
     ]
    },
    {
     "name": "stderr",
     "output_type": "stream",
     "text": [
      "/Users/examsherpa/miniconda3/envs/tf-env/lib/python3.8/site-packages/sklearn/neural_network/_base.py:173: RuntimeWarning: overflow encountered in square\n",
      "  return ((y_true - y_pred) ** 2).mean() / 2\n",
      "/Users/examsherpa/miniconda3/envs/tf-env/lib/python3.8/site-packages/sklearn/utils/extmath.py:193: RuntimeWarning: overflow encountered in matmul\n",
      "  ret = a @ b\n",
      "/Users/examsherpa/miniconda3/envs/tf-env/lib/python3.8/site-packages/sklearn/utils/extmath.py:193: RuntimeWarning: invalid value encountered in matmul\n",
      "  ret = a @ b\n"
     ]
    },
    {
     "name": "stdout",
     "output_type": "stream",
     "text": [
      "[CV] END activation=relu, alpha=0.09842308858067883, hidden_layer_sizes=(50,), learning_rate=constant, solver=adam; total time=   2.1s\n"
     ]
    },
    {
     "name": "stderr",
     "output_type": "stream",
     "text": [
      "/Users/examsherpa/miniconda3/envs/tf-env/lib/python3.8/site-packages/sklearn/neural_network/_base.py:173: RuntimeWarning: overflow encountered in square\n",
      "  return ((y_true - y_pred) ** 2).mean() / 2\n",
      "/Users/examsherpa/miniconda3/envs/tf-env/lib/python3.8/site-packages/sklearn/utils/extmath.py:193: RuntimeWarning: overflow encountered in matmul\n",
      "  ret = a @ b\n",
      "/Users/examsherpa/miniconda3/envs/tf-env/lib/python3.8/site-packages/sklearn/utils/extmath.py:193: RuntimeWarning: invalid value encountered in matmul\n",
      "  ret = a @ b\n"
     ]
    },
    {
     "name": "stdout",
     "output_type": "stream",
     "text": [
      "[CV] END activation=tanh, alpha=0.00916064345328208, hidden_layer_sizes=(100,), learning_rate=constant, solver=sgd; total time=   8.6s\n",
      "[CV] END activation=tanh, alpha=0.00916064345328208, hidden_layer_sizes=(100,), learning_rate=constant, solver=sgd; total time=  20.5s\n"
     ]
    },
    {
     "name": "stderr",
     "output_type": "stream",
     "text": [
      "/Users/examsherpa/miniconda3/envs/tf-env/lib/python3.8/site-packages/sklearn/neural_network/_multilayer_perceptron.py:691: ConvergenceWarning: Stochastic Optimizer: Maximum iterations (1000) reached and the optimization hasn't converged yet.\n",
      "  warnings.warn(\n",
      "/Users/examsherpa/miniconda3/envs/tf-env/lib/python3.8/site-packages/sklearn/neural_network/_multilayer_perceptron.py:691: ConvergenceWarning: Stochastic Optimizer: Maximum iterations (1000) reached and the optimization hasn't converged yet.\n",
      "  warnings.warn(\n"
     ]
    },
    {
     "name": "stdout",
     "output_type": "stream",
     "text": [
      "[CV] END activation=tanh, alpha=0.09395527090157503, hidden_layer_sizes=(100,), learning_rate=adaptive, solver=sgd; total time= 1.5min\n",
      "[CV] END activation=tanh, alpha=0.09395527090157503, hidden_layer_sizes=(100,), learning_rate=adaptive, solver=sgd; total time= 1.6min\n"
     ]
    },
    {
     "name": "stderr",
     "output_type": "stream",
     "text": [
      "/Users/examsherpa/miniconda3/envs/tf-env/lib/python3.8/site-packages/sklearn/neural_network/_multilayer_perceptron.py:691: ConvergenceWarning: Stochastic Optimizer: Maximum iterations (1000) reached and the optimization hasn't converged yet.\n",
      "  warnings.warn(\n"
     ]
    },
    {
     "name": "stdout",
     "output_type": "stream",
     "text": [
      "[CV] END activation=tanh, alpha=0.09395527090157503, hidden_layer_sizes=(100,), learning_rate=adaptive, solver=sgd; total time= 1.5min\n"
     ]
    },
    {
     "name": "stderr",
     "output_type": "stream",
     "text": [
      "/Users/examsherpa/miniconda3/envs/tf-env/lib/python3.8/site-packages/sklearn/neural_network/_multilayer_perceptron.py:691: ConvergenceWarning: Stochastic Optimizer: Maximum iterations (1000) reached and the optimization hasn't converged yet.\n",
      "  warnings.warn(\n"
     ]
    },
    {
     "name": "stdout",
     "output_type": "stream",
     "text": [
      "[CV] END activation=tanh, alpha=0.09395527090157503, hidden_layer_sizes=(100,), learning_rate=adaptive, solver=sgd; total time= 1.6min\n"
     ]
    },
    {
     "name": "stderr",
     "output_type": "stream",
     "text": [
      "/Users/examsherpa/miniconda3/envs/tf-env/lib/python3.8/site-packages/sklearn/neural_network/_multilayer_perceptron.py:691: ConvergenceWarning: Stochastic Optimizer: Maximum iterations (1000) reached and the optimization hasn't converged yet.\n",
      "  warnings.warn(\n",
      "/Users/examsherpa/miniconda3/envs/tf-env/lib/python3.8/site-packages/sklearn/neural_network/_multilayer_perceptron.py:691: ConvergenceWarning: Stochastic Optimizer: Maximum iterations (1000) reached and the optimization hasn't converged yet.\n",
      "  warnings.warn(\n",
      "/Users/examsherpa/miniconda3/envs/tf-env/lib/python3.8/site-packages/sklearn/neural_network/_base.py:173: RuntimeWarning: overflow encountered in square\n",
      "  return ((y_true - y_pred) ** 2).mean() / 2\n",
      "/Users/examsherpa/miniconda3/envs/tf-env/lib/python3.8/site-packages/sklearn/utils/extmath.py:193: RuntimeWarning: overflow encountered in matmul\n",
      "  ret = a @ b\n",
      "/Users/examsherpa/miniconda3/envs/tf-env/lib/python3.8/site-packages/sklearn/utils/extmath.py:193: RuntimeWarning: invalid value encountered in matmul\n",
      "  ret = a @ b\n"
     ]
    },
    {
     "name": "stdout",
     "output_type": "stream",
     "text": [
      "[CV] END activation=relu, alpha=0.06813075385877798, hidden_layer_sizes=(50,), learning_rate=constant, solver=sgd; total time=  49.8s\n",
      "[CV] END activation=relu, alpha=0.06813075385877798, hidden_layer_sizes=(50,), learning_rate=constant, solver=sgd; total time=  50.1s\n"
     ]
    },
    {
     "name": "stderr",
     "output_type": "stream",
     "text": [
      "/Users/examsherpa/miniconda3/envs/tf-env/lib/python3.8/site-packages/sklearn/neural_network/_multilayer_perceptron.py:691: ConvergenceWarning: Stochastic Optimizer: Maximum iterations (1000) reached and the optimization hasn't converged yet.\n",
      "  warnings.warn(\n",
      "/Users/examsherpa/miniconda3/envs/tf-env/lib/python3.8/site-packages/sklearn/neural_network/_base.py:173: RuntimeWarning: overflow encountered in square\n",
      "  return ((y_true - y_pred) ** 2).mean() / 2\n",
      "/Users/examsherpa/miniconda3/envs/tf-env/lib/python3.8/site-packages/sklearn/utils/extmath.py:193: RuntimeWarning: overflow encountered in matmul\n",
      "  ret = a @ b\n",
      "/Users/examsherpa/miniconda3/envs/tf-env/lib/python3.8/site-packages/sklearn/utils/extmath.py:193: RuntimeWarning: invalid value encountered in matmul\n",
      "  ret = a @ b\n"
     ]
    },
    {
     "name": "stdout",
     "output_type": "stream",
     "text": [
      "[CV] END activation=relu, alpha=0.06813075385877798, hidden_layer_sizes=(50,), learning_rate=constant, solver=sgd; total time=  49.5s\n"
     ]
    },
    {
     "name": "stderr",
     "output_type": "stream",
     "text": [
      "/Users/examsherpa/miniconda3/envs/tf-env/lib/python3.8/site-packages/sklearn/neural_network/_multilayer_perceptron.py:691: ConvergenceWarning: Stochastic Optimizer: Maximum iterations (1000) reached and the optimization hasn't converged yet.\n",
      "  warnings.warn(\n",
      "/Users/examsherpa/miniconda3/envs/tf-env/lib/python3.8/site-packages/sklearn/neural_network/_base.py:173: RuntimeWarning: overflow encountered in square\n",
      "  return ((y_true - y_pred) ** 2).mean() / 2\n",
      "/Users/examsherpa/miniconda3/envs/tf-env/lib/python3.8/site-packages/sklearn/utils/extmath.py:193: RuntimeWarning: overflow encountered in matmul\n",
      "  ret = a @ b\n",
      "/Users/examsherpa/miniconda3/envs/tf-env/lib/python3.8/site-packages/sklearn/utils/extmath.py:193: RuntimeWarning: invalid value encountered in matmul\n",
      "  ret = a @ b\n"
     ]
    },
    {
     "name": "stdout",
     "output_type": "stream",
     "text": [
      "[CV] END activation=relu, alpha=0.06813075385877798, hidden_layer_sizes=(50,), learning_rate=constant, solver=sgd; total time=  49.5s\n"
     ]
    },
    {
     "name": "stderr",
     "output_type": "stream",
     "text": [
      "/Users/examsherpa/miniconda3/envs/tf-env/lib/python3.8/site-packages/sklearn/neural_network/_multilayer_perceptron.py:691: ConvergenceWarning: Stochastic Optimizer: Maximum iterations (1000) reached and the optimization hasn't converged yet.\n",
      "  warnings.warn(\n",
      "/Users/examsherpa/miniconda3/envs/tf-env/lib/python3.8/site-packages/sklearn/neural_network/_base.py:173: RuntimeWarning: overflow encountered in square\n",
      "  return ((y_true - y_pred) ** 2).mean() / 2\n",
      "/Users/examsherpa/miniconda3/envs/tf-env/lib/python3.8/site-packages/sklearn/utils/extmath.py:193: RuntimeWarning: overflow encountered in matmul\n",
      "  ret = a @ b\n",
      "/Users/examsherpa/miniconda3/envs/tf-env/lib/python3.8/site-packages/sklearn/utils/extmath.py:193: RuntimeWarning: invalid value encountered in matmul\n",
      "  ret = a @ b\n"
     ]
    },
    {
     "name": "stdout",
     "output_type": "stream",
     "text": [
      "[CV] END activation=relu, alpha=0.06813075385877798, hidden_layer_sizes=(50,), learning_rate=constant, solver=sgd; total time=  53.0s\n"
     ]
    },
    {
     "name": "stderr",
     "output_type": "stream",
     "text": [
      "/Users/examsherpa/miniconda3/envs/tf-env/lib/python3.8/site-packages/sklearn/neural_network/_multilayer_perceptron.py:691: ConvergenceWarning: Stochastic Optimizer: Maximum iterations (1000) reached and the optimization hasn't converged yet.\n",
      "  warnings.warn(\n",
      "/Users/examsherpa/miniconda3/envs/tf-env/lib/python3.8/site-packages/sklearn/neural_network/_base.py:173: RuntimeWarning: overflow encountered in square\n",
      "  return ((y_true - y_pred) ** 2).mean() / 2\n",
      "/Users/examsherpa/miniconda3/envs/tf-env/lib/python3.8/site-packages/sklearn/utils/extmath.py:193: RuntimeWarning: overflow encountered in matmul\n",
      "  ret = a @ b\n",
      "/Users/examsherpa/miniconda3/envs/tf-env/lib/python3.8/site-packages/sklearn/utils/extmath.py:193: RuntimeWarning: invalid value encountered in matmul\n",
      "  ret = a @ b\n"
     ]
    },
    {
     "name": "stdout",
     "output_type": "stream",
     "text": [
      "[CV] END activation=tanh, alpha=0.00916064345328208, hidden_layer_sizes=(100,), learning_rate=constant, solver=sgd; total time= 1.7min\n",
      "[CV] END activation=tanh, alpha=0.09432017556848528, hidden_layer_sizes=(100,), learning_rate=adaptive, solver=sgd; total time= 1.0min\n"
     ]
    },
    {
     "name": "stderr",
     "output_type": "stream",
     "text": [
      "/Users/examsherpa/miniconda3/envs/tf-env/lib/python3.8/site-packages/sklearn/neural_network/_base.py:173: RuntimeWarning: overflow encountered in square\n",
      "  return ((y_true - y_pred) ** 2).mean() / 2\n",
      "/Users/examsherpa/miniconda3/envs/tf-env/lib/python3.8/site-packages/sklearn/utils/extmath.py:193: RuntimeWarning: overflow encountered in matmul\n",
      "  ret = a @ b\n",
      "/Users/examsherpa/miniconda3/envs/tf-env/lib/python3.8/site-packages/sklearn/utils/extmath.py:193: RuntimeWarning: invalid value encountered in matmul\n",
      "  ret = a @ b\n"
     ]
    },
    {
     "name": "stdout",
     "output_type": "stream",
     "text": [
      "[CV] END activation=tanh, alpha=0.09432017556848528, hidden_layer_sizes=(100,), learning_rate=adaptive, solver=sgd; total time= 1.6min\n"
     ]
    },
    {
     "name": "stderr",
     "output_type": "stream",
     "text": [
      "/Users/examsherpa/miniconda3/envs/tf-env/lib/python3.8/site-packages/sklearn/neural_network/_base.py:173: RuntimeWarning: overflow encountered in square\n",
      "  return ((y_true - y_pred) ** 2).mean() / 2\n",
      "/Users/examsherpa/miniconda3/envs/tf-env/lib/python3.8/site-packages/sklearn/utils/extmath.py:193: RuntimeWarning: overflow encountered in matmul\n",
      "  ret = a @ b\n",
      "/Users/examsherpa/miniconda3/envs/tf-env/lib/python3.8/site-packages/sklearn/utils/extmath.py:193: RuntimeWarning: invalid value encountered in matmul\n",
      "  ret = a @ b\n"
     ]
    },
    {
     "name": "stdout",
     "output_type": "stream",
     "text": [
      "[CV] END activation=tanh, alpha=0.09432017556848528, hidden_layer_sizes=(100,), learning_rate=adaptive, solver=sgd; total time= 1.5min\n"
     ]
    },
    {
     "name": "stderr",
     "output_type": "stream",
     "text": [
      "/Users/examsherpa/miniconda3/envs/tf-env/lib/python3.8/site-packages/sklearn/neural_network/_base.py:173: RuntimeWarning: overflow encountered in square\n",
      "  return ((y_true - y_pred) ** 2).mean() / 2\n",
      "/Users/examsherpa/miniconda3/envs/tf-env/lib/python3.8/site-packages/sklearn/utils/extmath.py:193: RuntimeWarning: overflow encountered in matmul\n",
      "  ret = a @ b\n",
      "/Users/examsherpa/miniconda3/envs/tf-env/lib/python3.8/site-packages/sklearn/utils/extmath.py:193: RuntimeWarning: invalid value encountered in matmul\n",
      "  ret = a @ b\n",
      "/Users/examsherpa/miniconda3/envs/tf-env/lib/python3.8/site-packages/sklearn/neural_network/_stochastic_optimizers.py:184: RuntimeWarning: invalid value encountered in subtract\n",
      "  self.momentum * velocity - self.learning_rate * grad\n",
      "/Users/examsherpa/miniconda3/envs/tf-env/lib/python3.8/site-packages/sklearn/neural_network/_multilayer_perceptron.py:691: ConvergenceWarning: Stochastic Optimizer: Maximum iterations (1000) reached and the optimization hasn't converged yet.\n",
      "  warnings.warn(\n",
      "/Users/examsherpa/miniconda3/envs/tf-env/lib/python3.8/site-packages/sklearn/neural_network/_base.py:173: RuntimeWarning: overflow encountered in square\n",
      "  return ((y_true - y_pred) ** 2).mean() / 2\n",
      "/Users/examsherpa/miniconda3/envs/tf-env/lib/python3.8/site-packages/sklearn/utils/extmath.py:193: RuntimeWarning: overflow encountered in matmul\n",
      "  ret = a @ b\n",
      "/Users/examsherpa/miniconda3/envs/tf-env/lib/python3.8/site-packages/sklearn/utils/extmath.py:193: RuntimeWarning: invalid value encountered in matmul\n",
      "  ret = a @ b\n"
     ]
    },
    {
     "name": "stdout",
     "output_type": "stream",
     "text": [
      "[CV] END activation=tanh, alpha=0.09432017556848528, hidden_layer_sizes=(100,), learning_rate=adaptive, solver=sgd; total time= 1.7min\n"
     ]
    },
    {
     "name": "stderr",
     "output_type": "stream",
     "text": [
      "/Users/examsherpa/miniconda3/envs/tf-env/lib/python3.8/site-packages/sklearn/neural_network/_multilayer_perceptron.py:691: ConvergenceWarning: Stochastic Optimizer: Maximum iterations (1000) reached and the optimization hasn't converged yet.\n",
      "  warnings.warn(\n",
      "/Users/examsherpa/miniconda3/envs/tf-env/lib/python3.8/site-packages/sklearn/neural_network/_base.py:173: RuntimeWarning: overflow encountered in square\n",
      "  return ((y_true - y_pred) ** 2).mean() / 2\n",
      "/Users/examsherpa/miniconda3/envs/tf-env/lib/python3.8/site-packages/sklearn/utils/extmath.py:193: RuntimeWarning: overflow encountered in matmul\n",
      "  ret = a @ b\n",
      "/Users/examsherpa/miniconda3/envs/tf-env/lib/python3.8/site-packages/sklearn/utils/extmath.py:193: RuntimeWarning: invalid value encountered in matmul\n",
      "  ret = a @ b\n"
     ]
    },
    {
     "name": "stdout",
     "output_type": "stream",
     "text": [
      "[CV] END activation=tanh, alpha=0.09432017556848528, hidden_layer_sizes=(100,), learning_rate=adaptive, solver=sgd; total time= 1.7min\n"
     ]
    },
    {
     "name": "stderr",
     "output_type": "stream",
     "text": [
      "/Users/examsherpa/miniconda3/envs/tf-env/lib/python3.8/site-packages/sklearn/neural_network/_multilayer_perceptron.py:691: ConvergenceWarning: Stochastic Optimizer: Maximum iterations (1000) reached and the optimization hasn't converged yet.\n",
      "  warnings.warn(\n",
      "/Users/examsherpa/miniconda3/envs/tf-env/lib/python3.8/site-packages/sklearn/neural_network/_base.py:173: RuntimeWarning: overflow encountered in square\n",
      "  return ((y_true - y_pred) ** 2).mean() / 2\n",
      "/Users/examsherpa/miniconda3/envs/tf-env/lib/python3.8/site-packages/sklearn/utils/extmath.py:193: RuntimeWarning: overflow encountered in matmul\n",
      "  ret = a @ b\n",
      "/Users/examsherpa/miniconda3/envs/tf-env/lib/python3.8/site-packages/sklearn/utils/extmath.py:193: RuntimeWarning: invalid value encountered in matmul\n",
      "  ret = a @ b\n"
     ]
    },
    {
     "name": "stdout",
     "output_type": "stream",
     "text": [
      "[CV] END activation=relu, alpha=0.0016966252220214195, hidden_layer_sizes=(100,), learning_rate=adaptive, solver=sgd; total time= 1.4min\n"
     ]
    },
    {
     "name": "stderr",
     "output_type": "stream",
     "text": [
      "/Users/examsherpa/miniconda3/envs/tf-env/lib/python3.8/site-packages/sklearn/neural_network/_multilayer_perceptron.py:691: ConvergenceWarning: Stochastic Optimizer: Maximum iterations (1000) reached and the optimization hasn't converged yet.\n",
      "  warnings.warn(\n",
      "/Users/examsherpa/miniconda3/envs/tf-env/lib/python3.8/site-packages/sklearn/neural_network/_base.py:173: RuntimeWarning: overflow encountered in square\n",
      "  return ((y_true - y_pred) ** 2).mean() / 2\n",
      "/Users/examsherpa/miniconda3/envs/tf-env/lib/python3.8/site-packages/sklearn/utils/extmath.py:193: RuntimeWarning: overflow encountered in matmul\n",
      "  ret = a @ b\n",
      "/Users/examsherpa/miniconda3/envs/tf-env/lib/python3.8/site-packages/sklearn/utils/extmath.py:193: RuntimeWarning: invalid value encountered in matmul\n",
      "  ret = a @ b\n"
     ]
    },
    {
     "name": "stdout",
     "output_type": "stream",
     "text": [
      "[CV] END activation=relu, alpha=0.0016966252220214195, hidden_layer_sizes=(100,), learning_rate=adaptive, solver=sgd; total time= 1.4min\n",
      "[CV] END activation=relu, alpha=0.0016966252220214195, hidden_layer_sizes=(100,), learning_rate=adaptive, solver=sgd; total time= 1.4min\n"
     ]
    },
    {
     "name": "stderr",
     "output_type": "stream",
     "text": [
      "/Users/examsherpa/miniconda3/envs/tf-env/lib/python3.8/site-packages/sklearn/neural_network/_multilayer_perceptron.py:691: ConvergenceWarning: Stochastic Optimizer: Maximum iterations (1000) reached and the optimization hasn't converged yet.\n",
      "  warnings.warn(\n",
      "/Users/examsherpa/miniconda3/envs/tf-env/lib/python3.8/site-packages/sklearn/neural_network/_base.py:173: RuntimeWarning: overflow encountered in square\n",
      "  return ((y_true - y_pred) ** 2).mean() / 2\n",
      "/Users/examsherpa/miniconda3/envs/tf-env/lib/python3.8/site-packages/sklearn/utils/extmath.py:193: RuntimeWarning: overflow encountered in matmul\n",
      "  ret = a @ b\n",
      "/Users/examsherpa/miniconda3/envs/tf-env/lib/python3.8/site-packages/sklearn/utils/extmath.py:193: RuntimeWarning: invalid value encountered in matmul\n",
      "  ret = a @ b\n",
      "/Users/examsherpa/miniconda3/envs/tf-env/lib/python3.8/site-packages/sklearn/neural_network/_multilayer_perceptron.py:691: ConvergenceWarning: Stochastic Optimizer: Maximum iterations (1000) reached and the optimization hasn't converged yet.\n",
      "  warnings.warn(\n"
     ]
    },
    {
     "name": "stdout",
     "output_type": "stream",
     "text": [
      "[CV] END activation=relu, alpha=0.0016966252220214195, hidden_layer_sizes=(100,), learning_rate=adaptive, solver=sgd; total time= 1.4min\n"
     ]
    },
    {
     "name": "stderr",
     "output_type": "stream",
     "text": [
      "/Users/examsherpa/miniconda3/envs/tf-env/lib/python3.8/site-packages/sklearn/neural_network/_multilayer_perceptron.py:691: ConvergenceWarning: Stochastic Optimizer: Maximum iterations (1000) reached and the optimization hasn't converged yet.\n",
      "  warnings.warn(\n"
     ]
    },
    {
     "name": "stdout",
     "output_type": "stream",
     "text": [
      "[CV] END activation=relu, alpha=0.0016966252220214195, hidden_layer_sizes=(100,), learning_rate=adaptive, solver=sgd; total time= 1.3min\n"
     ]
    },
    {
     "name": "stderr",
     "output_type": "stream",
     "text": [
      "/Users/examsherpa/miniconda3/envs/tf-env/lib/python3.8/site-packages/sklearn/neural_network/_multilayer_perceptron.py:691: ConvergenceWarning: Stochastic Optimizer: Maximum iterations (1000) reached and the optimization hasn't converged yet.\n",
      "  warnings.warn(\n"
     ]
    },
    {
     "name": "stdout",
     "output_type": "stream",
     "text": [
      "[CV] END activation=relu, alpha=0.017436465350777208, hidden_layer_sizes=(50,), learning_rate=adaptive, solver=sgd; total time=  48.4s\n"
     ]
    },
    {
     "name": "stderr",
     "output_type": "stream",
     "text": [
      "/Users/examsherpa/miniconda3/envs/tf-env/lib/python3.8/site-packages/sklearn/neural_network/_multilayer_perceptron.py:691: ConvergenceWarning: Stochastic Optimizer: Maximum iterations (1000) reached and the optimization hasn't converged yet.\n",
      "  warnings.warn(\n"
     ]
    },
    {
     "name": "stdout",
     "output_type": "stream",
     "text": [
      "[CV] END activation=relu, alpha=0.017436465350777208, hidden_layer_sizes=(50,), learning_rate=adaptive, solver=sgd; total time=  48.8s\n"
     ]
    },
    {
     "name": "stderr",
     "output_type": "stream",
     "text": [
      "/Users/examsherpa/miniconda3/envs/tf-env/lib/python3.8/site-packages/sklearn/neural_network/_multilayer_perceptron.py:691: ConvergenceWarning: Stochastic Optimizer: Maximum iterations (1000) reached and the optimization hasn't converged yet.\n",
      "  warnings.warn(\n"
     ]
    },
    {
     "name": "stdout",
     "output_type": "stream",
     "text": [
      "[CV] END activation=relu, alpha=0.017436465350777208, hidden_layer_sizes=(50,), learning_rate=adaptive, solver=sgd; total time=  48.1s\n",
      "[CV] END activation=tanh, alpha=0.07563614103176526, hidden_layer_sizes=(100,), learning_rate=adaptive, solver=sgd; total time=   6.4s\n"
     ]
    },
    {
     "name": "stderr",
     "output_type": "stream",
     "text": [
      "/Users/examsherpa/miniconda3/envs/tf-env/lib/python3.8/site-packages/sklearn/neural_network/_multilayer_perceptron.py:691: ConvergenceWarning: Stochastic Optimizer: Maximum iterations (1000) reached and the optimization hasn't converged yet.\n",
      "  warnings.warn(\n"
     ]
    },
    {
     "name": "stdout",
     "output_type": "stream",
     "text": [
      "[CV] END activation=relu, alpha=0.017436465350777208, hidden_layer_sizes=(50,), learning_rate=adaptive, solver=sgd; total time=  48.0s\n",
      "[CV] END activation=tanh, alpha=0.07563614103176526, hidden_layer_sizes=(100,), learning_rate=adaptive, solver=sgd; total time=  21.1s\n"
     ]
    },
    {
     "name": "stderr",
     "output_type": "stream",
     "text": [
      "/Users/examsherpa/miniconda3/envs/tf-env/lib/python3.8/site-packages/sklearn/neural_network/_multilayer_perceptron.py:691: ConvergenceWarning: Stochastic Optimizer: Maximum iterations (1000) reached and the optimization hasn't converged yet.\n",
      "  warnings.warn(\n"
     ]
    },
    {
     "name": "stdout",
     "output_type": "stream",
     "text": [
      "[CV] END activation=relu, alpha=0.017436465350777208, hidden_layer_sizes=(50,), learning_rate=adaptive, solver=sgd; total time=  47.8s\n"
     ]
    },
    {
     "name": "stderr",
     "output_type": "stream",
     "text": [
      "/Users/examsherpa/miniconda3/envs/tf-env/lib/python3.8/site-packages/sklearn/neural_network/_multilayer_perceptron.py:691: ConvergenceWarning: Stochastic Optimizer: Maximum iterations (1000) reached and the optimization hasn't converged yet.\n",
      "  warnings.warn(\n"
     ]
    },
    {
     "name": "stdout",
     "output_type": "stream",
     "text": [
      "[CV] END activation=tanh, alpha=0.056870032781999154, hidden_layer_sizes=(50,), learning_rate=constant, solver=sgd; total time=  59.8s\n"
     ]
    },
    {
     "name": "stderr",
     "output_type": "stream",
     "text": [
      "/Users/examsherpa/miniconda3/envs/tf-env/lib/python3.8/site-packages/sklearn/neural_network/_multilayer_perceptron.py:691: ConvergenceWarning: Stochastic Optimizer: Maximum iterations (1000) reached and the optimization hasn't converged yet.\n",
      "  warnings.warn(\n"
     ]
    },
    {
     "name": "stdout",
     "output_type": "stream",
     "text": [
      "[CV] END activation=tanh, alpha=0.056870032781999154, hidden_layer_sizes=(50,), learning_rate=constant, solver=sgd; total time=  59.8s\n"
     ]
    },
    {
     "name": "stderr",
     "output_type": "stream",
     "text": [
      "/Users/examsherpa/miniconda3/envs/tf-env/lib/python3.8/site-packages/sklearn/neural_network/_multilayer_perceptron.py:691: ConvergenceWarning: Stochastic Optimizer: Maximum iterations (1000) reached and the optimization hasn't converged yet.\n",
      "  warnings.warn(\n"
     ]
    },
    {
     "name": "stdout",
     "output_type": "stream",
     "text": [
      "[CV] END activation=relu, alpha=0.06842635188254582, hidden_layer_sizes=(100, 50, 100), learning_rate=constant, solver=sgd; total time= 2.8min\n"
     ]
    },
    {
     "name": "stderr",
     "output_type": "stream",
     "text": [
      "/Users/examsherpa/miniconda3/envs/tf-env/lib/python3.8/site-packages/sklearn/neural_network/_multilayer_perceptron.py:691: ConvergenceWarning: Stochastic Optimizer: Maximum iterations (1000) reached and the optimization hasn't converged yet.\n",
      "  warnings.warn(\n"
     ]
    },
    {
     "name": "stdout",
     "output_type": "stream",
     "text": [
      "[CV] END activation=tanh, alpha=0.07563614103176526, hidden_layer_sizes=(100,), learning_rate=adaptive, solver=sgd; total time= 1.6min\n"
     ]
    },
    {
     "name": "stderr",
     "output_type": "stream",
     "text": [
      "/Users/examsherpa/miniconda3/envs/tf-env/lib/python3.8/site-packages/sklearn/neural_network/_multilayer_perceptron.py:691: ConvergenceWarning: Stochastic Optimizer: Maximum iterations (1000) reached and the optimization hasn't converged yet.\n",
      "  warnings.warn(\n"
     ]
    },
    {
     "name": "stdout",
     "output_type": "stream",
     "text": [
      "[CV] END activation=tanh, alpha=0.07563614103176526, hidden_layer_sizes=(100,), learning_rate=adaptive, solver=sgd; total time= 1.6min\n"
     ]
    },
    {
     "name": "stderr",
     "output_type": "stream",
     "text": [
      "/Users/examsherpa/miniconda3/envs/tf-env/lib/python3.8/site-packages/sklearn/neural_network/_multilayer_perceptron.py:691: ConvergenceWarning: Stochastic Optimizer: Maximum iterations (1000) reached and the optimization hasn't converged yet.\n",
      "  warnings.warn(\n"
     ]
    },
    {
     "name": "stdout",
     "output_type": "stream",
     "text": [
      "[CV] END activation=relu, alpha=0.06842635188254582, hidden_layer_sizes=(100, 50, 100), learning_rate=constant, solver=sgd; total time= 2.8min\n"
     ]
    },
    {
     "name": "stderr",
     "output_type": "stream",
     "text": [
      "/Users/examsherpa/miniconda3/envs/tf-env/lib/python3.8/site-packages/sklearn/neural_network/_multilayer_perceptron.py:691: ConvergenceWarning: Stochastic Optimizer: Maximum iterations (1000) reached and the optimization hasn't converged yet.\n",
      "  warnings.warn(\n"
     ]
    },
    {
     "name": "stdout",
     "output_type": "stream",
     "text": [
      "[CV] END activation=tanh, alpha=0.07563614103176526, hidden_layer_sizes=(100,), learning_rate=adaptive, solver=sgd; total time= 1.6min\n"
     ]
    },
    {
     "name": "stderr",
     "output_type": "stream",
     "text": [
      "/Users/examsherpa/miniconda3/envs/tf-env/lib/python3.8/site-packages/sklearn/neural_network/_multilayer_perceptron.py:691: ConvergenceWarning: Stochastic Optimizer: Maximum iterations (1000) reached and the optimization hasn't converged yet.\n",
      "  warnings.warn(\n"
     ]
    },
    {
     "name": "stdout",
     "output_type": "stream",
     "text": [
      "[CV] END activation=relu, alpha=0.06842635188254582, hidden_layer_sizes=(100, 50, 100), learning_rate=constant, solver=sgd; total time= 2.8min\n"
     ]
    },
    {
     "name": "stderr",
     "output_type": "stream",
     "text": [
      "/Users/examsherpa/miniconda3/envs/tf-env/lib/python3.8/site-packages/sklearn/neural_network/_multilayer_perceptron.py:691: ConvergenceWarning: Stochastic Optimizer: Maximum iterations (1000) reached and the optimization hasn't converged yet.\n",
      "  warnings.warn(\n"
     ]
    },
    {
     "name": "stdout",
     "output_type": "stream",
     "text": [
      "[CV] END activation=relu, alpha=0.06842635188254582, hidden_layer_sizes=(100, 50, 100), learning_rate=constant, solver=sgd; total time= 2.8min\n"
     ]
    },
    {
     "name": "stderr",
     "output_type": "stream",
     "text": [
      "/Users/examsherpa/miniconda3/envs/tf-env/lib/python3.8/site-packages/sklearn/neural_network/_multilayer_perceptron.py:691: ConvergenceWarning: Stochastic Optimizer: Maximum iterations (1000) reached and the optimization hasn't converged yet.\n",
      "  warnings.warn(\n"
     ]
    },
    {
     "name": "stdout",
     "output_type": "stream",
     "text": [
      "[CV] END activation=relu, alpha=0.06842635188254582, hidden_layer_sizes=(100, 50, 100), learning_rate=constant, solver=sgd; total time= 2.9min\n",
      "[CV] END activation=tanh, alpha=0.0728271995856421, hidden_layer_sizes=(50, 50), learning_rate=adaptive, solver=sgd; total time=  13.3s\n",
      "[CV] END activation=tanh, alpha=0.0728271995856421, hidden_layer_sizes=(50, 50), learning_rate=adaptive, solver=sgd; total time=  21.3s\n"
     ]
    },
    {
     "name": "stderr",
     "output_type": "stream",
     "text": [
      "/Users/examsherpa/miniconda3/envs/tf-env/lib/python3.8/site-packages/sklearn/neural_network/_multilayer_perceptron.py:691: ConvergenceWarning: Stochastic Optimizer: Maximum iterations (1000) reached and the optimization hasn't converged yet.\n",
      "  warnings.warn(\n"
     ]
    },
    {
     "name": "stdout",
     "output_type": "stream",
     "text": [
      "[CV] END activation=tanh, alpha=0.056870032781999154, hidden_layer_sizes=(50,), learning_rate=constant, solver=sgd; total time=  59.0s\n"
     ]
    },
    {
     "name": "stderr",
     "output_type": "stream",
     "text": [
      "/Users/examsherpa/miniconda3/envs/tf-env/lib/python3.8/site-packages/sklearn/neural_network/_multilayer_perceptron.py:691: ConvergenceWarning: Stochastic Optimizer: Maximum iterations (1000) reached and the optimization hasn't converged yet.\n",
      "  warnings.warn(\n"
     ]
    },
    {
     "name": "stdout",
     "output_type": "stream",
     "text": [
      "[CV] END activation=tanh, alpha=0.056870032781999154, hidden_layer_sizes=(50,), learning_rate=constant, solver=sgd; total time=  57.2s\n",
      "[CV] END activation=relu, alpha=0.05218342600258237, hidden_layer_sizes=(100,), learning_rate=adaptive, solver=adam; total time=   4.3s\n",
      "[CV] END activation=tanh, alpha=0.0728271995856421, hidden_layer_sizes=(50, 50), learning_rate=adaptive, solver=sgd; total time=   8.5s\n",
      "[CV] END activation=tanh, alpha=0.04507541333697657, hidden_layer_sizes=(100,), learning_rate=adaptive, solver=sgd; total time=  38.8s\n",
      "[CV] END activation=relu, alpha=0.05218342600258237, hidden_layer_sizes=(100,), learning_rate=adaptive, solver=adam; total time=   2.2s\n",
      "[CV] END activation=tanh, alpha=0.056870032781999154, hidden_layer_sizes=(50,), learning_rate=constant, solver=sgd; total time=  58.2s\n"
     ]
    },
    {
     "name": "stderr",
     "output_type": "stream",
     "text": [
      "/Users/examsherpa/miniconda3/envs/tf-env/lib/python3.8/site-packages/sklearn/neural_network/_multilayer_perceptron.py:691: ConvergenceWarning: Stochastic Optimizer: Maximum iterations (1000) reached and the optimization hasn't converged yet.\n",
      "  warnings.warn(\n"
     ]
    },
    {
     "name": "stdout",
     "output_type": "stream",
     "text": [
      "[CV] END activation=tanh, alpha=0.0728271995856421, hidden_layer_sizes=(50, 50), learning_rate=adaptive, solver=sgd; total time=  18.3s\n",
      "[CV] END activation=relu, alpha=0.05218342600258237, hidden_layer_sizes=(100,), learning_rate=adaptive, solver=adam; total time=   3.8s\n",
      "[CV] END activation=relu, alpha=0.05218342600258237, hidden_layer_sizes=(100,), learning_rate=adaptive, solver=adam; total time=   1.9s\n",
      "[CV] END activation=tanh, alpha=0.0748320110137381, hidden_layer_sizes=(50, 50), learning_rate=constant, solver=sgd; total time=   2.2s\n",
      "[CV] END activation=relu, alpha=0.05218342600258237, hidden_layer_sizes=(100,), learning_rate=adaptive, solver=adam; total time=   2.9s\n",
      "[CV] END activation=tanh, alpha=0.0728271995856421, hidden_layer_sizes=(50, 50), learning_rate=adaptive, solver=sgd; total time=  16.3s\n",
      "[CV] END activation=tanh, alpha=0.0748320110137381, hidden_layer_sizes=(50, 50), learning_rate=constant, solver=sgd; total time=   3.0s\n",
      "[CV] END activation=tanh, alpha=0.0748320110137381, hidden_layer_sizes=(50, 50), learning_rate=constant, solver=sgd; total time=  16.1s\n",
      "[CV] END activation=tanh, alpha=0.0966255307264138, hidden_layer_sizes=(100, 50, 100), learning_rate=adaptive, solver=adam; total time=  15.1s\n",
      "[CV] END activation=tanh, alpha=0.0966255307264138, hidden_layer_sizes=(100, 50, 100), learning_rate=adaptive, solver=adam; total time=  15.1s\n",
      "[CV] END activation=relu, alpha=0.02972735057040824, hidden_layer_sizes=(50,), learning_rate=constant, solver=adam; total time=   2.5s\n",
      "[CV] END activation=tanh, alpha=0.0966255307264138, hidden_layer_sizes=(100, 50, 100), learning_rate=adaptive, solver=adam; total time=  16.4s\n",
      "[CV] END activation=relu, alpha=0.02972735057040824, hidden_layer_sizes=(50,), learning_rate=constant, solver=adam; total time=   2.8s\n",
      "[CV] END activation=relu, alpha=0.02972735057040824, hidden_layer_sizes=(50,), learning_rate=constant, solver=adam; total time=   2.6s\n",
      "[CV] END activation=relu, alpha=0.02972735057040824, hidden_layer_sizes=(50,), learning_rate=constant, solver=adam; total time=   2.2s\n"
     ]
    },
    {
     "name": "stderr",
     "output_type": "stream",
     "text": [
      "/Users/examsherpa/miniconda3/envs/tf-env/lib/python3.8/site-packages/sklearn/neural_network/_base.py:173: RuntimeWarning: overflow encountered in square\n",
      "  return ((y_true - y_pred) ** 2).mean() / 2\n",
      "/Users/examsherpa/miniconda3/envs/tf-env/lib/python3.8/site-packages/sklearn/utils/extmath.py:193: RuntimeWarning: overflow encountered in matmul\n",
      "  ret = a @ b\n",
      "/Users/examsherpa/miniconda3/envs/tf-env/lib/python3.8/site-packages/sklearn/utils/extmath.py:193: RuntimeWarning: invalid value encountered in matmul\n",
      "  ret = a @ b\n"
     ]
    },
    {
     "name": "stdout",
     "output_type": "stream",
     "text": [
      "[CV] END activation=relu, alpha=0.02972735057040824, hidden_layer_sizes=(50,), learning_rate=constant, solver=adam; total time=   2.6s\n",
      "[CV] END activation=tanh, alpha=0.0748320110137381, hidden_layer_sizes=(50, 50), learning_rate=constant, solver=sgd; total time=  25.6s\n"
     ]
    },
    {
     "name": "stderr",
     "output_type": "stream",
     "text": [
      "/Users/examsherpa/miniconda3/envs/tf-env/lib/python3.8/site-packages/sklearn/neural_network/_base.py:173: RuntimeWarning: overflow encountered in square\n",
      "  return ((y_true - y_pred) ** 2).mean() / 2\n",
      "/Users/examsherpa/miniconda3/envs/tf-env/lib/python3.8/site-packages/sklearn/utils/extmath.py:193: RuntimeWarning: overflow encountered in matmul\n",
      "  ret = a @ b\n",
      "/Users/examsherpa/miniconda3/envs/tf-env/lib/python3.8/site-packages/sklearn/utils/extmath.py:193: RuntimeWarning: invalid value encountered in matmul\n",
      "  ret = a @ b\n",
      "/Users/examsherpa/miniconda3/envs/tf-env/lib/python3.8/site-packages/sklearn/neural_network/_base.py:173: RuntimeWarning: overflow encountered in square\n",
      "  return ((y_true - y_pred) ** 2).mean() / 2\n",
      "/Users/examsherpa/miniconda3/envs/tf-env/lib/python3.8/site-packages/sklearn/utils/extmath.py:193: RuntimeWarning: overflow encountered in matmul\n",
      "  ret = a @ b\n",
      "/Users/examsherpa/miniconda3/envs/tf-env/lib/python3.8/site-packages/sklearn/utils/extmath.py:193: RuntimeWarning: invalid value encountered in matmul\n",
      "  ret = a @ b\n"
     ]
    },
    {
     "name": "stdout",
     "output_type": "stream",
     "text": [
      "[CV] END activation=tanh, alpha=0.0966255307264138, hidden_layer_sizes=(100, 50, 100), learning_rate=adaptive, solver=adam; total time=  19.4s\n",
      "[CV] END activation=tanh, alpha=0.0748320110137381, hidden_layer_sizes=(50, 50), learning_rate=constant, solver=sgd; total time=  37.6s\n",
      "[CV] END activation=tanh, alpha=0.0966255307264138, hidden_layer_sizes=(100, 50, 100), learning_rate=adaptive, solver=adam; total time=  21.7s\n"
     ]
    },
    {
     "name": "stderr",
     "output_type": "stream",
     "text": [
      "/Users/examsherpa/miniconda3/envs/tf-env/lib/python3.8/site-packages/sklearn/neural_network/_multilayer_perceptron.py:691: ConvergenceWarning: Stochastic Optimizer: Maximum iterations (1000) reached and the optimization hasn't converged yet.\n",
      "  warnings.warn(\n"
     ]
    },
    {
     "name": "stdout",
     "output_type": "stream",
     "text": [
      "[CV] END activation=tanh, alpha=0.04507541333697657, hidden_layer_sizes=(100,), learning_rate=adaptive, solver=sgd; total time= 1.6min\n",
      "[CV] END activation=tanh, alpha=0.0015079822715084457, hidden_layer_sizes=(50, 50), learning_rate=constant, solver=sgd; total time=   2.9s\n",
      "[CV] END activation=tanh, alpha=0.0015079822715084457, hidden_layer_sizes=(50, 50), learning_rate=constant, solver=sgd; total time=   5.3s\n"
     ]
    },
    {
     "name": "stderr",
     "output_type": "stream",
     "text": [
      "/Users/examsherpa/miniconda3/envs/tf-env/lib/python3.8/site-packages/sklearn/neural_network/_multilayer_perceptron.py:691: ConvergenceWarning: Stochastic Optimizer: Maximum iterations (1000) reached and the optimization hasn't converged yet.\n",
      "  warnings.warn(\n"
     ]
    },
    {
     "name": "stdout",
     "output_type": "stream",
     "text": [
      "[CV] END activation=tanh, alpha=0.04507541333697657, hidden_layer_sizes=(100,), learning_rate=adaptive, solver=sgd; total time= 1.6min\n",
      "[CV] END activation=tanh, alpha=0.0015079822715084457, hidden_layer_sizes=(50, 50), learning_rate=constant, solver=sgd; total time=   2.4s\n"
     ]
    },
    {
     "name": "stderr",
     "output_type": "stream",
     "text": [
      "/Users/examsherpa/miniconda3/envs/tf-env/lib/python3.8/site-packages/sklearn/utils/extmath.py:193: RuntimeWarning: overflow encountered in matmul\n",
      "  ret = a @ b\n",
      "/Users/examsherpa/miniconda3/envs/tf-env/lib/python3.8/site-packages/sklearn/utils/extmath.py:193: RuntimeWarning: invalid value encountered in matmul\n",
      "  ret = a @ b\n"
     ]
    },
    {
     "name": "stdout",
     "output_type": "stream",
     "text": [
      "[CV] END activation=tanh, alpha=0.0015079822715084457, hidden_layer_sizes=(50, 50), learning_rate=constant, solver=sgd; total time=   6.3s\n"
     ]
    },
    {
     "name": "stderr",
     "output_type": "stream",
     "text": [
      "/Users/examsherpa/miniconda3/envs/tf-env/lib/python3.8/site-packages/sklearn/neural_network/_base.py:173: RuntimeWarning: overflow encountered in square\n",
      "  return ((y_true - y_pred) ** 2).mean() / 2\n",
      "/Users/examsherpa/miniconda3/envs/tf-env/lib/python3.8/site-packages/sklearn/utils/extmath.py:193: RuntimeWarning: overflow encountered in matmul\n",
      "  ret = a @ b\n",
      "/Users/examsherpa/miniconda3/envs/tf-env/lib/python3.8/site-packages/sklearn/utils/extmath.py:193: RuntimeWarning: invalid value encountered in matmul\n",
      "  ret = a @ b\n",
      "/Users/examsherpa/miniconda3/envs/tf-env/lib/python3.8/site-packages/sklearn/neural_network/_multilayer_perceptron.py:691: ConvergenceWarning: Stochastic Optimizer: Maximum iterations (1000) reached and the optimization hasn't converged yet.\n",
      "  warnings.warn(\n",
      "/Users/examsherpa/miniconda3/envs/tf-env/lib/python3.8/site-packages/sklearn/neural_network/_base.py:173: RuntimeWarning: overflow encountered in square\n",
      "  return ((y_true - y_pred) ** 2).mean() / 2\n",
      "/Users/examsherpa/miniconda3/envs/tf-env/lib/python3.8/site-packages/sklearn/utils/extmath.py:193: RuntimeWarning: overflow encountered in matmul\n",
      "  ret = a @ b\n",
      "/Users/examsherpa/miniconda3/envs/tf-env/lib/python3.8/site-packages/sklearn/utils/extmath.py:193: RuntimeWarning: invalid value encountered in matmul\n",
      "  ret = a @ b\n"
     ]
    },
    {
     "name": "stdout",
     "output_type": "stream",
     "text": [
      "[CV] END activation=tanh, alpha=0.04507541333697657, hidden_layer_sizes=(100,), learning_rate=adaptive, solver=sgd; total time= 1.6min\n"
     ]
    },
    {
     "name": "stderr",
     "output_type": "stream",
     "text": [
      "/Users/examsherpa/miniconda3/envs/tf-env/lib/python3.8/site-packages/sklearn/neural_network/_multilayer_perceptron.py:691: ConvergenceWarning: Stochastic Optimizer: Maximum iterations (1000) reached and the optimization hasn't converged yet.\n",
      "  warnings.warn(\n",
      "/Users/examsherpa/miniconda3/envs/tf-env/lib/python3.8/site-packages/sklearn/neural_network/_base.py:173: RuntimeWarning: overflow encountered in square\n",
      "  return ((y_true - y_pred) ** 2).mean() / 2\n",
      "/Users/examsherpa/miniconda3/envs/tf-env/lib/python3.8/site-packages/sklearn/utils/extmath.py:193: RuntimeWarning: overflow encountered in matmul\n",
      "  ret = a @ b\n",
      "/Users/examsherpa/miniconda3/envs/tf-env/lib/python3.8/site-packages/sklearn/utils/extmath.py:193: RuntimeWarning: invalid value encountered in matmul\n",
      "  ret = a @ b\n"
     ]
    },
    {
     "name": "stdout",
     "output_type": "stream",
     "text": [
      "[CV] END activation=tanh, alpha=0.04507541333697657, hidden_layer_sizes=(100,), learning_rate=adaptive, solver=sgd; total time= 1.6min\n",
      "[CV] END activation=tanh, alpha=0.0015079822715084457, hidden_layer_sizes=(50, 50), learning_rate=constant, solver=sgd; total time=  15.9s\n"
     ]
    },
    {
     "name": "stderr",
     "output_type": "stream",
     "text": [
      "/Users/examsherpa/miniconda3/envs/tf-env/lib/python3.8/site-packages/sklearn/neural_network/_base.py:173: RuntimeWarning: overflow encountered in square\n",
      "  return ((y_true - y_pred) ** 2).mean() / 2\n",
      "/Users/examsherpa/miniconda3/envs/tf-env/lib/python3.8/site-packages/sklearn/utils/extmath.py:193: RuntimeWarning: overflow encountered in matmul\n",
      "  ret = a @ b\n",
      "/Users/examsherpa/miniconda3/envs/tf-env/lib/python3.8/site-packages/sklearn/utils/extmath.py:193: RuntimeWarning: invalid value encountered in matmul\n",
      "  ret = a @ b\n",
      "/Users/examsherpa/miniconda3/envs/tf-env/lib/python3.8/site-packages/sklearn/neural_network/_multilayer_perceptron.py:691: ConvergenceWarning: Stochastic Optimizer: Maximum iterations (1000) reached and the optimization hasn't converged yet.\n",
      "  warnings.warn(\n"
     ]
    },
    {
     "name": "stdout",
     "output_type": "stream",
     "text": [
      "[CV] END activation=relu, alpha=0.042440148070636965, hidden_layer_sizes=(50,), learning_rate=adaptive, solver=sgd; total time=  53.3s\n"
     ]
    },
    {
     "name": "stderr",
     "output_type": "stream",
     "text": [
      "/Users/examsherpa/miniconda3/envs/tf-env/lib/python3.8/site-packages/sklearn/neural_network/_multilayer_perceptron.py:691: ConvergenceWarning: Stochastic Optimizer: Maximum iterations (1000) reached and the optimization hasn't converged yet.\n",
      "  warnings.warn(\n"
     ]
    },
    {
     "name": "stdout",
     "output_type": "stream",
     "text": [
      "[CV] END activation=relu, alpha=0.042440148070636965, hidden_layer_sizes=(50,), learning_rate=adaptive, solver=sgd; total time=  52.8s\n"
     ]
    },
    {
     "name": "stderr",
     "output_type": "stream",
     "text": [
      "/Users/examsherpa/miniconda3/envs/tf-env/lib/python3.8/site-packages/sklearn/neural_network/_multilayer_perceptron.py:691: ConvergenceWarning: Stochastic Optimizer: Maximum iterations (1000) reached and the optimization hasn't converged yet.\n",
      "  warnings.warn(\n"
     ]
    },
    {
     "name": "stdout",
     "output_type": "stream",
     "text": [
      "[CV] END activation=relu, alpha=0.042440148070636965, hidden_layer_sizes=(50,), learning_rate=adaptive, solver=sgd; total time=  53.4s\n"
     ]
    },
    {
     "name": "stderr",
     "output_type": "stream",
     "text": [
      "/Users/examsherpa/miniconda3/envs/tf-env/lib/python3.8/site-packages/sklearn/neural_network/_multilayer_perceptron.py:691: ConvergenceWarning: Stochastic Optimizer: Maximum iterations (1000) reached and the optimization hasn't converged yet.\n",
      "  warnings.warn(\n"
     ]
    },
    {
     "name": "stdout",
     "output_type": "stream",
     "text": [
      "[CV] END activation=relu, alpha=0.042440148070636965, hidden_layer_sizes=(50,), learning_rate=adaptive, solver=sgd; total time=  51.4s\n"
     ]
    },
    {
     "name": "stderr",
     "output_type": "stream",
     "text": [
      "/Users/examsherpa/miniconda3/envs/tf-env/lib/python3.8/site-packages/sklearn/neural_network/_multilayer_perceptron.py:691: ConvergenceWarning: Stochastic Optimizer: Maximum iterations (1000) reached and the optimization hasn't converged yet.\n",
      "  warnings.warn(\n"
     ]
    },
    {
     "name": "stdout",
     "output_type": "stream",
     "text": [
      "[CV] END activation=relu, alpha=0.042440148070636965, hidden_layer_sizes=(50,), learning_rate=adaptive, solver=sgd; total time=  51.6s\n",
      "[CV] END activation=relu, alpha=0.06520770255019445, hidden_layer_sizes=(100, 50, 100), learning_rate=constant, solver=adam; total time=  12.3s\n",
      "[CV] END activation=relu, alpha=0.06520770255019445, hidden_layer_sizes=(100, 50, 100), learning_rate=constant, solver=adam; total time=  10.4s\n",
      "[CV] END activation=tanh, alpha=0.04504506741382035, hidden_layer_sizes=(50,), learning_rate=adaptive, solver=adam; total time=   7.3s\n",
      "[CV] END activation=relu, alpha=0.06520770255019445, hidden_layer_sizes=(100, 50, 100), learning_rate=constant, solver=adam; total time=  22.9s\n",
      "[CV] END activation=relu, alpha=0.06520770255019445, hidden_layer_sizes=(100, 50, 100), learning_rate=constant, solver=adam; total time=  22.5s\n",
      "[CV] END activation=relu, alpha=0.06520770255019445, hidden_layer_sizes=(100, 50, 100), learning_rate=constant, solver=adam; total time=  14.4s\n"
     ]
    },
    {
     "name": "stderr",
     "output_type": "stream",
     "text": [
      "/Users/examsherpa/miniconda3/envs/tf-env/lib/python3.8/site-packages/sklearn/neural_network/_base.py:173: RuntimeWarning: overflow encountered in square\n",
      "  return ((y_true - y_pred) ** 2).mean() / 2\n",
      "/Users/examsherpa/miniconda3/envs/tf-env/lib/python3.8/site-packages/sklearn/utils/extmath.py:193: RuntimeWarning: overflow encountered in matmul\n",
      "  ret = a @ b\n",
      "/Users/examsherpa/miniconda3/envs/tf-env/lib/python3.8/site-packages/sklearn/utils/extmath.py:193: RuntimeWarning: invalid value encountered in matmul\n",
      "  ret = a @ b\n"
     ]
    },
    {
     "name": "stdout",
     "output_type": "stream",
     "text": [
      "[CV] END activation=tanh, alpha=0.04504506741382035, hidden_layer_sizes=(50,), learning_rate=adaptive, solver=adam; total time=   9.6s\n",
      "[CV] END activation=tanh, alpha=0.04504506741382035, hidden_layer_sizes=(50,), learning_rate=adaptive, solver=adam; total time=   8.2s\n"
     ]
    },
    {
     "name": "stderr",
     "output_type": "stream",
     "text": [
      "/Users/examsherpa/miniconda3/envs/tf-env/lib/python3.8/site-packages/sklearn/neural_network/_base.py:173: RuntimeWarning: overflow encountered in square\n",
      "  return ((y_true - y_pred) ** 2).mean() / 2\n",
      "/Users/examsherpa/miniconda3/envs/tf-env/lib/python3.8/site-packages/sklearn/utils/extmath.py:193: RuntimeWarning: overflow encountered in matmul\n",
      "  ret = a @ b\n",
      "/Users/examsherpa/miniconda3/envs/tf-env/lib/python3.8/site-packages/sklearn/utils/extmath.py:193: RuntimeWarning: invalid value encountered in matmul\n",
      "  ret = a @ b\n",
      "/Users/examsherpa/miniconda3/envs/tf-env/lib/python3.8/site-packages/sklearn/neural_network/_base.py:173: RuntimeWarning: overflow encountered in square\n",
      "  return ((y_true - y_pred) ** 2).mean() / 2\n",
      "/Users/examsherpa/miniconda3/envs/tf-env/lib/python3.8/site-packages/sklearn/utils/extmath.py:193: RuntimeWarning: overflow encountered in matmul\n",
      "  ret = a @ b\n",
      "/Users/examsherpa/miniconda3/envs/tf-env/lib/python3.8/site-packages/sklearn/utils/extmath.py:193: RuntimeWarning: invalid value encountered in matmul\n",
      "  ret = a @ b\n"
     ]
    },
    {
     "name": "stdout",
     "output_type": "stream",
     "text": [
      "[CV] END activation=tanh, alpha=0.04504506741382035, hidden_layer_sizes=(50,), learning_rate=adaptive, solver=adam; total time=   8.2s\n",
      "[CV] END activation=tanh, alpha=0.04504506741382035, hidden_layer_sizes=(50,), learning_rate=adaptive, solver=adam; total time=   7.3s\n"
     ]
    },
    {
     "name": "stderr",
     "output_type": "stream",
     "text": [
      "/Users/examsherpa/miniconda3/envs/tf-env/lib/python3.8/site-packages/sklearn/neural_network/_multilayer_perceptron.py:691: ConvergenceWarning: Stochastic Optimizer: Maximum iterations (1000) reached and the optimization hasn't converged yet.\n",
      "  warnings.warn(\n"
     ]
    },
    {
     "name": "stdout",
     "output_type": "stream",
     "text": [
      "[CV] END activation=relu, alpha=0.07911755405312057, hidden_layer_sizes=(50, 50), learning_rate=constant, solver=sgd; total time= 1.3min\n"
     ]
    },
    {
     "name": "stderr",
     "output_type": "stream",
     "text": [
      "/Users/examsherpa/miniconda3/envs/tf-env/lib/python3.8/site-packages/sklearn/neural_network/_multilayer_perceptron.py:691: ConvergenceWarning: Stochastic Optimizer: Maximum iterations (1000) reached and the optimization hasn't converged yet.\n",
      "  warnings.warn(\n"
     ]
    },
    {
     "name": "stdout",
     "output_type": "stream",
     "text": [
      "[CV] END activation=relu, alpha=0.07911755405312057, hidden_layer_sizes=(50, 50), learning_rate=constant, solver=sgd; total time= 1.4min\n"
     ]
    },
    {
     "name": "stderr",
     "output_type": "stream",
     "text": [
      "/Users/examsherpa/miniconda3/envs/tf-env/lib/python3.8/site-packages/sklearn/neural_network/_multilayer_perceptron.py:691: ConvergenceWarning: Stochastic Optimizer: Maximum iterations (1000) reached and the optimization hasn't converged yet.\n",
      "  warnings.warn(\n"
     ]
    },
    {
     "name": "stdout",
     "output_type": "stream",
     "text": [
      "[CV] END activation=relu, alpha=0.07911755405312057, hidden_layer_sizes=(50, 50), learning_rate=constant, solver=sgd; total time= 1.3min\n",
      "[CV] END activation=tanh, alpha=0.027572179299006416, hidden_layer_sizes=(50, 50), learning_rate=constant, solver=adam; total time=   6.5s\n"
     ]
    },
    {
     "name": "stderr",
     "output_type": "stream",
     "text": [
      "/Users/examsherpa/miniconda3/envs/tf-env/lib/python3.8/site-packages/sklearn/neural_network/_multilayer_perceptron.py:691: ConvergenceWarning: Stochastic Optimizer: Maximum iterations (1000) reached and the optimization hasn't converged yet.\n",
      "  warnings.warn(\n"
     ]
    },
    {
     "name": "stdout",
     "output_type": "stream",
     "text": [
      "[CV] END activation=relu, alpha=0.07911755405312057, hidden_layer_sizes=(50, 50), learning_rate=constant, solver=sgd; total time= 1.3min\n"
     ]
    },
    {
     "name": "stderr",
     "output_type": "stream",
     "text": [
      "/Users/examsherpa/miniconda3/envs/tf-env/lib/python3.8/site-packages/sklearn/neural_network/_multilayer_perceptron.py:691: ConvergenceWarning: Stochastic Optimizer: Maximum iterations (1000) reached and the optimization hasn't converged yet.\n",
      "  warnings.warn(\n"
     ]
    },
    {
     "name": "stdout",
     "output_type": "stream",
     "text": [
      "[CV] END activation=relu, alpha=0.07911755405312057, hidden_layer_sizes=(50, 50), learning_rate=constant, solver=sgd; total time= 1.3min\n",
      "[CV] END activation=relu, alpha=0.09727120953891039, hidden_layer_sizes=(50, 50), learning_rate=constant, solver=adam; total time=   3.2s\n",
      "[CV] END activation=tanh, alpha=0.027572179299006416, hidden_layer_sizes=(50, 50), learning_rate=constant, solver=adam; total time=   9.9s\n",
      "[CV] END activation=relu, alpha=0.09727120953891039, hidden_layer_sizes=(50, 50), learning_rate=constant, solver=adam; total time=   1.4s\n",
      "[CV] END activation=tanh, alpha=0.027572179299006416, hidden_layer_sizes=(50, 50), learning_rate=constant, solver=adam; total time=  10.3s\n",
      "[CV] END activation=tanh, alpha=0.027572179299006416, hidden_layer_sizes=(50, 50), learning_rate=constant, solver=adam; total time=  10.0s\n",
      "[CV] END activation=tanh, alpha=0.027572179299006416, hidden_layer_sizes=(50, 50), learning_rate=constant, solver=adam; total time=   9.4s\n",
      "[CV] END activation=relu, alpha=0.09727120953891039, hidden_layer_sizes=(50, 50), learning_rate=constant, solver=adam; total time=   2.5s\n",
      "[CV] END activation=relu, alpha=0.09727120953891039, hidden_layer_sizes=(50, 50), learning_rate=constant, solver=adam; total time=   3.4s\n",
      "[CV] END activation=relu, alpha=0.09727120953891039, hidden_layer_sizes=(50, 50), learning_rate=constant, solver=adam; total time=   3.4s\n"
     ]
    },
    {
     "name": "stderr",
     "output_type": "stream",
     "text": [
      "/Users/examsherpa/miniconda3/envs/tf-env/lib/python3.8/site-packages/sklearn/neural_network/_multilayer_perceptron.py:691: ConvergenceWarning: Stochastic Optimizer: Maximum iterations (1000) reached and the optimization hasn't converged yet.\n",
      "  warnings.warn(\n",
      "/Users/examsherpa/miniconda3/envs/tf-env/lib/python3.8/site-packages/sklearn/neural_network/_base.py:173: RuntimeWarning: overflow encountered in square\n",
      "  return ((y_true - y_pred) ** 2).mean() / 2\n",
      "/Users/examsherpa/miniconda3/envs/tf-env/lib/python3.8/site-packages/sklearn/utils/extmath.py:193: RuntimeWarning: overflow encountered in matmul\n",
      "  ret = a @ b\n",
      "/Users/examsherpa/miniconda3/envs/tf-env/lib/python3.8/site-packages/sklearn/utils/extmath.py:193: RuntimeWarning: invalid value encountered in matmul\n",
      "  ret = a @ b\n"
     ]
    },
    {
     "name": "stdout",
     "output_type": "stream",
     "text": [
      "[CV] END activation=relu, alpha=0.06698412526636073, hidden_layer_sizes=(50,), learning_rate=constant, solver=sgd; total time=  51.1s\n"
     ]
    },
    {
     "name": "stderr",
     "output_type": "stream",
     "text": [
      "/Users/examsherpa/miniconda3/envs/tf-env/lib/python3.8/site-packages/sklearn/neural_network/_multilayer_perceptron.py:691: ConvergenceWarning: Stochastic Optimizer: Maximum iterations (1000) reached and the optimization hasn't converged yet.\n",
      "  warnings.warn(\n",
      "/Users/examsherpa/miniconda3/envs/tf-env/lib/python3.8/site-packages/sklearn/neural_network/_base.py:173: RuntimeWarning: overflow encountered in square\n",
      "  return ((y_true - y_pred) ** 2).mean() / 2\n",
      "/Users/examsherpa/miniconda3/envs/tf-env/lib/python3.8/site-packages/sklearn/utils/extmath.py:193: RuntimeWarning: overflow encountered in matmul\n",
      "  ret = a @ b\n",
      "/Users/examsherpa/miniconda3/envs/tf-env/lib/python3.8/site-packages/sklearn/utils/extmath.py:193: RuntimeWarning: invalid value encountered in matmul\n",
      "  ret = a @ b\n"
     ]
    },
    {
     "name": "stdout",
     "output_type": "stream",
     "text": [
      "[CV] END activation=relu, alpha=0.06698412526636073, hidden_layer_sizes=(50,), learning_rate=constant, solver=sgd; total time=  50.9s\n"
     ]
    },
    {
     "name": "stderr",
     "output_type": "stream",
     "text": [
      "/Users/examsherpa/miniconda3/envs/tf-env/lib/python3.8/site-packages/sklearn/neural_network/_multilayer_perceptron.py:691: ConvergenceWarning: Stochastic Optimizer: Maximum iterations (1000) reached and the optimization hasn't converged yet.\n",
      "  warnings.warn(\n",
      "/Users/examsherpa/miniconda3/envs/tf-env/lib/python3.8/site-packages/sklearn/neural_network/_base.py:173: RuntimeWarning: overflow encountered in square\n",
      "  return ((y_true - y_pred) ** 2).mean() / 2\n",
      "/Users/examsherpa/miniconda3/envs/tf-env/lib/python3.8/site-packages/sklearn/utils/extmath.py:193: RuntimeWarning: overflow encountered in matmul\n",
      "  ret = a @ b\n",
      "/Users/examsherpa/miniconda3/envs/tf-env/lib/python3.8/site-packages/sklearn/utils/extmath.py:193: RuntimeWarning: invalid value encountered in matmul\n",
      "  ret = a @ b\n"
     ]
    },
    {
     "name": "stdout",
     "output_type": "stream",
     "text": [
      "[CV] END activation=relu, alpha=0.06698412526636073, hidden_layer_sizes=(50,), learning_rate=constant, solver=sgd; total time=  51.6s\n",
      "[CV] END activation=tanh, alpha=0.023698491974895576, hidden_layer_sizes=(100,), learning_rate=constant, solver=adam; total time=  13.9s\n"
     ]
    },
    {
     "name": "stderr",
     "output_type": "stream",
     "text": [
      "/Users/examsherpa/miniconda3/envs/tf-env/lib/python3.8/site-packages/sklearn/neural_network/_base.py:173: RuntimeWarning: overflow encountered in square\n",
      "  return ((y_true - y_pred) ** 2).mean() / 2\n",
      "/Users/examsherpa/miniconda3/envs/tf-env/lib/python3.8/site-packages/sklearn/utils/extmath.py:193: RuntimeWarning: overflow encountered in matmul\n",
      "  ret = a @ b\n",
      "/Users/examsherpa/miniconda3/envs/tf-env/lib/python3.8/site-packages/sklearn/utils/extmath.py:193: RuntimeWarning: invalid value encountered in matmul\n",
      "  ret = a @ b\n",
      "/Users/examsherpa/miniconda3/envs/tf-env/lib/python3.8/site-packages/sklearn/neural_network/_multilayer_perceptron.py:691: ConvergenceWarning: Stochastic Optimizer: Maximum iterations (1000) reached and the optimization hasn't converged yet.\n",
      "  warnings.warn(\n",
      "/Users/examsherpa/miniconda3/envs/tf-env/lib/python3.8/site-packages/sklearn/neural_network/_multilayer_perceptron.py:691: ConvergenceWarning: Stochastic Optimizer: Maximum iterations (1000) reached and the optimization hasn't converged yet.\n",
      "  warnings.warn(\n",
      "/Users/examsherpa/miniconda3/envs/tf-env/lib/python3.8/site-packages/sklearn/neural_network/_base.py:173: RuntimeWarning: overflow encountered in square\n",
      "  return ((y_true - y_pred) ** 2).mean() / 2\n",
      "/Users/examsherpa/miniconda3/envs/tf-env/lib/python3.8/site-packages/sklearn/utils/extmath.py:193: RuntimeWarning: overflow encountered in matmul\n",
      "  ret = a @ b\n",
      "/Users/examsherpa/miniconda3/envs/tf-env/lib/python3.8/site-packages/sklearn/utils/extmath.py:193: RuntimeWarning: invalid value encountered in matmul\n",
      "  ret = a @ b\n"
     ]
    },
    {
     "name": "stdout",
     "output_type": "stream",
     "text": [
      "[CV] END activation=relu, alpha=0.06698412526636073, hidden_layer_sizes=(50,), learning_rate=constant, solver=sgd; total time=  50.1s\n",
      "[CV] END activation=relu, alpha=0.06698412526636073, hidden_layer_sizes=(50,), learning_rate=constant, solver=sgd; total time=  50.0s\n",
      "[CV] END activation=tanh, alpha=0.023698491974895576, hidden_layer_sizes=(100,), learning_rate=constant, solver=adam; total time=  14.1s\n",
      "[CV] END activation=tanh, alpha=0.023698491974895576, hidden_layer_sizes=(100,), learning_rate=constant, solver=adam; total time=  13.6s\n",
      "[CV] END activation=tanh, alpha=0.023698491974895576, hidden_layer_sizes=(100,), learning_rate=constant, solver=adam; total time=  16.0s\n",
      "[CV] END activation=tanh, alpha=0.023698491974895576, hidden_layer_sizes=(100,), learning_rate=constant, solver=adam; total time=  18.5s\n",
      "[CV] END activation=relu, alpha=0.02027192023353962, hidden_layer_sizes=(100, 50, 100), learning_rate=constant, solver=adam; total time=   4.3s\n",
      "[CV] END activation=relu, alpha=0.02027192023353962, hidden_layer_sizes=(100, 50, 100), learning_rate=constant, solver=adam; total time=   9.9s\n",
      "[CV] END activation=relu, alpha=0.02027192023353962, hidden_layer_sizes=(100, 50, 100), learning_rate=constant, solver=adam; total time=  13.3s\n",
      "[CV] END activation=relu, alpha=0.02027192023353962, hidden_layer_sizes=(100, 50, 100), learning_rate=constant, solver=adam; total time=  16.0s\n",
      "[CV] END activation=tanh, alpha=0.056427557197638374, hidden_layer_sizes=(100, 50, 100), learning_rate=adaptive, solver=adam; total time=  10.3s\n",
      "[CV] END activation=relu, alpha=0.02027192023353962, hidden_layer_sizes=(100, 50, 100), learning_rate=constant, solver=adam; total time=  19.5s\n",
      "[CV] END activation=relu, alpha=0.06054173792778173, hidden_layer_sizes=(50, 50), learning_rate=constant, solver=adam; total time=   1.6s\n",
      "[CV] END activation=relu, alpha=0.06054173792778173, hidden_layer_sizes=(50, 50), learning_rate=constant, solver=adam; total time=   2.5s\n",
      "[CV] END activation=relu, alpha=0.06054173792778173, hidden_layer_sizes=(50, 50), learning_rate=constant, solver=adam; total time=   1.9s\n",
      "[CV] END activation=tanh, alpha=0.056427557197638374, hidden_layer_sizes=(100, 50, 100), learning_rate=adaptive, solver=adam; total time=  13.4s\n",
      "[CV] END activation=tanh, alpha=0.056427557197638374, hidden_layer_sizes=(100, 50, 100), learning_rate=adaptive, solver=adam; total time=  16.1s\n",
      "[CV] END activation=relu, alpha=0.06054173792778173, hidden_layer_sizes=(50, 50), learning_rate=constant, solver=adam; total time=   3.7s\n",
      "[CV] END activation=tanh, alpha=0.056427557197638374, hidden_layer_sizes=(100, 50, 100), learning_rate=adaptive, solver=adam; total time=  16.0s\n",
      "[CV] END activation=relu, alpha=0.06054173792778173, hidden_layer_sizes=(50, 50), learning_rate=constant, solver=adam; total time=   4.0s\n",
      "[CV] END activation=tanh, alpha=0.0943853570557981, hidden_layer_sizes=(50, 50), learning_rate=constant, solver=adam; total time=   8.1s\n",
      "[CV] END activation=tanh, alpha=0.056427557197638374, hidden_layer_sizes=(100, 50, 100), learning_rate=adaptive, solver=adam; total time=  25.4s\n",
      "[CV] END activation=tanh, alpha=0.0943853570557981, hidden_layer_sizes=(50, 50), learning_rate=constant, solver=adam; total time=   9.8s\n",
      "[CV] END activation=tanh, alpha=0.0943853570557981, hidden_layer_sizes=(50, 50), learning_rate=constant, solver=adam; total time=   8.7s\n",
      "[CV] END activation=tanh, alpha=0.0943853570557981, hidden_layer_sizes=(50, 50), learning_rate=constant, solver=adam; total time=  12.3s\n",
      "[CV] END activation=tanh, alpha=0.0943853570557981, hidden_layer_sizes=(50, 50), learning_rate=constant, solver=adam; total time=  12.9s\n",
      "[CV] END activation=tanh, alpha=0.08814678390152578, hidden_layer_sizes=(100,), learning_rate=constant, solver=sgd; total time=  23.5s\n"
     ]
    },
    {
     "name": "stderr",
     "output_type": "stream",
     "text": [
      "/Users/examsherpa/miniconda3/envs/tf-env/lib/python3.8/site-packages/sklearn/neural_network/_base.py:173: RuntimeWarning: overflow encountered in square\n",
      "  return ((y_true - y_pred) ** 2).mean() / 2\n",
      "/Users/examsherpa/miniconda3/envs/tf-env/lib/python3.8/site-packages/sklearn/utils/extmath.py:193: RuntimeWarning: overflow encountered in matmul\n",
      "  ret = a @ b\n",
      "/Users/examsherpa/miniconda3/envs/tf-env/lib/python3.8/site-packages/sklearn/utils/extmath.py:193: RuntimeWarning: invalid value encountered in matmul\n",
      "  ret = a @ b\n",
      "/Users/examsherpa/miniconda3/envs/tf-env/lib/python3.8/site-packages/sklearn/neural_network/_multilayer_perceptron.py:691: ConvergenceWarning: Stochastic Optimizer: Maximum iterations (1000) reached and the optimization hasn't converged yet.\n",
      "  warnings.warn(\n",
      "/Users/examsherpa/miniconda3/envs/tf-env/lib/python3.8/site-packages/sklearn/neural_network/_base.py:173: RuntimeWarning: overflow encountered in square\n",
      "  return ((y_true - y_pred) ** 2).mean() / 2\n",
      "/Users/examsherpa/miniconda3/envs/tf-env/lib/python3.8/site-packages/sklearn/utils/extmath.py:193: RuntimeWarning: overflow encountered in matmul\n",
      "  ret = a @ b\n",
      "/Users/examsherpa/miniconda3/envs/tf-env/lib/python3.8/site-packages/sklearn/utils/extmath.py:193: RuntimeWarning: invalid value encountered in matmul\n",
      "  ret = a @ b\n"
     ]
    },
    {
     "name": "stdout",
     "output_type": "stream",
     "text": [
      "[CV] END activation=relu, alpha=0.07116628896857874, hidden_layer_sizes=(100,), learning_rate=adaptive, solver=sgd; total time= 1.3min\n"
     ]
    },
    {
     "name": "stderr",
     "output_type": "stream",
     "text": [
      "/Users/examsherpa/miniconda3/envs/tf-env/lib/python3.8/site-packages/sklearn/neural_network/_multilayer_perceptron.py:691: ConvergenceWarning: Stochastic Optimizer: Maximum iterations (1000) reached and the optimization hasn't converged yet.\n",
      "  warnings.warn(\n",
      "/Users/examsherpa/miniconda3/envs/tf-env/lib/python3.8/site-packages/sklearn/neural_network/_base.py:173: RuntimeWarning: overflow encountered in square\n",
      "  return ((y_true - y_pred) ** 2).mean() / 2\n",
      "/Users/examsherpa/miniconda3/envs/tf-env/lib/python3.8/site-packages/sklearn/utils/extmath.py:193: RuntimeWarning: overflow encountered in matmul\n",
      "  ret = a @ b\n",
      "/Users/examsherpa/miniconda3/envs/tf-env/lib/python3.8/site-packages/sklearn/utils/extmath.py:193: RuntimeWarning: invalid value encountered in matmul\n",
      "  ret = a @ b\n",
      "/Users/examsherpa/miniconda3/envs/tf-env/lib/python3.8/site-packages/sklearn/neural_network/_stochastic_optimizers.py:184: RuntimeWarning: invalid value encountered in subtract\n",
      "  self.momentum * velocity - self.learning_rate * grad\n"
     ]
    },
    {
     "name": "stdout",
     "output_type": "stream",
     "text": [
      "[CV] END activation=relu, alpha=0.07116628896857874, hidden_layer_sizes=(100,), learning_rate=adaptive, solver=sgd; total time= 1.3min\n"
     ]
    },
    {
     "name": "stderr",
     "output_type": "stream",
     "text": [
      "/Users/examsherpa/miniconda3/envs/tf-env/lib/python3.8/site-packages/sklearn/neural_network/_multilayer_perceptron.py:691: ConvergenceWarning: Stochastic Optimizer: Maximum iterations (1000) reached and the optimization hasn't converged yet.\n",
      "  warnings.warn(\n",
      "/Users/examsherpa/miniconda3/envs/tf-env/lib/python3.8/site-packages/sklearn/neural_network/_base.py:173: RuntimeWarning: overflow encountered in square\n",
      "  return ((y_true - y_pred) ** 2).mean() / 2\n",
      "/Users/examsherpa/miniconda3/envs/tf-env/lib/python3.8/site-packages/sklearn/utils/extmath.py:193: RuntimeWarning: overflow encountered in matmul\n",
      "  ret = a @ b\n",
      "/Users/examsherpa/miniconda3/envs/tf-env/lib/python3.8/site-packages/sklearn/utils/extmath.py:193: RuntimeWarning: invalid value encountered in matmul\n",
      "  ret = a @ b\n",
      "/Users/examsherpa/miniconda3/envs/tf-env/lib/python3.8/site-packages/sklearn/neural_network/_multilayer_perceptron.py:691: ConvergenceWarning: Stochastic Optimizer: Maximum iterations (1000) reached and the optimization hasn't converged yet.\n",
      "  warnings.warn(\n"
     ]
    },
    {
     "name": "stdout",
     "output_type": "stream",
     "text": [
      "[CV] END activation=relu, alpha=0.07116628896857874, hidden_layer_sizes=(100,), learning_rate=adaptive, solver=sgd; total time= 1.3min\n",
      "[CV] END activation=relu, alpha=0.07116628896857874, hidden_layer_sizes=(100,), learning_rate=adaptive, solver=sgd; total time= 1.3min\n"
     ]
    },
    {
     "name": "stderr",
     "output_type": "stream",
     "text": [
      "/Users/examsherpa/miniconda3/envs/tf-env/lib/python3.8/site-packages/sklearn/neural_network/_base.py:173: RuntimeWarning: overflow encountered in square\n",
      "  return ((y_true - y_pred) ** 2).mean() / 2\n",
      "/Users/examsherpa/miniconda3/envs/tf-env/lib/python3.8/site-packages/sklearn/utils/extmath.py:193: RuntimeWarning: overflow encountered in matmul\n",
      "  ret = a @ b\n",
      "/Users/examsherpa/miniconda3/envs/tf-env/lib/python3.8/site-packages/sklearn/utils/extmath.py:193: RuntimeWarning: invalid value encountered in matmul\n",
      "  ret = a @ b\n",
      "/Users/examsherpa/miniconda3/envs/tf-env/lib/python3.8/site-packages/sklearn/neural_network/_multilayer_perceptron.py:691: ConvergenceWarning: Stochastic Optimizer: Maximum iterations (1000) reached and the optimization hasn't converged yet.\n",
      "  warnings.warn(\n"
     ]
    },
    {
     "name": "stdout",
     "output_type": "stream",
     "text": [
      "[CV] END activation=relu, alpha=0.07116628896857874, hidden_layer_sizes=(100,), learning_rate=adaptive, solver=sgd; total time= 1.3min\n",
      "[CV] END activation=tanh, alpha=0.08814678390152578, hidden_layer_sizes=(100,), learning_rate=constant, solver=sgd; total time=  44.1s\n",
      "[CV] END activation=tanh, alpha=0.04175099478703663, hidden_layer_sizes=(100,), learning_rate=constant, solver=sgd; total time=   1.2s\n",
      "[CV] END activation=tanh, alpha=0.04175099478703663, hidden_layer_sizes=(100,), learning_rate=constant, solver=sgd; total time=  11.0s\n",
      "[CV] END activation=tanh, alpha=0.08814678390152578, hidden_layer_sizes=(100,), learning_rate=constant, solver=sgd; total time= 1.3min\n"
     ]
    },
    {
     "name": "stderr",
     "output_type": "stream",
     "text": [
      "/Users/examsherpa/miniconda3/envs/tf-env/lib/python3.8/site-packages/sklearn/neural_network/_multilayer_perceptron.py:691: ConvergenceWarning: Stochastic Optimizer: Maximum iterations (1000) reached and the optimization hasn't converged yet.\n",
      "  warnings.warn(\n"
     ]
    },
    {
     "name": "stdout",
     "output_type": "stream",
     "text": [
      "[CV] END activation=tanh, alpha=0.08814678390152578, hidden_layer_sizes=(100,), learning_rate=constant, solver=sgd; total time= 1.6min\n"
     ]
    },
    {
     "name": "stderr",
     "output_type": "stream",
     "text": [
      "/Users/examsherpa/miniconda3/envs/tf-env/lib/python3.8/site-packages/sklearn/neural_network/_multilayer_perceptron.py:691: ConvergenceWarning: Stochastic Optimizer: Maximum iterations (1000) reached and the optimization hasn't converged yet.\n",
      "  warnings.warn(\n"
     ]
    },
    {
     "name": "stdout",
     "output_type": "stream",
     "text": [
      "[CV] END activation=tanh, alpha=0.08814678390152578, hidden_layer_sizes=(100,), learning_rate=constant, solver=sgd; total time= 1.6min\n"
     ]
    },
    {
     "name": "stderr",
     "output_type": "stream",
     "text": [
      "/Users/examsherpa/miniconda3/envs/tf-env/lib/python3.8/site-packages/sklearn/neural_network/_multilayer_perceptron.py:691: ConvergenceWarning: Stochastic Optimizer: Maximum iterations (1000) reached and the optimization hasn't converged yet.\n",
      "  warnings.warn(\n"
     ]
    },
    {
     "name": "stdout",
     "output_type": "stream",
     "text": [
      "[CV] END activation=tanh, alpha=0.04175099478703663, hidden_layer_sizes=(100,), learning_rate=constant, solver=sgd; total time= 1.5min\n"
     ]
    },
    {
     "name": "stderr",
     "output_type": "stream",
     "text": [
      "/Users/examsherpa/miniconda3/envs/tf-env/lib/python3.8/site-packages/sklearn/neural_network/_multilayer_perceptron.py:691: ConvergenceWarning: Stochastic Optimizer: Maximum iterations (1000) reached and the optimization hasn't converged yet.\n",
      "  warnings.warn(\n",
      "/Users/examsherpa/miniconda3/envs/tf-env/lib/python3.8/site-packages/sklearn/neural_network/_multilayer_perceptron.py:691: ConvergenceWarning: Stochastic Optimizer: Maximum iterations (1000) reached and the optimization hasn't converged yet.\n",
      "  warnings.warn(\n"
     ]
    },
    {
     "name": "stdout",
     "output_type": "stream",
     "text": [
      "[CV] END activation=tanh, alpha=0.04175099478703663, hidden_layer_sizes=(100,), learning_rate=constant, solver=sgd; total time= 1.5min\n",
      "[CV] END activation=tanh, alpha=0.012308795470067335, hidden_layer_sizes=(50,), learning_rate=constant, solver=sgd; total time=  56.0s\n"
     ]
    },
    {
     "name": "stderr",
     "output_type": "stream",
     "text": [
      "/Users/examsherpa/miniconda3/envs/tf-env/lib/python3.8/site-packages/sklearn/neural_network/_multilayer_perceptron.py:691: ConvergenceWarning: Stochastic Optimizer: Maximum iterations (1000) reached and the optimization hasn't converged yet.\n",
      "  warnings.warn(\n"
     ]
    },
    {
     "name": "stdout",
     "output_type": "stream",
     "text": [
      "[CV] END activation=tanh, alpha=0.012308795470067335, hidden_layer_sizes=(50,), learning_rate=constant, solver=sgd; total time=  54.9s\n",
      "[CV] END activation=relu, alpha=0.027313224938463533, hidden_layer_sizes=(50, 50), learning_rate=adaptive, solver=adam; total time=   3.1s\n",
      "[CV] END activation=relu, alpha=0.027313224938463533, hidden_layer_sizes=(50, 50), learning_rate=adaptive, solver=adam; total time=   1.4s\n",
      "[CV] END activation=relu, alpha=0.027313224938463533, hidden_layer_sizes=(50, 50), learning_rate=adaptive, solver=adam; total time=   2.7s\n"
     ]
    },
    {
     "name": "stderr",
     "output_type": "stream",
     "text": [
      "/Users/examsherpa/miniconda3/envs/tf-env/lib/python3.8/site-packages/sklearn/neural_network/_multilayer_perceptron.py:691: ConvergenceWarning: Stochastic Optimizer: Maximum iterations (1000) reached and the optimization hasn't converged yet.\n",
      "  warnings.warn(\n"
     ]
    },
    {
     "name": "stdout",
     "output_type": "stream",
     "text": [
      "[CV] END activation=tanh, alpha=0.04175099478703663, hidden_layer_sizes=(100,), learning_rate=constant, solver=sgd; total time= 1.5min\n",
      "[CV] END activation=relu, alpha=0.027313224938463533, hidden_layer_sizes=(50, 50), learning_rate=adaptive, solver=adam; total time=   2.0s\n",
      "[CV] END activation=tanh, alpha=0.03535688563341691, hidden_layer_sizes=(50, 50), learning_rate=constant, solver=sgd; total time=   1.6s\n",
      "[CV] END activation=relu, alpha=0.027313224938463533, hidden_layer_sizes=(50, 50), learning_rate=adaptive, solver=adam; total time=   2.8s\n"
     ]
    },
    {
     "name": "stderr",
     "output_type": "stream",
     "text": [
      "/Users/examsherpa/miniconda3/envs/tf-env/lib/python3.8/site-packages/sklearn/neural_network/_multilayer_perceptron.py:691: ConvergenceWarning: Stochastic Optimizer: Maximum iterations (1000) reached and the optimization hasn't converged yet.\n",
      "  warnings.warn(\n"
     ]
    },
    {
     "name": "stdout",
     "output_type": "stream",
     "text": [
      "[CV] END activation=tanh, alpha=0.012308795470067335, hidden_layer_sizes=(50,), learning_rate=constant, solver=sgd; total time=  56.2s\n",
      "[CV] END activation=tanh, alpha=0.03535688563341691, hidden_layer_sizes=(50, 50), learning_rate=constant, solver=sgd; total time=  13.5s\n",
      "[CV] END activation=tanh, alpha=0.03535688563341691, hidden_layer_sizes=(50, 50), learning_rate=constant, solver=sgd; total time=  15.8s\n",
      "[CV] END activation=tanh, alpha=0.03535688563341691, hidden_layer_sizes=(50, 50), learning_rate=constant, solver=sgd; total time=   2.7s\n",
      "[CV] END activation=tanh, alpha=0.03535688563341691, hidden_layer_sizes=(50, 50), learning_rate=constant, solver=sgd; total time=   4.1s\n"
     ]
    },
    {
     "name": "stderr",
     "output_type": "stream",
     "text": [
      "/Users/examsherpa/miniconda3/envs/tf-env/lib/python3.8/site-packages/sklearn/neural_network/_multilayer_perceptron.py:691: ConvergenceWarning: Stochastic Optimizer: Maximum iterations (1000) reached and the optimization hasn't converged yet.\n",
      "  warnings.warn(\n"
     ]
    },
    {
     "name": "stdout",
     "output_type": "stream",
     "text": [
      "[CV] END activation=relu, alpha=0.010649425983027061, hidden_layer_sizes=(100, 50, 100), learning_rate=adaptive, solver=sgd; total time= 2.7min\n"
     ]
    },
    {
     "name": "stderr",
     "output_type": "stream",
     "text": [
      "/Users/examsherpa/miniconda3/envs/tf-env/lib/python3.8/site-packages/sklearn/neural_network/_multilayer_perceptron.py:691: ConvergenceWarning: Stochastic Optimizer: Maximum iterations (1000) reached and the optimization hasn't converged yet.\n",
      "  warnings.warn(\n"
     ]
    },
    {
     "name": "stdout",
     "output_type": "stream",
     "text": [
      "[CV] END activation=relu, alpha=0.010649425983027061, hidden_layer_sizes=(100, 50, 100), learning_rate=adaptive, solver=sgd; total time= 2.7min\n"
     ]
    },
    {
     "name": "stderr",
     "output_type": "stream",
     "text": [
      "/Users/examsherpa/miniconda3/envs/tf-env/lib/python3.8/site-packages/sklearn/neural_network/_multilayer_perceptron.py:691: ConvergenceWarning: Stochastic Optimizer: Maximum iterations (1000) reached and the optimization hasn't converged yet.\n",
      "  warnings.warn(\n",
      "/Users/examsherpa/miniconda3/envs/tf-env/lib/python3.8/site-packages/sklearn/neural_network/_multilayer_perceptron.py:691: ConvergenceWarning: Stochastic Optimizer: Maximum iterations (1000) reached and the optimization hasn't converged yet.\n",
      "  warnings.warn(\n"
     ]
    },
    {
     "name": "stdout",
     "output_type": "stream",
     "text": [
      "[CV] END activation=relu, alpha=0.010649425983027061, hidden_layer_sizes=(100, 50, 100), learning_rate=adaptive, solver=sgd; total time= 2.7min\n",
      "[CV] END activation=relu, alpha=0.010649425983027061, hidden_layer_sizes=(100, 50, 100), learning_rate=adaptive, solver=sgd; total time= 2.7min\n"
     ]
    },
    {
     "name": "stderr",
     "output_type": "stream",
     "text": [
      "/Users/examsherpa/miniconda3/envs/tf-env/lib/python3.8/site-packages/sklearn/neural_network/_multilayer_perceptron.py:691: ConvergenceWarning: Stochastic Optimizer: Maximum iterations (1000) reached and the optimization hasn't converged yet.\n",
      "  warnings.warn(\n"
     ]
    },
    {
     "name": "stdout",
     "output_type": "stream",
     "text": [
      "[CV] END activation=relu, alpha=0.010649425983027061, hidden_layer_sizes=(100, 50, 100), learning_rate=adaptive, solver=sgd; total time= 2.7min\n",
      "[CV] END activation=tanh, alpha=0.0535089419375442, hidden_layer_sizes=(100,), learning_rate=constant, solver=adam; total time=  12.4s\n",
      "[CV] END activation=tanh, alpha=0.0535089419375442, hidden_layer_sizes=(100,), learning_rate=constant, solver=adam; total time=  12.3s\n",
      "[CV] END activation=tanh, alpha=0.0535089419375442, hidden_layer_sizes=(100,), learning_rate=constant, solver=adam; total time=  11.9s\n",
      "[CV] END activation=tanh, alpha=0.0535089419375442, hidden_layer_sizes=(100,), learning_rate=constant, solver=adam; total time=  14.4s\n",
      "[CV] END activation=tanh, alpha=0.021976421957307025, hidden_layer_sizes=(100, 50, 100), learning_rate=constant, solver=sgd; total time=   3.3s\n"
     ]
    },
    {
     "name": "stderr",
     "output_type": "stream",
     "text": [
      "/Users/examsherpa/miniconda3/envs/tf-env/lib/python3.8/site-packages/sklearn/neural_network/_multilayer_perceptron.py:691: ConvergenceWarning: Stochastic Optimizer: Maximum iterations (1000) reached and the optimization hasn't converged yet.\n",
      "  warnings.warn(\n"
     ]
    },
    {
     "name": "stdout",
     "output_type": "stream",
     "text": [
      "[CV] END activation=tanh, alpha=0.012308795470067335, hidden_layer_sizes=(50,), learning_rate=constant, solver=sgd; total time=  55.7s\n",
      "[CV] END activation=tanh, alpha=0.0535089419375442, hidden_layer_sizes=(100,), learning_rate=constant, solver=adam; total time=  12.2s\n"
     ]
    },
    {
     "name": "stderr",
     "output_type": "stream",
     "text": [
      "/Users/examsherpa/miniconda3/envs/tf-env/lib/python3.8/site-packages/sklearn/neural_network/_multilayer_perceptron.py:691: ConvergenceWarning: Stochastic Optimizer: Maximum iterations (1000) reached and the optimization hasn't converged yet.\n",
      "  warnings.warn(\n",
      "/Users/examsherpa/miniconda3/envs/tf-env/lib/python3.8/site-packages/sklearn/neural_network/_base.py:173: RuntimeWarning: overflow encountered in square\n",
      "  return ((y_true - y_pred) ** 2).mean() / 2\n",
      "/Users/examsherpa/miniconda3/envs/tf-env/lib/python3.8/site-packages/sklearn/utils/extmath.py:193: RuntimeWarning: overflow encountered in matmul\n",
      "  ret = a @ b\n",
      "/Users/examsherpa/miniconda3/envs/tf-env/lib/python3.8/site-packages/sklearn/utils/extmath.py:193: RuntimeWarning: invalid value encountered in matmul\n",
      "  ret = a @ b\n"
     ]
    },
    {
     "name": "stdout",
     "output_type": "stream",
     "text": [
      "[CV] END activation=tanh, alpha=0.012308795470067335, hidden_layer_sizes=(50,), learning_rate=constant, solver=sgd; total time=  56.0s\n",
      "[CV] END activation=relu, alpha=0.027041233379852148, hidden_layer_sizes=(100, 50, 100), learning_rate=constant, solver=adam; total time=   9.9s\n"
     ]
    },
    {
     "name": "stderr",
     "output_type": "stream",
     "text": [
      "/Users/examsherpa/miniconda3/envs/tf-env/lib/python3.8/site-packages/sklearn/neural_network/_base.py:173: RuntimeWarning: overflow encountered in square\n",
      "  return ((y_true - y_pred) ** 2).mean() / 2\n",
      "/Users/examsherpa/miniconda3/envs/tf-env/lib/python3.8/site-packages/sklearn/utils/extmath.py:193: RuntimeWarning: overflow encountered in matmul\n",
      "  ret = a @ b\n",
      "/Users/examsherpa/miniconda3/envs/tf-env/lib/python3.8/site-packages/sklearn/utils/extmath.py:193: RuntimeWarning: invalid value encountered in matmul\n",
      "  ret = a @ b\n"
     ]
    },
    {
     "name": "stdout",
     "output_type": "stream",
     "text": [
      "[CV] END activation=tanh, alpha=0.021976421957307025, hidden_layer_sizes=(100, 50, 100), learning_rate=constant, solver=sgd; total time=   5.2s\n"
     ]
    },
    {
     "name": "stderr",
     "output_type": "stream",
     "text": [
      "/Users/examsherpa/miniconda3/envs/tf-env/lib/python3.8/site-packages/sklearn/neural_network/_base.py:173: RuntimeWarning: overflow encountered in square\n",
      "  return ((y_true - y_pred) ** 2).mean() / 2\n",
      "/Users/examsherpa/miniconda3/envs/tf-env/lib/python3.8/site-packages/sklearn/utils/extmath.py:193: RuntimeWarning: overflow encountered in matmul\n",
      "  ret = a @ b\n",
      "/Users/examsherpa/miniconda3/envs/tf-env/lib/python3.8/site-packages/sklearn/utils/extmath.py:193: RuntimeWarning: invalid value encountered in matmul\n",
      "  ret = a @ b\n"
     ]
    },
    {
     "name": "stdout",
     "output_type": "stream",
     "text": [
      "[CV] END activation=tanh, alpha=0.021976421957307025, hidden_layer_sizes=(100, 50, 100), learning_rate=constant, solver=sgd; total time=   4.3s\n"
     ]
    },
    {
     "name": "stderr",
     "output_type": "stream",
     "text": [
      "/Users/examsherpa/miniconda3/envs/tf-env/lib/python3.8/site-packages/sklearn/neural_network/_base.py:173: RuntimeWarning: overflow encountered in square\n",
      "  return ((y_true - y_pred) ** 2).mean() / 2\n",
      "/Users/examsherpa/miniconda3/envs/tf-env/lib/python3.8/site-packages/sklearn/utils/extmath.py:193: RuntimeWarning: overflow encountered in matmul\n",
      "  ret = a @ b\n",
      "/Users/examsherpa/miniconda3/envs/tf-env/lib/python3.8/site-packages/sklearn/utils/extmath.py:193: RuntimeWarning: invalid value encountered in matmul\n",
      "  ret = a @ b\n"
     ]
    },
    {
     "name": "stdout",
     "output_type": "stream",
     "text": [
      "[CV] END activation=tanh, alpha=0.021976421957307025, hidden_layer_sizes=(100, 50, 100), learning_rate=constant, solver=sgd; total time=   6.7s\n"
     ]
    },
    {
     "name": "stderr",
     "output_type": "stream",
     "text": [
      "/Users/examsherpa/miniconda3/envs/tf-env/lib/python3.8/site-packages/sklearn/neural_network/_base.py:173: RuntimeWarning: overflow encountered in square\n",
      "  return ((y_true - y_pred) ** 2).mean() / 2\n",
      "/Users/examsherpa/miniconda3/envs/tf-env/lib/python3.8/site-packages/sklearn/utils/extmath.py:193: RuntimeWarning: overflow encountered in matmul\n",
      "  ret = a @ b\n",
      "/Users/examsherpa/miniconda3/envs/tf-env/lib/python3.8/site-packages/sklearn/utils/extmath.py:193: RuntimeWarning: invalid value encountered in matmul\n",
      "  ret = a @ b\n"
     ]
    },
    {
     "name": "stdout",
     "output_type": "stream",
     "text": [
      "[CV] END activation=relu, alpha=0.027041233379852148, hidden_layer_sizes=(100, 50, 100), learning_rate=constant, solver=adam; total time=  15.8s\n",
      "[CV] END activation=relu, alpha=0.027041233379852148, hidden_layer_sizes=(100, 50, 100), learning_rate=constant, solver=adam; total time=  12.0s\n",
      "[CV] END activation=tanh, alpha=0.021976421957307025, hidden_layer_sizes=(100, 50, 100), learning_rate=constant, solver=sgd; total time=  11.9s\n",
      "[CV] END activation=relu, alpha=0.027041233379852148, hidden_layer_sizes=(100, 50, 100), learning_rate=constant, solver=adam; total time=  19.3s\n",
      "[CV] END activation=relu, alpha=0.027041233379852148, hidden_layer_sizes=(100, 50, 100), learning_rate=constant, solver=adam; total time=  24.0s\n",
      "[CV] END activation=tanh, alpha=0.06973042728397884, hidden_layer_sizes=(50, 50), learning_rate=constant, solver=adam; total time=   8.0s\n"
     ]
    },
    {
     "name": "stderr",
     "output_type": "stream",
     "text": [
      "/Users/examsherpa/miniconda3/envs/tf-env/lib/python3.8/site-packages/sklearn/utils/extmath.py:193: RuntimeWarning: overflow encountered in matmul\n",
      "  ret = a @ b\n",
      "/Users/examsherpa/miniconda3/envs/tf-env/lib/python3.8/site-packages/sklearn/utils/extmath.py:193: RuntimeWarning: invalid value encountered in matmul\n",
      "  ret = a @ b\n"
     ]
    },
    {
     "name": "stdout",
     "output_type": "stream",
     "text": [
      "[CV] END activation=tanh, alpha=0.06973042728397884, hidden_layer_sizes=(50, 50), learning_rate=constant, solver=adam; total time=   8.4s\n"
     ]
    },
    {
     "name": "stderr",
     "output_type": "stream",
     "text": [
      "/Users/examsherpa/miniconda3/envs/tf-env/lib/python3.8/site-packages/sklearn/neural_network/_base.py:173: RuntimeWarning: overflow encountered in square\n",
      "  return ((y_true - y_pred) ** 2).mean() / 2\n",
      "/Users/examsherpa/miniconda3/envs/tf-env/lib/python3.8/site-packages/sklearn/utils/extmath.py:193: RuntimeWarning: overflow encountered in matmul\n",
      "  ret = a @ b\n",
      "/Users/examsherpa/miniconda3/envs/tf-env/lib/python3.8/site-packages/sklearn/utils/extmath.py:193: RuntimeWarning: invalid value encountered in matmul\n",
      "  ret = a @ b\n"
     ]
    },
    {
     "name": "stdout",
     "output_type": "stream",
     "text": [
      "[CV] END activation=tanh, alpha=0.06973042728397884, hidden_layer_sizes=(50, 50), learning_rate=constant, solver=adam; total time=   6.4s\n"
     ]
    },
    {
     "name": "stderr",
     "output_type": "stream",
     "text": [
      "/Users/examsherpa/miniconda3/envs/tf-env/lib/python3.8/site-packages/sklearn/neural_network/_base.py:173: RuntimeWarning: overflow encountered in square\n",
      "  return ((y_true - y_pred) ** 2).mean() / 2\n",
      "/Users/examsherpa/miniconda3/envs/tf-env/lib/python3.8/site-packages/sklearn/utils/extmath.py:193: RuntimeWarning: overflow encountered in matmul\n",
      "  ret = a @ b\n",
      "/Users/examsherpa/miniconda3/envs/tf-env/lib/python3.8/site-packages/sklearn/utils/extmath.py:193: RuntimeWarning: invalid value encountered in matmul\n",
      "  ret = a @ b\n"
     ]
    },
    {
     "name": "stdout",
     "output_type": "stream",
     "text": [
      "[CV] END activation=tanh, alpha=0.06973042728397884, hidden_layer_sizes=(50, 50), learning_rate=constant, solver=adam; total time=   6.5s\n"
     ]
    },
    {
     "name": "stderr",
     "output_type": "stream",
     "text": [
      "/Users/examsherpa/miniconda3/envs/tf-env/lib/python3.8/site-packages/sklearn/neural_network/_base.py:173: RuntimeWarning: overflow encountered in square\n",
      "  return ((y_true - y_pred) ** 2).mean() / 2\n",
      "/Users/examsherpa/miniconda3/envs/tf-env/lib/python3.8/site-packages/sklearn/utils/extmath.py:193: RuntimeWarning: overflow encountered in matmul\n",
      "  ret = a @ b\n",
      "/Users/examsherpa/miniconda3/envs/tf-env/lib/python3.8/site-packages/sklearn/utils/extmath.py:193: RuntimeWarning: invalid value encountered in matmul\n",
      "  ret = a @ b\n"
     ]
    },
    {
     "name": "stdout",
     "output_type": "stream",
     "text": [
      "[CV] END activation=tanh, alpha=0.06973042728397884, hidden_layer_sizes=(50, 50), learning_rate=constant, solver=adam; total time=   9.1s\n"
     ]
    },
    {
     "name": "stderr",
     "output_type": "stream",
     "text": [
      "/Users/examsherpa/miniconda3/envs/tf-env/lib/python3.8/site-packages/sklearn/neural_network/_base.py:173: RuntimeWarning: overflow encountered in square\n",
      "  return ((y_true - y_pred) ** 2).mean() / 2\n",
      "/Users/examsherpa/miniconda3/envs/tf-env/lib/python3.8/site-packages/sklearn/utils/extmath.py:193: RuntimeWarning: overflow encountered in matmul\n",
      "  ret = a @ b\n",
      "/Users/examsherpa/miniconda3/envs/tf-env/lib/python3.8/site-packages/sklearn/utils/extmath.py:193: RuntimeWarning: invalid value encountered in matmul\n",
      "  ret = a @ b\n",
      "/Users/examsherpa/miniconda3/envs/tf-env/lib/python3.8/site-packages/sklearn/neural_network/_multilayer_perceptron.py:691: ConvergenceWarning: Stochastic Optimizer: Maximum iterations (1000) reached and the optimization hasn't converged yet.\n",
      "  warnings.warn(\n"
     ]
    },
    {
     "name": "stdout",
     "output_type": "stream",
     "text": [
      "[CV] END activation=relu, alpha=0.006589224710898157, hidden_layer_sizes=(100,), learning_rate=adaptive, solver=sgd; total time= 1.2min\n"
     ]
    },
    {
     "name": "stderr",
     "output_type": "stream",
     "text": [
      "/Users/examsherpa/miniconda3/envs/tf-env/lib/python3.8/site-packages/sklearn/neural_network/_multilayer_perceptron.py:691: ConvergenceWarning: Stochastic Optimizer: Maximum iterations (1000) reached and the optimization hasn't converged yet.\n",
      "  warnings.warn(\n"
     ]
    },
    {
     "name": "stdout",
     "output_type": "stream",
     "text": [
      "[CV] END activation=relu, alpha=0.006589224710898157, hidden_layer_sizes=(100,), learning_rate=adaptive, solver=sgd; total time= 1.2min\n"
     ]
    },
    {
     "name": "stderr",
     "output_type": "stream",
     "text": [
      "/Users/examsherpa/miniconda3/envs/tf-env/lib/python3.8/site-packages/sklearn/neural_network/_multilayer_perceptron.py:691: ConvergenceWarning: Stochastic Optimizer: Maximum iterations (1000) reached and the optimization hasn't converged yet.\n",
      "  warnings.warn(\n"
     ]
    },
    {
     "name": "stdout",
     "output_type": "stream",
     "text": [
      "[CV] END activation=relu, alpha=0.006589224710898157, hidden_layer_sizes=(100,), learning_rate=adaptive, solver=sgd; total time= 1.2min\n",
      "[CV] END activation=tanh, alpha=0.041203701331823134, hidden_layer_sizes=(50, 50), learning_rate=constant, solver=sgd; total time=   2.6s\n"
     ]
    },
    {
     "name": "stderr",
     "output_type": "stream",
     "text": [
      "/Users/examsherpa/miniconda3/envs/tf-env/lib/python3.8/site-packages/sklearn/neural_network/_multilayer_perceptron.py:691: ConvergenceWarning: Stochastic Optimizer: Maximum iterations (1000) reached and the optimization hasn't converged yet.\n",
      "  warnings.warn(\n"
     ]
    },
    {
     "name": "stdout",
     "output_type": "stream",
     "text": [
      "[CV] END activation=relu, alpha=0.006589224710898157, hidden_layer_sizes=(100,), learning_rate=adaptive, solver=sgd; total time= 1.2min\n"
     ]
    },
    {
     "name": "stderr",
     "output_type": "stream",
     "text": [
      "/Users/examsherpa/miniconda3/envs/tf-env/lib/python3.8/site-packages/sklearn/neural_network/_multilayer_perceptron.py:691: ConvergenceWarning: Stochastic Optimizer: Maximum iterations (1000) reached and the optimization hasn't converged yet.\n",
      "  warnings.warn(\n"
     ]
    },
    {
     "name": "stdout",
     "output_type": "stream",
     "text": [
      "[CV] END activation=relu, alpha=0.006589224710898157, hidden_layer_sizes=(100,), learning_rate=adaptive, solver=sgd; total time= 1.2min\n",
      "[CV] END activation=tanh, alpha=0.041203701331823134, hidden_layer_sizes=(50, 50), learning_rate=constant, solver=sgd; total time=  11.6s\n",
      "[CV] END activation=tanh, alpha=0.041203701331823134, hidden_layer_sizes=(50, 50), learning_rate=constant, solver=sgd; total time=  12.3s\n"
     ]
    },
    {
     "name": "stderr",
     "output_type": "stream",
     "text": [
      "/Users/examsherpa/miniconda3/envs/tf-env/lib/python3.8/site-packages/sklearn/neural_network/_multilayer_perceptron.py:691: ConvergenceWarning: Stochastic Optimizer: Maximum iterations (1000) reached and the optimization hasn't converged yet.\n",
      "  warnings.warn(\n"
     ]
    },
    {
     "name": "stdout",
     "output_type": "stream",
     "text": [
      "[CV] END activation=relu, alpha=0.09987404850489419, hidden_layer_sizes=(50, 50), learning_rate=constant, solver=sgd; total time= 1.2min\n"
     ]
    },
    {
     "name": "stderr",
     "output_type": "stream",
     "text": [
      "/Users/examsherpa/miniconda3/envs/tf-env/lib/python3.8/site-packages/sklearn/neural_network/_multilayer_perceptron.py:691: ConvergenceWarning: Stochastic Optimizer: Maximum iterations (1000) reached and the optimization hasn't converged yet.\n",
      "  warnings.warn(\n"
     ]
    },
    {
     "name": "stdout",
     "output_type": "stream",
     "text": [
      "[CV] END activation=relu, alpha=0.09987404850489419, hidden_layer_sizes=(50, 50), learning_rate=constant, solver=sgd; total time= 1.2min\n",
      "[CV] END activation=tanh, alpha=0.041203701331823134, hidden_layer_sizes=(50, 50), learning_rate=constant, solver=sgd; total time=  13.4s\n"
     ]
    },
    {
     "name": "stderr",
     "output_type": "stream",
     "text": [
      "/Users/examsherpa/miniconda3/envs/tf-env/lib/python3.8/site-packages/sklearn/neural_network/_multilayer_perceptron.py:691: ConvergenceWarning: Stochastic Optimizer: Maximum iterations (1000) reached and the optimization hasn't converged yet.\n",
      "  warnings.warn(\n"
     ]
    },
    {
     "name": "stdout",
     "output_type": "stream",
     "text": [
      "[CV] END activation=relu, alpha=0.09987404850489419, hidden_layer_sizes=(50, 50), learning_rate=constant, solver=sgd; total time= 1.2min\n"
     ]
    },
    {
     "name": "stderr",
     "output_type": "stream",
     "text": [
      "/Users/examsherpa/miniconda3/envs/tf-env/lib/python3.8/site-packages/sklearn/neural_network/_multilayer_perceptron.py:691: ConvergenceWarning: Stochastic Optimizer: Maximum iterations (1000) reached and the optimization hasn't converged yet.\n",
      "  warnings.warn(\n"
     ]
    },
    {
     "name": "stdout",
     "output_type": "stream",
     "text": [
      "[CV] END activation=relu, alpha=0.09987404850489419, hidden_layer_sizes=(50, 50), learning_rate=constant, solver=sgd; total time= 1.2min\n"
     ]
    },
    {
     "name": "stderr",
     "output_type": "stream",
     "text": [
      "/Users/examsherpa/miniconda3/envs/tf-env/lib/python3.8/site-packages/sklearn/neural_network/_multilayer_perceptron.py:691: ConvergenceWarning: Stochastic Optimizer: Maximum iterations (1000) reached and the optimization hasn't converged yet.\n",
      "  warnings.warn(\n"
     ]
    },
    {
     "name": "stdout",
     "output_type": "stream",
     "text": [
      "[CV] END activation=relu, alpha=0.09987404850489419, hidden_layer_sizes=(50, 50), learning_rate=constant, solver=sgd; total time= 1.2min\n",
      "[CV] END activation=tanh, alpha=0.041203701331823134, hidden_layer_sizes=(50, 50), learning_rate=constant, solver=sgd; total time=  25.4s\n"
     ]
    },
    {
     "name": "stderr",
     "output_type": "stream",
     "text": [
      "/Users/examsherpa/miniconda3/envs/tf-env/lib/python3.8/site-packages/sklearn/model_selection/_validation.py:425: FitFailedWarning: \n",
      "55 fits failed out of a total of 250.\n",
      "The score on these train-test partitions for these parameters will be set to nan.\n",
      "If these failures are not expected, you can try to debug them by setting error_score='raise'.\n",
      "\n",
      "Below are more details about the failures:\n",
      "--------------------------------------------------------------------------------\n",
      "55 fits failed with the following error:\n",
      "Traceback (most recent call last):\n",
      "  File \"/Users/examsherpa/miniconda3/envs/tf-env/lib/python3.8/site-packages/sklearn/model_selection/_validation.py\", line 732, in _fit_and_score\n",
      "    estimator.fit(X_train, y_train, **fit_params)\n",
      "  File \"/Users/examsherpa/miniconda3/envs/tf-env/lib/python3.8/site-packages/sklearn/base.py\", line 1151, in wrapper\n",
      "    return fit_method(estimator, *args, **kwargs)\n",
      "  File \"/Users/examsherpa/miniconda3/envs/tf-env/lib/python3.8/site-packages/sklearn/neural_network/_multilayer_perceptron.py\", line 753, in fit\n",
      "    return self._fit(X, y, incremental=False)\n",
      "  File \"/Users/examsherpa/miniconda3/envs/tf-env/lib/python3.8/site-packages/sklearn/neural_network/_multilayer_perceptron.py\", line 496, in _fit\n",
      "    raise ValueError(\n",
      "ValueError: Solver produced non-finite parameter weights. The input data may contain large values and need to be preprocessed.\n",
      "\n",
      "  warnings.warn(some_fits_failed_message, FitFailedWarning)\n",
      "/Users/examsherpa/miniconda3/envs/tf-env/lib/python3.8/site-packages/sklearn/model_selection/_search.py:976: UserWarning: One or more of the test scores are non-finite: [            nan -2.74705863e+03             nan  7.37495114e-03\n",
      " -1.20697370e-02 -2.82876113e+05  5.27186316e-01  5.29342455e-01\n",
      "  2.38675558e-02 -7.91418986e+03             nan  1.15659411e-02\n",
      "             nan             nan             nan -1.55452118e-03\n",
      "  6.80153906e-03  1.48972089e-02  1.57549960e-02 -3.17711644e+04\n",
      "  1.99134907e-02  5.46111190e-01 -4.18275179e+03             nan\n",
      "  2.09827020e-02             nan -1.12258018e+02  2.87963196e-01\n",
      "             nan  4.76947806e-01 -2.47290307e+03  4.92828705e-01\n",
      "             nan -2.90726948e+01  5.37360017e-01 -1.75300650e+04\n",
      "  4.84225130e-01  6.21090495e-03             nan -1.12453973e-02\n",
      "  8.49191578e-03 -9.76721712e+04  1.09598116e-02  4.88913607e-01\n",
      " -1.39723541e+01  3.00651257e-02             nan  5.11660519e-01\n",
      "             nan  2.85652100e-02]\n",
      "  warnings.warn(\n"
     ]
    },
    {
     "name": "stdout",
     "output_type": "stream",
     "text": [
      "Best hyperparameters: {'activation': 'tanh', 'alpha': 0.0966255307264138, 'hidden_layer_sizes': (100, 50, 100), 'learning_rate': 'adaptive', 'solver': 'adam'}\n"
     ]
    }
   ],
   "source": [
    "from sklearn.neural_network import MLPRegressor\n",
    "\n",
    "X_train, X_test, y_train, y_test = train_test_split(X, y, test_size=0.2, random_state=42)\n",
    "\n",
    "# Define the MLPRegressor model\n",
    "mlp_model = MLPRegressor(random_state=42, max_iter=1000)\n",
    "\n",
    "# Define the hyperparameter grid\n",
    "param_dist = {\n",
    "    'hidden_layer_sizes': [(50,), (100,), (50,50), (100,50,100)],  # Layer sizes\n",
    "    'activation': ['relu', 'tanh'],                               # Activation function\n",
    "    'solver': ['adam', 'sgd'],                                    # Optimization algorithm\n",
    "    'alpha': uniform(0.0001, 0.1),                                # Regularization term\n",
    "    'learning_rate': ['constant', 'adaptive']\n",
    "}\n",
    "\n",
    "# RandomizedSearchCV for MLPRegressor\n",
    "random_search = RandomizedSearchCV(\n",
    "    estimator=mlp_model,\n",
    "    param_distributions=param_dist,\n",
    "    n_iter=50,\n",
    "    cv=5,\n",
    "    verbose=2,\n",
    "    random_state=42,\n",
    "    n_jobs=-1\n",
    ")\n",
    "\n",
    "# Pipeline for preprocessing and MLP\n",
    "model_mlp = Pipeline(steps=[\n",
    "    ('preprocessor', preprocessor),\n",
    "    ('random_search', random_search)\n",
    "])\n",
    "\n",
    "# Fit the model\n",
    "model_mlp.fit(X_train, y_train)\n",
    "\n",
    "# Best parameters\n",
    "print(f\"Best hyperparameters: {model_mlp.named_steps['random_search'].best_params_}\")"
   ]
  },
  {
   "cell_type": "code",
   "execution_count": 65,
   "metadata": {},
   "outputs": [
    {
     "name": "stdout",
     "output_type": "stream",
     "text": [
      "RMSE: 2.0269209708298157\n",
      "R²: 0.49448013648995015\n"
     ]
    }
   ],
   "source": [
    "# Make predictions and evaluate the model\n",
    "y_pred_mlp = model_mlp.predict(X_test)\n",
    "rmse_mlp = np.sqrt(mean_squared_error(y_test, y_pred_mlp))\n",
    "r2_mlp = r2_score(y_test, y_pred_mlp)\n",
    "print(f\"RMSE: {rmse_mlp}\")\n",
    "print(f\"R²: {r2_mlp}\")"
   ]
  },
  {
   "cell_type": "markdown",
   "metadata": {},
   "source": [
    "## Stacking Regressor"
   ]
  },
  {
   "cell_type": "code",
   "execution_count": 66,
   "metadata": {},
   "outputs": [
    {
     "name": "stdout",
     "output_type": "stream",
     "text": [
      "Cross-validated RMSE: 0.7806287704794131\n"
     ]
    }
   ],
   "source": [
    "from sklearn.model_selection import train_test_split\n",
    "from sklearn.ensemble import RandomForestRegressor\n",
    "from sklearn.linear_model import LinearRegression\n",
    "from sklearn.ensemble import StackingRegressor\n",
    "from xgboost import XGBRegressor\n",
    "from sklearn.metrics import mean_squared_error\n",
    "\n",
    "from sklearn.model_selection import cross_val_score\n",
    "from sklearn.ensemble import StackingRegressor\n",
    "from sklearn.model_selection import KFold\n",
    "\n",
    "# Set up the base models\n",
    "base_models = [\n",
    "    ('xgb', XGBRegressor(n_estimators=100, random_state=42)),\n",
    "    ('rf', RandomForestRegressor(n_estimators=100, random_state=42)),\n",
    "    ('lr', LinearRegression())\n",
    "]\n",
    "\n",
    "# Define the meta-model (could be another XGBoost or any regressor)\n",
    "meta_model = XGBRegressor(n_estimators=50, random_state=42)\n",
    "\n",
    "# Create the StackingRegressor\n",
    "stacked_model = StackingRegressor(estimators=base_models, final_estimator=meta_model)\n",
    "\n",
    "# Apply K-Fold Cross-Validation\n",
    "kfold = KFold(n_splits=5, shuffle=True, random_state=42)\n",
    "\n",
    "# Train and evaluate using cross-validation\n",
    "cross_val_scores = cross_val_score(stacked_model, X, y, cv=kfold, scoring='neg_mean_squared_error')\n",
    "\n",
    "# Calculate mean RMSE\n",
    "rmse_scores = (-cross_val_scores) ** 0.5\n",
    "mean_rmse = rmse_scores.mean()\n",
    "\n",
    "print(f'Cross-validated RMSE: {mean_rmse}')"
   ]
  },
  {
   "cell_type": "markdown",
   "metadata": {},
   "source": [
    "## LSTM"
   ]
  },
  {
   "cell_type": "code",
   "execution_count": 120,
   "metadata": {},
   "outputs": [],
   "source": [
    "import numpy as np\n",
    "import pandas as pd\n",
    "from keras.models import Sequential\n",
    "from keras.layers import LSTM, Dense\n",
    "from sklearn.preprocessing import MinMaxScaler"
   ]
  },
  {
   "cell_type": "code",
   "execution_count": 158,
   "metadata": {},
   "outputs": [
    {
     "data": {
      "text/html": [
       "<div>\n",
       "<style scoped>\n",
       "    .dataframe tbody tr th:only-of-type {\n",
       "        vertical-align: middle;\n",
       "    }\n",
       "\n",
       "    .dataframe tbody tr th {\n",
       "        vertical-align: top;\n",
       "    }\n",
       "\n",
       "    .dataframe thead th {\n",
       "        text-align: right;\n",
       "    }\n",
       "</style>\n",
       "<table border=\"1\" class=\"dataframe\">\n",
       "  <thead>\n",
       "    <tr style=\"text-align: right;\">\n",
       "      <th></th>\n",
       "      <th>geo_code</th>\n",
       "      <th>year</th>\n",
       "      <th>access_to_exercise_opportunities</th>\n",
       "      <th>adult_obesity</th>\n",
       "      <th>adult_smoking</th>\n",
       "      <th>air_pollution_particulate_matter</th>\n",
       "      <th>alcohol_impaired_driving_deaths</th>\n",
       "      <th>children_eligible_for_free_lunch</th>\n",
       "      <th>children_in_poverty</th>\n",
       "      <th>children_in_single_parent_households</th>\n",
       "      <th>...</th>\n",
       "      <th>severe_housing_cost_burden</th>\n",
       "      <th>severe_housing_problems</th>\n",
       "      <th>sexually_transmitted_infections</th>\n",
       "      <th>single_parent_households</th>\n",
       "      <th>social_associations</th>\n",
       "      <th>some_college</th>\n",
       "      <th>teen_births</th>\n",
       "      <th>unemployment_rate</th>\n",
       "      <th>uninsured_adults</th>\n",
       "      <th>violent_crime</th>\n",
       "    </tr>\n",
       "  </thead>\n",
       "  <tbody>\n",
       "    <tr>\n",
       "      <th>0</th>\n",
       "      <td>01001</td>\n",
       "      <td>2010</td>\n",
       "      <td>0.6907</td>\n",
       "      <td>0.300</td>\n",
       "      <td>0.2814</td>\n",
       "      <td>12.5700</td>\n",
       "      <td>0.284338</td>\n",
       "      <td>0.161946</td>\n",
       "      <td>0.1380</td>\n",
       "      <td>0.2954</td>\n",
       "      <td>...</td>\n",
       "      <td>0.144260</td>\n",
       "      <td>0.096612</td>\n",
       "      <td>370.0</td>\n",
       "      <td>0.179785</td>\n",
       "      <td>13.455842</td>\n",
       "      <td>0.501062</td>\n",
       "      <td>47.513321</td>\n",
       "      <td>0.062076</td>\n",
       "      <td>0.140</td>\n",
       "      <td>256.487012</td>\n",
       "    </tr>\n",
       "    <tr>\n",
       "      <th>1</th>\n",
       "      <td>01003</td>\n",
       "      <td>2010</td>\n",
       "      <td>0.6523</td>\n",
       "      <td>0.245</td>\n",
       "      <td>0.2309</td>\n",
       "      <td>11.5998</td>\n",
       "      <td>0.321341</td>\n",
       "      <td>0.204360</td>\n",
       "      <td>0.1933</td>\n",
       "      <td>0.2852</td>\n",
       "      <td>...</td>\n",
       "      <td>0.174773</td>\n",
       "      <td>0.116501</td>\n",
       "      <td>245.9</td>\n",
       "      <td>0.138206</td>\n",
       "      <td>11.480511</td>\n",
       "      <td>0.576810</td>\n",
       "      <td>31.854171</td>\n",
       "      <td>0.065605</td>\n",
       "      <td>0.209</td>\n",
       "      <td>171.623233</td>\n",
       "    </tr>\n",
       "    <tr>\n",
       "      <th>2</th>\n",
       "      <td>01005</td>\n",
       "      <td>2010</td>\n",
       "      <td>0.3645</td>\n",
       "      <td>0.364</td>\n",
       "      <td>0.2268</td>\n",
       "      <td>12.0202</td>\n",
       "      <td>0.404637</td>\n",
       "      <td>0.362199</td>\n",
       "      <td>0.3410</td>\n",
       "      <td>0.5196</td>\n",
       "      <td>...</td>\n",
       "      <td>0.171885</td>\n",
       "      <td>0.158040</td>\n",
       "      <td>585.7</td>\n",
       "      <td>0.225625</td>\n",
       "      <td>8.042733</td>\n",
       "      <td>0.364850</td>\n",
       "      <td>87.486157</td>\n",
       "      <td>0.095894</td>\n",
       "      <td>0.151</td>\n",
       "      <td>64.005310</td>\n",
       "    </tr>\n",
       "    <tr>\n",
       "      <th>3</th>\n",
       "      <td>01007</td>\n",
       "      <td>2010</td>\n",
       "      <td>0.3021</td>\n",
       "      <td>0.317</td>\n",
       "      <td>0.2746</td>\n",
       "      <td>11.6488</td>\n",
       "      <td>0.275008</td>\n",
       "      <td>0.161418</td>\n",
       "      <td>0.2420</td>\n",
       "      <td>0.3549</td>\n",
       "      <td>...</td>\n",
       "      <td>0.116541</td>\n",
       "      <td>0.066255</td>\n",
       "      <td>284.0</td>\n",
       "      <td>0.187878</td>\n",
       "      <td>9.764098</td>\n",
       "      <td>0.322305</td>\n",
       "      <td>30.716724</td>\n",
       "      <td>0.091338</td>\n",
       "      <td>0.177</td>\n",
       "      <td>127.580788</td>\n",
       "    </tr>\n",
       "    <tr>\n",
       "      <th>4</th>\n",
       "      <td>01009</td>\n",
       "      <td>2010</td>\n",
       "      <td>0.2168</td>\n",
       "      <td>0.315</td>\n",
       "      <td>0.2342</td>\n",
       "      <td>12.5406</td>\n",
       "      <td>0.190252</td>\n",
       "      <td>0.201278</td>\n",
       "      <td>0.1850</td>\n",
       "      <td>0.2530</td>\n",
       "      <td>...</td>\n",
       "      <td>0.152476</td>\n",
       "      <td>0.068867</td>\n",
       "      <td>85.1</td>\n",
       "      <td>0.142587</td>\n",
       "      <td>8.418282</td>\n",
       "      <td>0.382355</td>\n",
       "      <td>36.640361</td>\n",
       "      <td>0.075270</td>\n",
       "      <td>0.208</td>\n",
       "      <td>93.782854</td>\n",
       "    </tr>\n",
       "  </tbody>\n",
       "</table>\n",
       "<p>5 rows × 95 columns</p>\n",
       "</div>"
      ],
      "text/plain": [
       "  geo_code  year  access_to_exercise_opportunities  adult_obesity  \\\n",
       "0    01001  2010                            0.6907          0.300   \n",
       "1    01003  2010                            0.6523          0.245   \n",
       "2    01005  2010                            0.3645          0.364   \n",
       "3    01007  2010                            0.3021          0.317   \n",
       "4    01009  2010                            0.2168          0.315   \n",
       "\n",
       "   adult_smoking  air_pollution_particulate_matter  \\\n",
       "0         0.2814                           12.5700   \n",
       "1         0.2309                           11.5998   \n",
       "2         0.2268                           12.0202   \n",
       "3         0.2746                           11.6488   \n",
       "4         0.2342                           12.5406   \n",
       "\n",
       "   alcohol_impaired_driving_deaths  children_eligible_for_free_lunch  \\\n",
       "0                         0.284338                          0.161946   \n",
       "1                         0.321341                          0.204360   \n",
       "2                         0.404637                          0.362199   \n",
       "3                         0.275008                          0.161418   \n",
       "4                         0.190252                          0.201278   \n",
       "\n",
       "   children_in_poverty  children_in_single_parent_households  ...  \\\n",
       "0               0.1380                                0.2954  ...   \n",
       "1               0.1933                                0.2852  ...   \n",
       "2               0.3410                                0.5196  ...   \n",
       "3               0.2420                                0.3549  ...   \n",
       "4               0.1850                                0.2530  ...   \n",
       "\n",
       "   severe_housing_cost_burden  severe_housing_problems  \\\n",
       "0                    0.144260                 0.096612   \n",
       "1                    0.174773                 0.116501   \n",
       "2                    0.171885                 0.158040   \n",
       "3                    0.116541                 0.066255   \n",
       "4                    0.152476                 0.068867   \n",
       "\n",
       "   sexually_transmitted_infections  single_parent_households  \\\n",
       "0                            370.0                  0.179785   \n",
       "1                            245.9                  0.138206   \n",
       "2                            585.7                  0.225625   \n",
       "3                            284.0                  0.187878   \n",
       "4                             85.1                  0.142587   \n",
       "\n",
       "   social_associations  some_college  teen_births  unemployment_rate  \\\n",
       "0            13.455842      0.501062    47.513321           0.062076   \n",
       "1            11.480511      0.576810    31.854171           0.065605   \n",
       "2             8.042733      0.364850    87.486157           0.095894   \n",
       "3             9.764098      0.322305    30.716724           0.091338   \n",
       "4             8.418282      0.382355    36.640361           0.075270   \n",
       "\n",
       "   uninsured_adults  violent_crime  \n",
       "0             0.140     256.487012  \n",
       "1             0.209     171.623233  \n",
       "2             0.151      64.005310  \n",
       "3             0.177     127.580788  \n",
       "4             0.208      93.782854  \n",
       "\n",
       "[5 rows x 95 columns]"
      ]
     },
     "execution_count": 158,
     "metadata": {},
     "output_type": "execute_result"
    }
   ],
   "source": [
    "data = pd.read_csv('chr_census_2010_2024.csv', index_col=0, dtype={\"geo_code\": str, \"year\": int})\n",
    "data = data.drop(columns=[\"geo_full_name\", \"geo_name\", \"state\", \"state_code\"])\n",
    "data.head()"
   ]
  },
  {
   "cell_type": "code",
   "execution_count": 159,
   "metadata": {},
   "outputs": [],
   "source": [
    "# Step 1: Normalize features\n",
    "scalers = {}\n",
    "for county in data['geo_code'].unique():\n",
    "    scaler = MinMaxScaler(feature_range=(0, 1))\n",
    "    county_data = data[data['geo_code'] == county].drop(columns=['geo_code', 'year'])\n",
    "    scaled_data = scaler.fit_transform(county_data)\n",
    "    scalers[county] = scaler\n",
    "    data.loc[data['geo_code'] == county, county_data.columns] = scaled_data"
   ]
  },
  {
   "cell_type": "code",
   "execution_count": 160,
   "metadata": {},
   "outputs": [],
   "source": [
    "# Step 2: Function to create sequences for each county\n",
    "def create_county_sequences(data, look_back=1):\n",
    "    X, Y = [], []\n",
    "    for county in data['geo_code'].unique():\n",
    "        county_data = data[data['geo_code'] == county].drop(columns=['geo_code', 'year'])\n",
    "        county_life_expectancy = data[data['geo_code'] == county]['life_expectancy'].values\n",
    "        for i in range(len(county_data) - look_back):\n",
    "            X.append(county_data.iloc[i:(i + look_back)].values)\n",
    "            Y.append(county_life_expectancy[i + look_back])\n",
    "    return np.array(X), np.array(Y)\n",
    "\n",
    "look_back = 5\n",
    "\n",
    "X, y = create_county_sequences(data, look_back)"
   ]
  },
  {
   "cell_type": "code",
   "execution_count": 163,
   "metadata": {},
   "outputs": [
    {
     "name": "stdout",
     "output_type": "stream",
     "text": [
      "Epoch 1/100\n"
     ]
    },
    {
     "name": "stderr",
     "output_type": "stream",
     "text": [
      "2024-09-16 12:43:52.166758: I tensorflow/core/grappler/optimizers/custom_graph_optimizer_registry.cc:114] Plugin optimizer for device_type GPU is enabled.\n",
      "2024-09-16 12:43:52.297329: I tensorflow/core/grappler/optimizers/custom_graph_optimizer_registry.cc:114] Plugin optimizer for device_type GPU is enabled.\n",
      "2024-09-16 12:43:52.405005: I tensorflow/core/grappler/optimizers/custom_graph_optimizer_registry.cc:114] Plugin optimizer for device_type GPU is enabled.\n"
     ]
    },
    {
     "name": "stdout",
     "output_type": "stream",
     "text": [
      "786/786 - 8s - loss: 0.0439 - 8s/epoch - 10ms/step\n",
      "Epoch 2/100\n",
      "786/786 - 5s - loss: 0.0332 - 5s/epoch - 6ms/step\n",
      "Epoch 3/100\n",
      "786/786 - 5s - loss: 0.0311 - 5s/epoch - 6ms/step\n",
      "Epoch 4/100\n",
      "786/786 - 5s - loss: 0.0300 - 5s/epoch - 6ms/step\n",
      "Epoch 5/100\n",
      "786/786 - 5s - loss: 0.0284 - 5s/epoch - 6ms/step\n",
      "Epoch 6/100\n",
      "786/786 - 5s - loss: 0.0273 - 5s/epoch - 7ms/step\n",
      "Epoch 7/100\n",
      "786/786 - 5s - loss: 0.0262 - 5s/epoch - 6ms/step\n",
      "Epoch 8/100\n",
      "786/786 - 5s - loss: 0.0253 - 5s/epoch - 6ms/step\n",
      "Epoch 9/100\n",
      "786/786 - 5s - loss: 0.0243 - 5s/epoch - 6ms/step\n",
      "Epoch 10/100\n",
      "786/786 - 5s - loss: 0.0236 - 5s/epoch - 6ms/step\n",
      "Epoch 11/100\n",
      "786/786 - 5s - loss: 0.0227 - 5s/epoch - 7ms/step\n",
      "Epoch 12/100\n",
      "786/786 - 5s - loss: 0.0220 - 5s/epoch - 7ms/step\n",
      "Epoch 13/100\n",
      "786/786 - 5s - loss: 0.0214 - 5s/epoch - 7ms/step\n",
      "Epoch 14/100\n",
      "786/786 - 5s - loss: 0.0207 - 5s/epoch - 6ms/step\n",
      "Epoch 15/100\n",
      "786/786 - 5s - loss: 0.0202 - 5s/epoch - 6ms/step\n",
      "Epoch 16/100\n",
      "786/786 - 5s - loss: 0.0194 - 5s/epoch - 7ms/step\n",
      "Epoch 17/100\n",
      "786/786 - 5s - loss: 0.0187 - 5s/epoch - 6ms/step\n",
      "Epoch 18/100\n",
      "786/786 - 5s - loss: 0.0181 - 5s/epoch - 6ms/step\n",
      "Epoch 19/100\n",
      "786/786 - 5s - loss: 0.0174 - 5s/epoch - 6ms/step\n",
      "Epoch 20/100\n",
      "786/786 - 5s - loss: 0.0170 - 5s/epoch - 6ms/step\n",
      "Epoch 21/100\n",
      "786/786 - 5s - loss: 0.0163 - 5s/epoch - 6ms/step\n",
      "Epoch 22/100\n",
      "786/786 - 5s - loss: 0.0156 - 5s/epoch - 6ms/step\n",
      "Epoch 23/100\n",
      "786/786 - 5s - loss: 0.0152 - 5s/epoch - 6ms/step\n",
      "Epoch 24/100\n",
      "786/786 - 5s - loss: 0.0146 - 5s/epoch - 6ms/step\n",
      "Epoch 25/100\n",
      "786/786 - 5s - loss: 0.0139 - 5s/epoch - 6ms/step\n",
      "Epoch 26/100\n",
      "786/786 - 5s - loss: 0.0135 - 5s/epoch - 6ms/step\n",
      "Epoch 27/100\n",
      "786/786 - 5s - loss: 0.0131 - 5s/epoch - 6ms/step\n",
      "Epoch 28/100\n",
      "786/786 - 5s - loss: 0.0126 - 5s/epoch - 6ms/step\n",
      "Epoch 29/100\n",
      "786/786 - 5s - loss: 0.0121 - 5s/epoch - 6ms/step\n",
      "Epoch 30/100\n",
      "786/786 - 5s - loss: 0.0117 - 5s/epoch - 6ms/step\n",
      "Epoch 31/100\n",
      "786/786 - 5s - loss: 0.0114 - 5s/epoch - 6ms/step\n",
      "Epoch 32/100\n",
      "786/786 - 5s - loss: 0.0109 - 5s/epoch - 6ms/step\n",
      "Epoch 33/100\n",
      "786/786 - 5s - loss: 0.0106 - 5s/epoch - 6ms/step\n",
      "Epoch 34/100\n",
      "786/786 - 5s - loss: 0.0101 - 5s/epoch - 6ms/step\n",
      "Epoch 35/100\n",
      "786/786 - 5s - loss: 0.0099 - 5s/epoch - 6ms/step\n",
      "Epoch 36/100\n",
      "786/786 - 5s - loss: 0.0095 - 5s/epoch - 7ms/step\n",
      "Epoch 37/100\n",
      "786/786 - 5s - loss: 0.0093 - 5s/epoch - 7ms/step\n",
      "Epoch 38/100\n",
      "786/786 - 5s - loss: 0.0090 - 5s/epoch - 7ms/step\n",
      "Epoch 39/100\n",
      "786/786 - 5s - loss: 0.0086 - 5s/epoch - 6ms/step\n",
      "Epoch 40/100\n",
      "786/786 - 5s - loss: 0.0083 - 5s/epoch - 6ms/step\n",
      "Epoch 41/100\n",
      "786/786 - 5s - loss: 0.0082 - 5s/epoch - 6ms/step\n",
      "Epoch 42/100\n",
      "786/786 - 5s - loss: 0.0078 - 5s/epoch - 6ms/step\n",
      "Epoch 43/100\n",
      "786/786 - 5s - loss: 0.0076 - 5s/epoch - 6ms/step\n",
      "Epoch 44/100\n",
      "786/786 - 5s - loss: 0.0075 - 5s/epoch - 7ms/step\n",
      "Epoch 45/100\n",
      "786/786 - 5s - loss: 0.0072 - 5s/epoch - 6ms/step\n",
      "Epoch 46/100\n",
      "786/786 - 5s - loss: 0.0070 - 5s/epoch - 6ms/step\n",
      "Epoch 47/100\n",
      "786/786 - 5s - loss: 0.0067 - 5s/epoch - 7ms/step\n",
      "Epoch 48/100\n",
      "786/786 - 5s - loss: 0.0066 - 5s/epoch - 6ms/step\n",
      "Epoch 49/100\n",
      "786/786 - 5s - loss: 0.0064 - 5s/epoch - 7ms/step\n",
      "Epoch 50/100\n",
      "786/786 - 5s - loss: 0.0062 - 5s/epoch - 6ms/step\n",
      "Epoch 51/100\n",
      "786/786 - 5s - loss: 0.0061 - 5s/epoch - 6ms/step\n",
      "Epoch 52/100\n",
      "786/786 - 5s - loss: 0.0059 - 5s/epoch - 6ms/step\n",
      "Epoch 53/100\n",
      "786/786 - 5s - loss: 0.0058 - 5s/epoch - 6ms/step\n",
      "Epoch 54/100\n",
      "786/786 - 5s - loss: 0.0057 - 5s/epoch - 6ms/step\n",
      "Epoch 55/100\n",
      "786/786 - 5s - loss: 0.0055 - 5s/epoch - 6ms/step\n",
      "Epoch 56/100\n",
      "786/786 - 5s - loss: 0.0054 - 5s/epoch - 6ms/step\n",
      "Epoch 57/100\n",
      "786/786 - 5s - loss: 0.0053 - 5s/epoch - 6ms/step\n",
      "Epoch 58/100\n",
      "786/786 - 5s - loss: 0.0051 - 5s/epoch - 6ms/step\n",
      "Epoch 59/100\n",
      "786/786 - 5s - loss: 0.0051 - 5s/epoch - 6ms/step\n",
      "Epoch 60/100\n",
      "786/786 - 5s - loss: 0.0050 - 5s/epoch - 6ms/step\n",
      "Epoch 61/100\n",
      "786/786 - 5s - loss: 0.0048 - 5s/epoch - 6ms/step\n",
      "Epoch 62/100\n",
      "786/786 - 5s - loss: 0.0047 - 5s/epoch - 6ms/step\n",
      "Epoch 63/100\n",
      "786/786 - 5s - loss: 0.0047 - 5s/epoch - 6ms/step\n",
      "Epoch 64/100\n",
      "786/786 - 5s - loss: 0.0046 - 5s/epoch - 6ms/step\n",
      "Epoch 65/100\n",
      "786/786 - 5s - loss: 0.0045 - 5s/epoch - 6ms/step\n",
      "Epoch 66/100\n",
      "786/786 - 4s - loss: 0.0043 - 4s/epoch - 6ms/step\n",
      "Epoch 67/100\n",
      "786/786 - 5s - loss: 0.0044 - 5s/epoch - 6ms/step\n",
      "Epoch 68/100\n",
      "786/786 - 4s - loss: 0.0043 - 4s/epoch - 6ms/step\n",
      "Epoch 69/100\n",
      "786/786 - 5s - loss: 0.0042 - 5s/epoch - 6ms/step\n",
      "Epoch 70/100\n",
      "786/786 - 5s - loss: 0.0041 - 5s/epoch - 6ms/step\n",
      "Epoch 71/100\n",
      "786/786 - 4s - loss: 0.0040 - 4s/epoch - 6ms/step\n",
      "Epoch 72/100\n",
      "786/786 - 4s - loss: 0.0039 - 4s/epoch - 6ms/step\n",
      "Epoch 73/100\n",
      "786/786 - 5s - loss: 0.0038 - 5s/epoch - 6ms/step\n",
      "Epoch 74/100\n",
      "786/786 - 4s - loss: 0.0037 - 4s/epoch - 6ms/step\n",
      "Epoch 75/100\n",
      "786/786 - 4s - loss: 0.0037 - 4s/epoch - 6ms/step\n",
      "Epoch 76/100\n",
      "786/786 - 5s - loss: 0.0037 - 5s/epoch - 6ms/step\n",
      "Epoch 77/100\n",
      "786/786 - 5s - loss: 0.0036 - 5s/epoch - 6ms/step\n",
      "Epoch 78/100\n",
      "786/786 - 5s - loss: 0.0035 - 5s/epoch - 6ms/step\n",
      "Epoch 79/100\n",
      "786/786 - 5s - loss: 0.0035 - 5s/epoch - 6ms/step\n",
      "Epoch 80/100\n",
      "786/786 - 5s - loss: 0.0034 - 5s/epoch - 6ms/step\n",
      "Epoch 81/100\n",
      "786/786 - 4s - loss: 0.0034 - 4s/epoch - 6ms/step\n",
      "Epoch 82/100\n",
      "786/786 - 5s - loss: 0.0034 - 5s/epoch - 6ms/step\n",
      "Epoch 83/100\n",
      "786/786 - 5s - loss: 0.0033 - 5s/epoch - 6ms/step\n",
      "Epoch 84/100\n",
      "786/786 - 5s - loss: 0.0032 - 5s/epoch - 6ms/step\n",
      "Epoch 85/100\n",
      "786/786 - 5s - loss: 0.0032 - 5s/epoch - 6ms/step\n",
      "Epoch 86/100\n",
      "786/786 - 5s - loss: 0.0031 - 5s/epoch - 6ms/step\n",
      "Epoch 87/100\n",
      "786/786 - 5s - loss: 0.0030 - 5s/epoch - 6ms/step\n",
      "Epoch 88/100\n",
      "786/786 - 5s - loss: 0.0031 - 5s/epoch - 6ms/step\n",
      "Epoch 89/100\n",
      "786/786 - 5s - loss: 0.0031 - 5s/epoch - 6ms/step\n",
      "Epoch 90/100\n",
      "786/786 - 5s - loss: 0.0029 - 5s/epoch - 6ms/step\n",
      "Epoch 91/100\n",
      "786/786 - 5s - loss: 0.0029 - 5s/epoch - 6ms/step\n",
      "Epoch 92/100\n",
      "786/786 - 5s - loss: 0.0029 - 5s/epoch - 6ms/step\n",
      "Epoch 93/100\n",
      "786/786 - 5s - loss: 0.0028 - 5s/epoch - 6ms/step\n",
      "Epoch 94/100\n",
      "786/786 - 5s - loss: 0.0027 - 5s/epoch - 6ms/step\n",
      "Epoch 95/100\n",
      "786/786 - 5s - loss: 0.0028 - 5s/epoch - 6ms/step\n",
      "Epoch 96/100\n",
      "786/786 - 5s - loss: 0.0027 - 5s/epoch - 6ms/step\n",
      "Epoch 97/100\n",
      "786/786 - 5s - loss: 0.0028 - 5s/epoch - 6ms/step\n",
      "Epoch 98/100\n",
      "786/786 - 4s - loss: 0.0026 - 4s/epoch - 6ms/step\n",
      "Epoch 99/100\n",
      "786/786 - 5s - loss: 0.0026 - 5s/epoch - 6ms/step\n",
      "Epoch 100/100\n",
      "786/786 - 5s - loss: 0.0025 - 5s/epoch - 6ms/step\n"
     ]
    },
    {
     "data": {
      "text/plain": [
       "<keras.src.callbacks.History at 0x41093cd30>"
      ]
     },
     "execution_count": 163,
     "metadata": {},
     "output_type": "execute_result"
    }
   ],
   "source": [
    "# Split data into training and testing sets (80% train, 20% test)\n",
    "X_train, X_test, y_train, y_test = train_test_split(X, y, test_size=0.2, random_state=42)\n",
    "\n",
    "# 4. Build the LSTM model\n",
    "model = Sequential()\n",
    "\n",
    "# Add LSTM layer (you can experiment with the number of neurons)\n",
    "model.add(LSTM(50, return_sequences=False, input_shape=(look_back, X_train.shape[2])))\n",
    "\n",
    "# Add Dense layer for the output (1 node for regression output)\n",
    "model.add(Dense(1))\n",
    "\n",
    "# Compile the model\n",
    "model.compile(optimizer='adam', loss='mean_squared_error')\n",
    "\n",
    "# 5. Train the model\n",
    "model.fit(X_train, y_train, epochs=100, batch_size=32, verbose=2)"
   ]
  },
  {
   "cell_type": "code",
   "execution_count": 164,
   "metadata": {},
   "outputs": [
    {
     "name": "stdout",
     "output_type": "stream",
     "text": [
      " 21/197 [==>...........................] - ETA: 0s "
     ]
    },
    {
     "name": "stderr",
     "output_type": "stream",
     "text": [
      "2024-09-16 12:52:17.091964: I tensorflow/core/grappler/optimizers/custom_graph_optimizer_registry.cc:114] Plugin optimizer for device_type GPU is enabled.\n",
      "2024-09-16 12:52:17.138476: I tensorflow/core/grappler/optimizers/custom_graph_optimizer_registry.cc:114] Plugin optimizer for device_type GPU is enabled.\n"
     ]
    },
    {
     "name": "stdout",
     "output_type": "stream",
     "text": [
      "197/197 [==============================] - 1s 6ms/step\n"
     ]
    },
    {
     "ename": "ValueError",
     "evalue": "non-broadcastable output operand with shape (1,1) doesn't match the broadcast shape (1,93)",
     "output_type": "error",
     "traceback": [
      "\u001b[0;31m---------------------------------------------------------------------------\u001b[0m",
      "\u001b[0;31mValueError\u001b[0m                                Traceback (most recent call last)",
      "Cell \u001b[0;32mIn[164], line 9\u001b[0m\n\u001b[1;32m      7\u001b[0m     county \u001b[38;5;241m=\u001b[39m data[\u001b[38;5;124m'\u001b[39m\u001b[38;5;124mgeo_code\u001b[39m\u001b[38;5;124m'\u001b[39m]\u001b[38;5;241m.\u001b[39munique()[i \u001b[38;5;241m/\u001b[39m\u001b[38;5;241m/\u001b[39m (\u001b[38;5;28mlen\u001b[39m(data) \u001b[38;5;241m/\u001b[39m\u001b[38;5;241m/\u001b[39m \u001b[38;5;28mlen\u001b[39m(data[\u001b[38;5;124m'\u001b[39m\u001b[38;5;124mgeo_code\u001b[39m\u001b[38;5;124m'\u001b[39m]\u001b[38;5;241m.\u001b[39munique()))]  \u001b[38;5;66;03m# Get the corresponding county\u001b[39;00m\n\u001b[1;32m      8\u001b[0m     scaler \u001b[38;5;241m=\u001b[39m scalers[county]\n\u001b[0;32m----> 9\u001b[0m     pred \u001b[38;5;241m=\u001b[39m \u001b[43mscaler\u001b[49m\u001b[38;5;241;43m.\u001b[39;49m\u001b[43minverse_transform\u001b[49m\u001b[43m(\u001b[49m\u001b[43my_pred_lstm\u001b[49m\u001b[43m[\u001b[49m\u001b[43mi\u001b[49m\u001b[43m]\u001b[49m\u001b[38;5;241;43m.\u001b[39;49m\u001b[43mreshape\u001b[49m\u001b[43m(\u001b[49m\u001b[38;5;241;43m1\u001b[39;49m\u001b[43m,\u001b[49m\u001b[43m \u001b[49m\u001b[38;5;241;43m-\u001b[39;49m\u001b[38;5;241;43m1\u001b[39;49m\u001b[43m)\u001b[49m\u001b[43m)\u001b[49m\n\u001b[1;32m     10\u001b[0m     inverse_predictions\u001b[38;5;241m.\u001b[39mappend(pred[\u001b[38;5;241m0\u001b[39m, \u001b[38;5;241m0\u001b[39m])\n\u001b[1;32m     12\u001b[0m \u001b[38;5;66;03m# Convert predictions to numpy array\u001b[39;00m\n",
      "File \u001b[0;32m~/miniconda3/envs/tf-env/lib/python3.8/site-packages/sklearn/preprocessing/_data.py:547\u001b[0m, in \u001b[0;36mMinMaxScaler.inverse_transform\u001b[0;34m(self, X)\u001b[0m\n\u001b[1;32m    541\u001b[0m check_is_fitted(\u001b[38;5;28mself\u001b[39m)\n\u001b[1;32m    543\u001b[0m X \u001b[38;5;241m=\u001b[39m check_array(\n\u001b[1;32m    544\u001b[0m     X, copy\u001b[38;5;241m=\u001b[39m\u001b[38;5;28mself\u001b[39m\u001b[38;5;241m.\u001b[39mcopy, dtype\u001b[38;5;241m=\u001b[39mFLOAT_DTYPES, force_all_finite\u001b[38;5;241m=\u001b[39m\u001b[38;5;124m\"\u001b[39m\u001b[38;5;124mallow-nan\u001b[39m\u001b[38;5;124m\"\u001b[39m\n\u001b[1;32m    545\u001b[0m )\n\u001b[0;32m--> 547\u001b[0m X \u001b[38;5;241m-\u001b[39m\u001b[38;5;241m=\u001b[39m \u001b[38;5;28mself\u001b[39m\u001b[38;5;241m.\u001b[39mmin_\n\u001b[1;32m    548\u001b[0m X \u001b[38;5;241m/\u001b[39m\u001b[38;5;241m=\u001b[39m \u001b[38;5;28mself\u001b[39m\u001b[38;5;241m.\u001b[39mscale_\n\u001b[1;32m    549\u001b[0m \u001b[38;5;28;01mreturn\u001b[39;00m X\n",
      "\u001b[0;31mValueError\u001b[0m: non-broadcastable output operand with shape (1,1) doesn't match the broadcast shape (1,93)"
     ]
    }
   ],
   "source": [
    "# Step 7: Make predictions\n",
    "y_pred_lstm = model.predict(X_test)\n",
    "\n",
    "# Inverse transform the predictions for each county (scale back to original scale)\n",
    "inverse_predictions = []\n",
    "for i in range(len(X_test)):\n",
    "    county = data['geo_code'].unique()[i // (len(data) // len(data['geo_code'].unique()))]  # Get the corresponding county\n",
    "    scaler = scalers[county]\n",
    "    pred = scaler.inverse_transform(y_pred_lstm[i].reshape(1, -1))\n",
    "    inverse_predictions.append(pred[0, 0])\n",
    "\n",
    "# Convert predictions to numpy array\n",
    "y_pred_rescaled_lstm = np.array(inverse_predictions)\n",
    "\n",
    "# Step 8: Evaluate the model using RMSE\n",
    "rmse_lstm = np.sqrt(mean_squared_error(y_test, y_pred_rescaled_lstm))\n",
    "r2_lstm = r2_score(y_test, y_pred_rescaled_lstm)\n",
    "print(f\"Test RMSE: {rmse_lstm}\")\n",
    "print(f\"Test R2: {r2_lstm}\")"
   ]
  },
  {
   "cell_type": "code",
   "execution_count": null,
   "metadata": {},
   "outputs": [],
   "source": [
    "# Optional: Plot the predictions vs actual\n",
    "import matplotlib.pyplot as plt\n",
    "plt.plot(y_test, label='Actual Life Expectancy')\n",
    "plt.plot(y_pred_rescaled_lstm, label='Predicted Life Expectancy')\n",
    "plt.legend()\n",
    "plt.show()"
   ]
  },
  {
   "cell_type": "code",
   "execution_count": 170,
   "metadata": {},
   "outputs": [
    {
     "data": {
      "text/html": [
       "<div>\n",
       "<style scoped>\n",
       "    .dataframe tbody tr th:only-of-type {\n",
       "        vertical-align: middle;\n",
       "    }\n",
       "\n",
       "    .dataframe tbody tr th {\n",
       "        vertical-align: top;\n",
       "    }\n",
       "\n",
       "    .dataframe thead th {\n",
       "        text-align: right;\n",
       "    }\n",
       "</style>\n",
       "<table border=\"1\" class=\"dataframe\">\n",
       "  <thead>\n",
       "    <tr style=\"text-align: right;\">\n",
       "      <th></th>\n",
       "      <th>Model</th>\n",
       "      <th>RMSE</th>\n",
       "      <th>R^2</th>\n",
       "    </tr>\n",
       "  </thead>\n",
       "  <tbody>\n",
       "    <tr>\n",
       "      <th>0</th>\n",
       "      <td>Linear Regression</td>\n",
       "      <td>1.040492</td>\n",
       "      <td>0.866788</td>\n",
       "    </tr>\n",
       "    <tr>\n",
       "      <th>1</th>\n",
       "      <td>Ridge Regression</td>\n",
       "      <td>1.044288</td>\n",
       "      <td>0.865815</td>\n",
       "    </tr>\n",
       "    <tr>\n",
       "      <th>2</th>\n",
       "      <td>Random Forest Regressor</td>\n",
       "      <td>0.787206</td>\n",
       "      <td>0.923750</td>\n",
       "    </tr>\n",
       "    <tr>\n",
       "      <th>3</th>\n",
       "      <td>Random Forest after Feature Selection</td>\n",
       "      <td>0.900966</td>\n",
       "      <td>0.900119</td>\n",
       "    </tr>\n",
       "    <tr>\n",
       "      <th>4</th>\n",
       "      <td>Random Forest with RandomizedSearchCV</td>\n",
       "      <td>0.856640</td>\n",
       "      <td>0.909706</td>\n",
       "    </tr>\n",
       "    <tr>\n",
       "      <th>5</th>\n",
       "      <td>XGBoost Regressor</td>\n",
       "      <td>0.730875</td>\n",
       "      <td>0.934272</td>\n",
       "    </tr>\n",
       "    <tr>\n",
       "      <th>6</th>\n",
       "      <td>XGBoost after Feature Selection</td>\n",
       "      <td>0.693459</td>\n",
       "      <td>0.898747</td>\n",
       "    </tr>\n",
       "    <tr>\n",
       "      <th>7</th>\n",
       "      <td>XGBoost with RandomizedSearchCV</td>\n",
       "      <td>0.907133</td>\n",
       "      <td>0.940829</td>\n",
       "    </tr>\n",
       "    <tr>\n",
       "      <th>8</th>\n",
       "      <td>LightGBM Model</td>\n",
       "      <td>0.633560</td>\n",
       "      <td>0.950610</td>\n",
       "    </tr>\n",
       "    <tr>\n",
       "      <th>9</th>\n",
       "      <td>MLP Regressor</td>\n",
       "      <td>2.026921</td>\n",
       "      <td>0.494480</td>\n",
       "    </tr>\n",
       "  </tbody>\n",
       "</table>\n",
       "</div>"
      ],
      "text/plain": [
       "                                   Model      RMSE       R^2\n",
       "0                      Linear Regression  1.040492  0.866788\n",
       "1                       Ridge Regression  1.044288  0.865815\n",
       "2                Random Forest Regressor  0.787206  0.923750\n",
       "3  Random Forest after Feature Selection  0.900966  0.900119\n",
       "4  Random Forest with RandomizedSearchCV  0.856640  0.909706\n",
       "5                      XGBoost Regressor  0.730875  0.934272\n",
       "6        XGBoost after Feature Selection  0.693459  0.898747\n",
       "7        XGBoost with RandomizedSearchCV  0.907133  0.940829\n",
       "8                         LightGBM Model  0.633560  0.950610\n",
       "9                          MLP Regressor  2.026921  0.494480"
      ]
     },
     "execution_count": 170,
     "metadata": {},
     "output_type": "execute_result"
    }
   ],
   "source": [
    "model_list = [\"Linear Regression\",\n",
    "              \"Ridge Regression\",\n",
    "              \"Random Forest Regressor\",\n",
    "              \"Random Forest after Feature Selection\",\n",
    "              \"Random Forest with RandomizedSearchCV\",\n",
    "              \"XGBoost Regressor\",\n",
    "              \"XGBoost after Feature Selection\",\n",
    "              \"XGBoost with RandomizedSearchCV\",\n",
    "              \"LightGBM Model\",\n",
    "              \"MLP Regressor\"]\n",
    "\n",
    "rmse_list = [rmse_lr, \n",
    "             rmse_ridge, \n",
    "             rmse_rf, \n",
    "             rmse_rf_sub, \n",
    "             rmse_rf_rs, \n",
    "             rmse_xgb, \n",
    "             rmse_xgb_rs, \n",
    "             rmse_xgb_sub, \n",
    "             rmse_lgb, \n",
    "             rmse_mlp]\n",
    "\n",
    "r2_list = [r2_lr,\n",
    "           r2_ridge,\n",
    "           r2_rf,\n",
    "           r2_rf_sub,\n",
    "           r2_rf_rs,\n",
    "           r2_xgb,\n",
    "           r2_xgb_sub,\n",
    "           r2_xgb_rs,\n",
    "           r2_lgb,\n",
    "           r2_mlp]\n",
    "\n",
    "pd.DataFrame(zip(model_list, rmse_list, r2_list), columns=['Model', 'RMSE', 'R^2'])"
   ]
  }
 ],
 "metadata": {
  "kernelspec": {
   "display_name": "ml-env",
   "language": "python",
   "name": "python3"
  },
  "language_info": {
   "codemirror_mode": {
    "name": "ipython",
    "version": 3
   },
   "file_extension": ".py",
   "mimetype": "text/x-python",
   "name": "python",
   "nbconvert_exporter": "python",
   "pygments_lexer": "ipython3",
   "version": "3.8.18"
  }
 },
 "nbformat": 4,
 "nbformat_minor": 2
}
